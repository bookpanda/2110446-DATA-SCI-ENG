{
 "cells": [
  {
   "cell_type": "code",
   "execution_count": 132,
   "metadata": {
    "execution": {
     "iopub.execute_input": "2025-02-27T14:03:25.924178Z",
     "iopub.status.busy": "2025-02-27T14:03:25.923869Z",
     "iopub.status.idle": "2025-02-27T14:03:33.251488Z",
     "shell.execute_reply": "2025-02-27T14:03:33.250621Z",
     "shell.execute_reply.started": "2025-02-27T14:03:25.924147Z"
    },
    "trusted": true
   },
   "outputs": [
    {
     "name": "stdout",
     "output_type": "stream",
     "text": [
      "Requirement already satisfied: evaluate in /Users/idhibhatpankam/Code/courses/DATA-SCI/.venv/lib/python3.12/site-packages (0.4.3)\n",
      "Requirement already satisfied: pythainlp in /Users/idhibhatpankam/Code/courses/DATA-SCI/.venv/lib/python3.12/site-packages (5.0.5)\n",
      "Requirement already satisfied: datasets>=2.0.0 in /Users/idhibhatpankam/Code/courses/DATA-SCI/.venv/lib/python3.12/site-packages (from evaluate) (3.3.2)\n",
      "Requirement already satisfied: numpy>=1.17 in /Users/idhibhatpankam/Code/courses/DATA-SCI/.venv/lib/python3.12/site-packages (from evaluate) (2.2.1)\n",
      "Requirement already satisfied: dill in /Users/idhibhatpankam/Code/courses/DATA-SCI/.venv/lib/python3.12/site-packages (from evaluate) (0.3.8)\n",
      "Requirement already satisfied: pandas in /Users/idhibhatpankam/Code/courses/DATA-SCI/.venv/lib/python3.12/site-packages (from evaluate) (2.2.3)\n",
      "Requirement already satisfied: requests>=2.19.0 in /Users/idhibhatpankam/Code/courses/DATA-SCI/.venv/lib/python3.12/site-packages (from evaluate) (2.32.3)\n",
      "Requirement already satisfied: tqdm>=4.62.1 in /Users/idhibhatpankam/Code/courses/DATA-SCI/.venv/lib/python3.12/site-packages (from evaluate) (4.67.1)\n",
      "Requirement already satisfied: xxhash in /Users/idhibhatpankam/Code/courses/DATA-SCI/.venv/lib/python3.12/site-packages (from evaluate) (3.5.0)\n",
      "Requirement already satisfied: multiprocess in /Users/idhibhatpankam/Code/courses/DATA-SCI/.venv/lib/python3.12/site-packages (from evaluate) (0.70.16)\n",
      "Requirement already satisfied: fsspec>=2021.05.0 in /Users/idhibhatpankam/Code/courses/DATA-SCI/.venv/lib/python3.12/site-packages (from fsspec[http]>=2021.05.0->evaluate) (2024.12.0)\n",
      "Requirement already satisfied: huggingface-hub>=0.7.0 in /Users/idhibhatpankam/Code/courses/DATA-SCI/.venv/lib/python3.12/site-packages (from evaluate) (0.27.1)\n",
      "Requirement already satisfied: packaging in /Users/idhibhatpankam/Code/courses/DATA-SCI/.venv/lib/python3.12/site-packages (from evaluate) (24.2)\n",
      "Requirement already satisfied: filelock in /Users/idhibhatpankam/Code/courses/DATA-SCI/.venv/lib/python3.12/site-packages (from datasets>=2.0.0->evaluate) (3.16.1)\n",
      "Requirement already satisfied: pyarrow>=15.0.0 in /Users/idhibhatpankam/Code/courses/DATA-SCI/.venv/lib/python3.12/site-packages (from datasets>=2.0.0->evaluate) (19.0.1)\n",
      "Requirement already satisfied: aiohttp in /Users/idhibhatpankam/Code/courses/DATA-SCI/.venv/lib/python3.12/site-packages (from datasets>=2.0.0->evaluate) (3.11.11)\n",
      "Requirement already satisfied: pyyaml>=5.1 in /Users/idhibhatpankam/Code/courses/DATA-SCI/.venv/lib/python3.12/site-packages (from datasets>=2.0.0->evaluate) (6.0.2)\n",
      "Requirement already satisfied: typing-extensions>=3.7.4.3 in /Users/idhibhatpankam/Code/courses/DATA-SCI/.venv/lib/python3.12/site-packages (from huggingface-hub>=0.7.0->evaluate) (4.12.2)\n",
      "Requirement already satisfied: charset-normalizer<4,>=2 in /Users/idhibhatpankam/Code/courses/DATA-SCI/.venv/lib/python3.12/site-packages (from requests>=2.19.0->evaluate) (3.4.1)\n",
      "Requirement already satisfied: idna<4,>=2.5 in /Users/idhibhatpankam/Code/courses/DATA-SCI/.venv/lib/python3.12/site-packages (from requests>=2.19.0->evaluate) (3.10)\n",
      "Requirement already satisfied: urllib3<3,>=1.21.1 in /Users/idhibhatpankam/Code/courses/DATA-SCI/.venv/lib/python3.12/site-packages (from requests>=2.19.0->evaluate) (2.3.0)\n",
      "Requirement already satisfied: certifi>=2017.4.17 in /Users/idhibhatpankam/Code/courses/DATA-SCI/.venv/lib/python3.12/site-packages (from requests>=2.19.0->evaluate) (2024.12.14)\n",
      "Requirement already satisfied: python-dateutil>=2.8.2 in /Users/idhibhatpankam/Code/courses/DATA-SCI/.venv/lib/python3.12/site-packages (from pandas->evaluate) (2.9.0.post0)\n",
      "Requirement already satisfied: pytz>=2020.1 in /Users/idhibhatpankam/Code/courses/DATA-SCI/.venv/lib/python3.12/site-packages (from pandas->evaluate) (2024.2)\n",
      "Requirement already satisfied: tzdata>=2022.7 in /Users/idhibhatpankam/Code/courses/DATA-SCI/.venv/lib/python3.12/site-packages (from pandas->evaluate) (2024.2)\n",
      "Requirement already satisfied: aiohappyeyeballs>=2.3.0 in /Users/idhibhatpankam/Code/courses/DATA-SCI/.venv/lib/python3.12/site-packages (from aiohttp->datasets>=2.0.0->evaluate) (2.4.4)\n",
      "Requirement already satisfied: aiosignal>=1.1.2 in /Users/idhibhatpankam/Code/courses/DATA-SCI/.venv/lib/python3.12/site-packages (from aiohttp->datasets>=2.0.0->evaluate) (1.3.2)\n",
      "Requirement already satisfied: attrs>=17.3.0 in /Users/idhibhatpankam/Code/courses/DATA-SCI/.venv/lib/python3.12/site-packages (from aiohttp->datasets>=2.0.0->evaluate) (24.3.0)\n",
      "Requirement already satisfied: frozenlist>=1.1.1 in /Users/idhibhatpankam/Code/courses/DATA-SCI/.venv/lib/python3.12/site-packages (from aiohttp->datasets>=2.0.0->evaluate) (1.5.0)\n",
      "Requirement already satisfied: multidict<7.0,>=4.5 in /Users/idhibhatpankam/Code/courses/DATA-SCI/.venv/lib/python3.12/site-packages (from aiohttp->datasets>=2.0.0->evaluate) (6.1.0)\n",
      "Requirement already satisfied: propcache>=0.2.0 in /Users/idhibhatpankam/Code/courses/DATA-SCI/.venv/lib/python3.12/site-packages (from aiohttp->datasets>=2.0.0->evaluate) (0.2.1)\n",
      "Requirement already satisfied: yarl<2.0,>=1.17.0 in /Users/idhibhatpankam/Code/courses/DATA-SCI/.venv/lib/python3.12/site-packages (from aiohttp->datasets>=2.0.0->evaluate) (1.18.3)\n",
      "Requirement already satisfied: six>=1.5 in /Users/idhibhatpankam/Code/courses/DATA-SCI/.venv/lib/python3.12/site-packages (from python-dateutil>=2.8.2->pandas->evaluate) (1.17.0)\n",
      "\n",
      "\u001b[1m[\u001b[0m\u001b[34;49mnotice\u001b[0m\u001b[1;39;49m]\u001b[0m\u001b[39;49m A new release of pip is available: \u001b[0m\u001b[31;49m24.2\u001b[0m\u001b[39;49m -> \u001b[0m\u001b[32;49m25.0.1\u001b[0m\n",
      "\u001b[1m[\u001b[0m\u001b[34;49mnotice\u001b[0m\u001b[1;39;49m]\u001b[0m\u001b[39;49m To update, run: \u001b[0m\u001b[32;49mpip install --upgrade pip\u001b[0m\n"
     ]
    }
   ],
   "source": [
    "!pip install evaluate pythainlp"
   ]
  },
  {
   "cell_type": "code",
   "execution_count": 133,
   "metadata": {
    "execution": {
     "iopub.execute_input": "2025-02-27T14:03:33.252774Z",
     "iopub.status.busy": "2025-02-27T14:03:33.252488Z",
     "iopub.status.idle": "2025-02-27T14:03:34.226688Z",
     "shell.execute_reply": "2025-02-27T14:03:34.225801Z",
     "shell.execute_reply.started": "2025-02-27T14:03:33.252752Z"
    },
    "trusted": true
   },
   "outputs": [],
   "source": [
    "%matplotlib inline\n",
    "import pandas\n",
    "import sklearn\n",
    "import re\n",
    "import numpy as np\n",
    "import matplotlib.pyplot as plt\n",
    "import pandas as pd\n",
    "\n",
    "from IPython.display import display\n",
    "from sklearn.metrics import accuracy_score, classification_report"
   ]
  },
  {
   "cell_type": "code",
   "execution_count": 134,
   "metadata": {
    "execution": {
     "iopub.execute_input": "2025-02-27T14:03:34.227853Z",
     "iopub.status.busy": "2025-02-27T14:03:34.227518Z",
     "iopub.status.idle": "2025-02-27T14:04:11.089984Z",
     "shell.execute_reply": "2025-02-27T14:04:11.089277Z",
     "shell.execute_reply.started": "2025-02-27T14:03:34.227833Z"
    },
    "trusted": true
   },
   "outputs": [],
   "source": [
    "import torch\n",
    "from transformers import AutoModelForSequenceClassification, AutoTokenizer, TrainingArguments, Trainer\n",
    "from tqdm import tqdm\n",
    "from torchmetrics.classification import MultilabelAccuracy\n",
    "from datasets import Dataset\n",
    "import pickle\n",
    "import random\n",
    "import evaluate\n",
    "from pythainlp.tokenize import word_tokenize\n",
    "from pythainlp.corpus.common import thai_stopwords"
   ]
  },
  {
   "cell_type": "code",
   "execution_count": 135,
   "metadata": {
    "execution": {
     "iopub.execute_input": "2025-02-27T14:04:11.091215Z",
     "iopub.status.busy": "2025-02-27T14:04:11.090721Z",
     "iopub.status.idle": "2025-02-27T14:04:11.115788Z",
     "shell.execute_reply": "2025-02-27T14:04:11.114945Z",
     "shell.execute_reply.started": "2025-02-27T14:04:11.091195Z"
    },
    "trusted": true
   },
   "outputs": [
    {
     "ename": "ImportError",
     "evalue": "The `notebook_login` function can only be used in a notebook (Jupyter or Colab) and you need the `ipywidgets` module: `pip install ipywidgets`.",
     "output_type": "error",
     "traceback": [
      "\u001b[0;31m---------------------------------------------------------------------------\u001b[0m",
      "\u001b[0;31mModuleNotFoundError\u001b[0m                       Traceback (most recent call last)",
      "File \u001b[0;32m~/Code/courses/DATA-SCI/.venv/lib/python3.12/site-packages/huggingface_hub/_login.py:340\u001b[0m, in \u001b[0;36mnotebook_login\u001b[0;34m(new_session, write_permission)\u001b[0m\n\u001b[1;32m    339\u001b[0m \u001b[38;5;28;01mtry\u001b[39;00m:\n\u001b[0;32m--> 340\u001b[0m     \u001b[38;5;28;01mimport\u001b[39;00m\u001b[38;5;250m \u001b[39m\u001b[38;5;21;01mipywidgets\u001b[39;00m\u001b[38;5;21;01m.\u001b[39;00m\u001b[38;5;21;01mwidgets\u001b[39;00m\u001b[38;5;250m \u001b[39m\u001b[38;5;28;01mas\u001b[39;00m\u001b[38;5;250m \u001b[39m\u001b[38;5;21;01mwidgets\u001b[39;00m  \u001b[38;5;66;03m# type: ignore\u001b[39;00m\n\u001b[1;32m    341\u001b[0m     \u001b[38;5;28;01mfrom\u001b[39;00m\u001b[38;5;250m \u001b[39m\u001b[38;5;21;01mIPython\u001b[39;00m\u001b[38;5;21;01m.\u001b[39;00m\u001b[38;5;21;01mdisplay\u001b[39;00m\u001b[38;5;250m \u001b[39m\u001b[38;5;28;01mimport\u001b[39;00m display  \u001b[38;5;66;03m# type: ignore\u001b[39;00m\n",
      "\u001b[0;31mModuleNotFoundError\u001b[0m: No module named 'ipywidgets'",
      "\nDuring handling of the above exception, another exception occurred:\n",
      "\u001b[0;31mImportError\u001b[0m                               Traceback (most recent call last)",
      "Cell \u001b[0;32mIn[135], line 3\u001b[0m\n\u001b[1;32m      1\u001b[0m \u001b[38;5;28;01mfrom\u001b[39;00m\u001b[38;5;250m \u001b[39m\u001b[38;5;21;01mhuggingface_hub\u001b[39;00m\u001b[38;5;250m \u001b[39m\u001b[38;5;28;01mimport\u001b[39;00m notebook_login\n\u001b[0;32m----> 3\u001b[0m \u001b[43mnotebook_login\u001b[49m\u001b[43m(\u001b[49m\u001b[43m)\u001b[49m\n",
      "File \u001b[0;32m~/Code/courses/DATA-SCI/.venv/lib/python3.12/site-packages/huggingface_hub/utils/_deprecation.py:101\u001b[0m, in \u001b[0;36m_deprecate_arguments.<locals>._inner_deprecate_positional_args.<locals>.inner_f\u001b[0;34m(*args, **kwargs)\u001b[0m\n\u001b[1;32m     99\u001b[0m         message \u001b[38;5;241m+\u001b[39m\u001b[38;5;241m=\u001b[39m \u001b[38;5;124m\"\u001b[39m\u001b[38;5;130;01m\\n\u001b[39;00m\u001b[38;5;130;01m\\n\u001b[39;00m\u001b[38;5;124m\"\u001b[39m \u001b[38;5;241m+\u001b[39m custom_message\n\u001b[1;32m    100\u001b[0m     warnings\u001b[38;5;241m.\u001b[39mwarn(message, \u001b[38;5;167;01mFutureWarning\u001b[39;00m)\n\u001b[0;32m--> 101\u001b[0m \u001b[38;5;28;01mreturn\u001b[39;00m \u001b[43mf\u001b[49m\u001b[43m(\u001b[49m\u001b[38;5;241;43m*\u001b[39;49m\u001b[43margs\u001b[49m\u001b[43m,\u001b[49m\u001b[43m \u001b[49m\u001b[38;5;241;43m*\u001b[39;49m\u001b[38;5;241;43m*\u001b[39;49m\u001b[43mkwargs\u001b[49m\u001b[43m)\u001b[49m\n",
      "File \u001b[0;32m~/Code/courses/DATA-SCI/.venv/lib/python3.12/site-packages/huggingface_hub/utils/_deprecation.py:31\u001b[0m, in \u001b[0;36m_deprecate_positional_args.<locals>._inner_deprecate_positional_args.<locals>.inner_f\u001b[0;34m(*args, **kwargs)\u001b[0m\n\u001b[1;32m     29\u001b[0m extra_args \u001b[38;5;241m=\u001b[39m \u001b[38;5;28mlen\u001b[39m(args) \u001b[38;5;241m-\u001b[39m \u001b[38;5;28mlen\u001b[39m(all_args)\n\u001b[1;32m     30\u001b[0m \u001b[38;5;28;01mif\u001b[39;00m extra_args \u001b[38;5;241m<\u001b[39m\u001b[38;5;241m=\u001b[39m \u001b[38;5;241m0\u001b[39m:\n\u001b[0;32m---> 31\u001b[0m     \u001b[38;5;28;01mreturn\u001b[39;00m \u001b[43mf\u001b[49m\u001b[43m(\u001b[49m\u001b[38;5;241;43m*\u001b[39;49m\u001b[43margs\u001b[49m\u001b[43m,\u001b[49m\u001b[43m \u001b[49m\u001b[38;5;241;43m*\u001b[39;49m\u001b[38;5;241;43m*\u001b[39;49m\u001b[43mkwargs\u001b[49m\u001b[43m)\u001b[49m\n\u001b[1;32m     32\u001b[0m \u001b[38;5;66;03m# extra_args > 0\u001b[39;00m\n\u001b[1;32m     33\u001b[0m args_msg \u001b[38;5;241m=\u001b[39m [\n\u001b[1;32m     34\u001b[0m     \u001b[38;5;124mf\u001b[39m\u001b[38;5;124m\"\u001b[39m\u001b[38;5;132;01m{\u001b[39;00mname\u001b[38;5;132;01m}\u001b[39;00m\u001b[38;5;124m=\u001b[39m\u001b[38;5;124m'\u001b[39m\u001b[38;5;132;01m{\u001b[39;00marg\u001b[38;5;132;01m}\u001b[39;00m\u001b[38;5;124m'\u001b[39m\u001b[38;5;124m\"\u001b[39m \u001b[38;5;28;01mif\u001b[39;00m \u001b[38;5;28misinstance\u001b[39m(arg, \u001b[38;5;28mstr\u001b[39m) \u001b[38;5;28;01melse\u001b[39;00m \u001b[38;5;124mf\u001b[39m\u001b[38;5;124m\"\u001b[39m\u001b[38;5;132;01m{\u001b[39;00mname\u001b[38;5;132;01m}\u001b[39;00m\u001b[38;5;124m=\u001b[39m\u001b[38;5;132;01m{\u001b[39;00marg\u001b[38;5;132;01m}\u001b[39;00m\u001b[38;5;124m\"\u001b[39m\n\u001b[1;32m     35\u001b[0m     \u001b[38;5;28;01mfor\u001b[39;00m name, arg \u001b[38;5;129;01min\u001b[39;00m \u001b[38;5;28mzip\u001b[39m(kwonly_args[:extra_args], args[\u001b[38;5;241m-\u001b[39mextra_args:])\n\u001b[1;32m     36\u001b[0m ]\n",
      "File \u001b[0;32m~/Code/courses/DATA-SCI/.venv/lib/python3.12/site-packages/huggingface_hub/_login.py:343\u001b[0m, in \u001b[0;36mnotebook_login\u001b[0;34m(new_session, write_permission)\u001b[0m\n\u001b[1;32m    341\u001b[0m     \u001b[38;5;28;01mfrom\u001b[39;00m\u001b[38;5;250m \u001b[39m\u001b[38;5;21;01mIPython\u001b[39;00m\u001b[38;5;21;01m.\u001b[39;00m\u001b[38;5;21;01mdisplay\u001b[39;00m\u001b[38;5;250m \u001b[39m\u001b[38;5;28;01mimport\u001b[39;00m display  \u001b[38;5;66;03m# type: ignore\u001b[39;00m\n\u001b[1;32m    342\u001b[0m \u001b[38;5;28;01mexcept\u001b[39;00m \u001b[38;5;167;01mImportError\u001b[39;00m:\n\u001b[0;32m--> 343\u001b[0m     \u001b[38;5;28;01mraise\u001b[39;00m \u001b[38;5;167;01mImportError\u001b[39;00m(\n\u001b[1;32m    344\u001b[0m         \u001b[38;5;124m\"\u001b[39m\u001b[38;5;124mThe `notebook_login` function can only be used in a notebook (Jupyter or\u001b[39m\u001b[38;5;124m\"\u001b[39m\n\u001b[1;32m    345\u001b[0m         \u001b[38;5;124m\"\u001b[39m\u001b[38;5;124m Colab) and you need the `ipywidgets` module: `pip install ipywidgets`.\u001b[39m\u001b[38;5;124m\"\u001b[39m\n\u001b[1;32m    346\u001b[0m     )\n\u001b[1;32m    347\u001b[0m \u001b[38;5;28;01mif\u001b[39;00m \u001b[38;5;129;01mnot\u001b[39;00m new_session \u001b[38;5;129;01mand\u001b[39;00m get_token() \u001b[38;5;129;01mis\u001b[39;00m \u001b[38;5;129;01mnot\u001b[39;00m \u001b[38;5;28;01mNone\u001b[39;00m:\n\u001b[1;32m    348\u001b[0m     logger\u001b[38;5;241m.\u001b[39minfo(\u001b[38;5;124m\"\u001b[39m\u001b[38;5;124mUser is already logged in.\u001b[39m\u001b[38;5;124m\"\u001b[39m)\n",
      "\u001b[0;31mImportError\u001b[0m: The `notebook_login` function can only be used in a notebook (Jupyter or Colab) and you need the `ipywidgets` module: `pip install ipywidgets`."
     ]
    }
   ],
   "source": [
    "from huggingface_hub import notebook_login\n",
    "\n",
    "notebook_login()"
   ]
  },
  {
   "cell_type": "code",
   "execution_count": 136,
   "metadata": {
    "execution": {
     "iopub.execute_input": "2025-02-27T14:04:51.356807Z",
     "iopub.status.busy": "2025-02-27T14:04:51.356478Z",
     "iopub.status.idle": "2025-02-27T14:05:00.096413Z",
     "shell.execute_reply": "2025-02-27T14:05:00.095738Z",
     "shell.execute_reply.started": "2025-02-27T14:04:51.356784Z"
    },
    "trusted": true
   },
   "outputs": [
    {
     "name": "stderr",
     "output_type": "stream",
     "text": [
      "\u001b[34m\u001b[1mwandb\u001b[0m: Currently logged in as: \u001b[33mbookpanda\u001b[0m. Use \u001b[1m`wandb login --relogin`\u001b[0m to force relogin\n",
      "\u001b[34m\u001b[1mwandb\u001b[0m: \u001b[33mWARNING\u001b[0m If you're specifying your api key in code, ensure this code is not shared publicly.\n",
      "\u001b[34m\u001b[1mwandb\u001b[0m: \u001b[33mWARNING\u001b[0m Consider setting the WANDB_API_KEY environment variable, or running `wandb login` from the command line.\n",
      "\u001b[34m\u001b[1mwandb\u001b[0m: Appending key for api.wandb.ai to your netrc file: /Users/idhibhatpankam/.netrc\n"
     ]
    },
    {
     "data": {
      "text/plain": [
       "True"
      ]
     },
     "execution_count": 136,
     "metadata": {},
     "output_type": "execute_result"
    }
   ],
   "source": [
    "import wandb\n",
    "wandb.login(key=\"c6f0c2b20da326f7cd01857887a897f898ba5b4f\")"
   ]
  },
  {
   "cell_type": "code",
   "execution_count": 138,
   "metadata": {
    "execution": {
     "iopub.execute_input": "2025-02-27T14:05:02.427640Z",
     "iopub.status.busy": "2025-02-27T14:05:02.426939Z",
     "iopub.status.idle": "2025-02-27T14:05:05.678027Z",
     "shell.execute_reply": "2025-02-27T14:05:05.677270Z",
     "shell.execute_reply.started": "2025-02-27T14:05:02.427608Z"
    },
    "trusted": true
   },
   "outputs": [
    {
     "data": {
      "text/html": [
       "<div>\n",
       "<style scoped>\n",
       "    .dataframe tbody tr th:only-of-type {\n",
       "        vertical-align: middle;\n",
       "    }\n",
       "\n",
       "    .dataframe tbody tr th {\n",
       "        vertical-align: top;\n",
       "    }\n",
       "\n",
       "    .dataframe thead th {\n",
       "        text-align: right;\n",
       "    }\n",
       "</style>\n",
       "<table border=\"1\" class=\"dataframe\">\n",
       "  <thead>\n",
       "    <tr style=\"text-align: right;\">\n",
       "      <th></th>\n",
       "      <th>id</th>\n",
       "      <th>comment</th>\n",
       "      <th>สำนักงานตำรวจแห่งชาติ</th>\n",
       "      <th>การรถไฟฟ้าขนส่งมวลชนแห่งประเทศไทย</th>\n",
       "      <th>สภาเด็กและเยาวชนกรุงเทพมหานคร</th>\n",
       "      <th>กรมควบคุมมลพิษ</th>\n",
       "      <th>กรมสรรพสามิต</th>\n",
       "      <th>การไฟฟ้านครหลวง</th>\n",
       "      <th>กรมทางหลวง</th>\n",
       "      <th>สำนักงานประกันสุขภาพแห่งชาติ</th>\n",
       "      <th>การประปานครหลวง</th>\n",
       "      <th>คณะกรรมการการพัฒนาเศรษฐกิจ</th>\n",
       "      <th>กระทรวงการท่องเที่ยวและกีฬา</th>\n",
       "      <th>สำนักงาน กสทช. ศูนย์รับแจ้งปัญหา 1200</th>\n",
       "    </tr>\n",
       "  </thead>\n",
       "  <tbody>\n",
       "    <tr>\n",
       "      <th>0</th>\n",
       "      <td>0</td>\n",
       "      <td>บริเวณนราธิวาส  แยกถนนจันทน์ ใกล้สวนสาธารณะช่อ...</td>\n",
       "      <td>0</td>\n",
       "      <td>0</td>\n",
       "      <td>0</td>\n",
       "      <td>0</td>\n",
       "      <td>0</td>\n",
       "      <td>0</td>\n",
       "      <td>0</td>\n",
       "      <td>0</td>\n",
       "      <td>0</td>\n",
       "      <td>0</td>\n",
       "      <td>0</td>\n",
       "      <td>0</td>\n",
       "    </tr>\n",
       "    <tr>\n",
       "      <th>1</th>\n",
       "      <td>1</td>\n",
       "      <td>บริเวณสะพานสามถนนจันทน์ เป็นจุดเปลี่ยนถ่ายสองแ...</td>\n",
       "      <td>0</td>\n",
       "      <td>0</td>\n",
       "      <td>0</td>\n",
       "      <td>0</td>\n",
       "      <td>0</td>\n",
       "      <td>0</td>\n",
       "      <td>0</td>\n",
       "      <td>0</td>\n",
       "      <td>0</td>\n",
       "      <td>0</td>\n",
       "      <td>0</td>\n",
       "      <td>0</td>\n",
       "    </tr>\n",
       "    <tr>\n",
       "      <th>2</th>\n",
       "      <td>2</td>\n",
       "      <td>เรื่องทางม้าลายหายไป บริเวณสี่แยกถนนจันทร์-เซน...</td>\n",
       "      <td>0</td>\n",
       "      <td>0</td>\n",
       "      <td>0</td>\n",
       "      <td>0</td>\n",
       "      <td>0</td>\n",
       "      <td>0</td>\n",
       "      <td>0</td>\n",
       "      <td>0</td>\n",
       "      <td>0</td>\n",
       "      <td>0</td>\n",
       "      <td>0</td>\n",
       "      <td>0</td>\n",
       "    </tr>\n",
       "    <tr>\n",
       "      <th>3</th>\n",
       "      <td>3</td>\n",
       "      <td>ปัญหาน้ำท่วมในซอยสวนพลู 1</td>\n",
       "      <td>0</td>\n",
       "      <td>0</td>\n",
       "      <td>0</td>\n",
       "      <td>0</td>\n",
       "      <td>0</td>\n",
       "      <td>0</td>\n",
       "      <td>0</td>\n",
       "      <td>0</td>\n",
       "      <td>0</td>\n",
       "      <td>0</td>\n",
       "      <td>0</td>\n",
       "      <td>0</td>\n",
       "    </tr>\n",
       "    <tr>\n",
       "      <th>4</th>\n",
       "      <td>4</td>\n",
       "      <td>1. ซ่อมสายไฟ กรีดขวางทางเท้า</td>\n",
       "      <td>0</td>\n",
       "      <td>0</td>\n",
       "      <td>0</td>\n",
       "      <td>0</td>\n",
       "      <td>0</td>\n",
       "      <td>0</td>\n",
       "      <td>0</td>\n",
       "      <td>0</td>\n",
       "      <td>0</td>\n",
       "      <td>0</td>\n",
       "      <td>0</td>\n",
       "      <td>0</td>\n",
       "    </tr>\n",
       "  </tbody>\n",
       "</table>\n",
       "</div>"
      ],
      "text/plain": [
       "   id                                            comment  \\\n",
       "0   0  บริเวณนราธิวาส  แยกถนนจันทน์ ใกล้สวนสาธารณะช่อ...   \n",
       "1   1  บริเวณสะพานสามถนนจันทน์ เป็นจุดเปลี่ยนถ่ายสองแ...   \n",
       "2   2  เรื่องทางม้าลายหายไป บริเวณสี่แยกถนนจันทร์-เซน...   \n",
       "3   3                          ปัญหาน้ำท่วมในซอยสวนพลู 1   \n",
       "4   4                       1. ซ่อมสายไฟ กรีดขวางทางเท้า   \n",
       "\n",
       "   สำนักงานตำรวจแห่งชาติ  การรถไฟฟ้าขนส่งมวลชนแห่งประเทศไทย  \\\n",
       "0                      0                                  0   \n",
       "1                      0                                  0   \n",
       "2                      0                                  0   \n",
       "3                      0                                  0   \n",
       "4                      0                                  0   \n",
       "\n",
       "   สภาเด็กและเยาวชนกรุงเทพมหานคร  กรมควบคุมมลพิษ  กรมสรรพสามิต  \\\n",
       "0                              0               0             0   \n",
       "1                              0               0             0   \n",
       "2                              0               0             0   \n",
       "3                              0               0             0   \n",
       "4                              0               0             0   \n",
       "\n",
       "   การไฟฟ้านครหลวง  กรมทางหลวง  สำนักงานประกันสุขภาพแห่งชาติ  การประปานครหลวง  \\\n",
       "0                0           0                             0                0   \n",
       "1                0           0                             0                0   \n",
       "2                0           0                             0                0   \n",
       "3                0           0                             0                0   \n",
       "4                0           0                             0                0   \n",
       "\n",
       "   คณะกรรมการการพัฒนาเศรษฐกิจ  กระทรวงการท่องเที่ยวและกีฬา  \\\n",
       "0                           0                            0   \n",
       "1                           0                            0   \n",
       "2                           0                            0   \n",
       "3                           0                            0   \n",
       "4                           0                            0   \n",
       "\n",
       "   สำนักงาน กสทช. ศูนย์รับแจ้งปัญหา 1200  \n",
       "0                                      0  \n",
       "1                                      0  \n",
       "2                                      0  \n",
       "3                                      0  \n",
       "4                                      0  "
      ]
     },
     "execution_count": 138,
     "metadata": {},
     "output_type": "execute_result"
    }
   ],
   "source": [
    "train_df = pd.read_csv('train.csv')\n",
    "test_df = pd.read_csv('test.csv')\n",
    "# train_df = pd.read_csv('/kaggle/input/dataset/train.csv')\n",
    "# test_df = pd.read_csv('/kaggle/input/dataset/test.csv')\n",
    "train_df.head()"
   ]
  },
  {
   "cell_type": "code",
   "execution_count": 139,
   "metadata": {
    "execution": {
     "iopub.execute_input": "2025-02-27T14:05:05.679365Z",
     "iopub.status.busy": "2025-02-27T14:05:05.679137Z",
     "iopub.status.idle": "2025-02-27T14:05:05.767445Z",
     "shell.execute_reply": "2025-02-27T14:05:05.766730Z",
     "shell.execute_reply.started": "2025-02-27T14:05:05.679347Z"
    },
    "trusted": true
   },
   "outputs": [
    {
     "data": {
      "text/html": [
       "<div>\n",
       "<style scoped>\n",
       "    .dataframe tbody tr th:only-of-type {\n",
       "        vertical-align: middle;\n",
       "    }\n",
       "\n",
       "    .dataframe tbody tr th {\n",
       "        vertical-align: top;\n",
       "    }\n",
       "\n",
       "    .dataframe thead th {\n",
       "        text-align: right;\n",
       "    }\n",
       "</style>\n",
       "<table border=\"1\" class=\"dataframe\">\n",
       "  <thead>\n",
       "    <tr style=\"text-align: right;\">\n",
       "      <th></th>\n",
       "      <th>id</th>\n",
       "      <th>สำนักงานตำรวจแห่งชาติ</th>\n",
       "      <th>การรถไฟฟ้าขนส่งมวลชนแห่งประเทศไทย</th>\n",
       "      <th>สภาเด็กและเยาวชนกรุงเทพมหานคร</th>\n",
       "      <th>กรมควบคุมมลพิษ</th>\n",
       "      <th>กรมสรรพสามิต</th>\n",
       "      <th>การไฟฟ้านครหลวง</th>\n",
       "      <th>กรมทางหลวง</th>\n",
       "      <th>สำนักงานประกันสุขภาพแห่งชาติ</th>\n",
       "      <th>การประปานครหลวง</th>\n",
       "      <th>คณะกรรมการการพัฒนาเศรษฐกิจ</th>\n",
       "      <th>กระทรวงการท่องเที่ยวและกีฬา</th>\n",
       "      <th>สำนักงาน กสทช. ศูนย์รับแจ้งปัญหา 1200</th>\n",
       "    </tr>\n",
       "  </thead>\n",
       "  <tbody>\n",
       "    <tr>\n",
       "      <th>count</th>\n",
       "      <td>204622.000000</td>\n",
       "      <td>204622.000000</td>\n",
       "      <td>204622.000000</td>\n",
       "      <td>204622.000000</td>\n",
       "      <td>204622.000000</td>\n",
       "      <td>204622.000000</td>\n",
       "      <td>204622.000000</td>\n",
       "      <td>204622.000000</td>\n",
       "      <td>204622.000000</td>\n",
       "      <td>204622.000000</td>\n",
       "      <td>204622.000000</td>\n",
       "      <td>204622.000000</td>\n",
       "      <td>204622.000000</td>\n",
       "    </tr>\n",
       "    <tr>\n",
       "      <th>mean</th>\n",
       "      <td>102310.500000</td>\n",
       "      <td>0.209635</td>\n",
       "      <td>0.019969</td>\n",
       "      <td>0.000049</td>\n",
       "      <td>0.016034</td>\n",
       "      <td>0.000117</td>\n",
       "      <td>0.167944</td>\n",
       "      <td>0.034542</td>\n",
       "      <td>0.000406</td>\n",
       "      <td>0.024176</td>\n",
       "      <td>0.018478</td>\n",
       "      <td>0.000059</td>\n",
       "      <td>0.023839</td>\n",
       "    </tr>\n",
       "    <tr>\n",
       "      <th>std</th>\n",
       "      <td>59069.427728</td>\n",
       "      <td>0.407049</td>\n",
       "      <td>0.139892</td>\n",
       "      <td>0.006991</td>\n",
       "      <td>0.125608</td>\n",
       "      <td>0.010829</td>\n",
       "      <td>0.373817</td>\n",
       "      <td>0.182616</td>\n",
       "      <td>0.020136</td>\n",
       "      <td>0.153597</td>\n",
       "      <td>0.134672</td>\n",
       "      <td>0.007658</td>\n",
       "      <td>0.152548</td>\n",
       "    </tr>\n",
       "    <tr>\n",
       "      <th>min</th>\n",
       "      <td>0.000000</td>\n",
       "      <td>0.000000</td>\n",
       "      <td>0.000000</td>\n",
       "      <td>0.000000</td>\n",
       "      <td>0.000000</td>\n",
       "      <td>0.000000</td>\n",
       "      <td>0.000000</td>\n",
       "      <td>0.000000</td>\n",
       "      <td>0.000000</td>\n",
       "      <td>0.000000</td>\n",
       "      <td>0.000000</td>\n",
       "      <td>0.000000</td>\n",
       "      <td>0.000000</td>\n",
       "    </tr>\n",
       "    <tr>\n",
       "      <th>25%</th>\n",
       "      <td>51155.250000</td>\n",
       "      <td>0.000000</td>\n",
       "      <td>0.000000</td>\n",
       "      <td>0.000000</td>\n",
       "      <td>0.000000</td>\n",
       "      <td>0.000000</td>\n",
       "      <td>0.000000</td>\n",
       "      <td>0.000000</td>\n",
       "      <td>0.000000</td>\n",
       "      <td>0.000000</td>\n",
       "      <td>0.000000</td>\n",
       "      <td>0.000000</td>\n",
       "      <td>0.000000</td>\n",
       "    </tr>\n",
       "    <tr>\n",
       "      <th>50%</th>\n",
       "      <td>102310.500000</td>\n",
       "      <td>0.000000</td>\n",
       "      <td>0.000000</td>\n",
       "      <td>0.000000</td>\n",
       "      <td>0.000000</td>\n",
       "      <td>0.000000</td>\n",
       "      <td>0.000000</td>\n",
       "      <td>0.000000</td>\n",
       "      <td>0.000000</td>\n",
       "      <td>0.000000</td>\n",
       "      <td>0.000000</td>\n",
       "      <td>0.000000</td>\n",
       "      <td>0.000000</td>\n",
       "    </tr>\n",
       "    <tr>\n",
       "      <th>75%</th>\n",
       "      <td>153465.750000</td>\n",
       "      <td>0.000000</td>\n",
       "      <td>0.000000</td>\n",
       "      <td>0.000000</td>\n",
       "      <td>0.000000</td>\n",
       "      <td>0.000000</td>\n",
       "      <td>0.000000</td>\n",
       "      <td>0.000000</td>\n",
       "      <td>0.000000</td>\n",
       "      <td>0.000000</td>\n",
       "      <td>0.000000</td>\n",
       "      <td>0.000000</td>\n",
       "      <td>0.000000</td>\n",
       "    </tr>\n",
       "    <tr>\n",
       "      <th>max</th>\n",
       "      <td>204621.000000</td>\n",
       "      <td>1.000000</td>\n",
       "      <td>1.000000</td>\n",
       "      <td>1.000000</td>\n",
       "      <td>1.000000</td>\n",
       "      <td>1.000000</td>\n",
       "      <td>1.000000</td>\n",
       "      <td>1.000000</td>\n",
       "      <td>1.000000</td>\n",
       "      <td>1.000000</td>\n",
       "      <td>1.000000</td>\n",
       "      <td>1.000000</td>\n",
       "      <td>1.000000</td>\n",
       "    </tr>\n",
       "  </tbody>\n",
       "</table>\n",
       "</div>"
      ],
      "text/plain": [
       "                  id  สำนักงานตำรวจแห่งชาติ  \\\n",
       "count  204622.000000          204622.000000   \n",
       "mean   102310.500000               0.209635   \n",
       "std     59069.427728               0.407049   \n",
       "min         0.000000               0.000000   \n",
       "25%     51155.250000               0.000000   \n",
       "50%    102310.500000               0.000000   \n",
       "75%    153465.750000               0.000000   \n",
       "max    204621.000000               1.000000   \n",
       "\n",
       "       การรถไฟฟ้าขนส่งมวลชนแห่งประเทศไทย  สภาเด็กและเยาวชนกรุงเทพมหานคร  \\\n",
       "count                      204622.000000                  204622.000000   \n",
       "mean                            0.019969                       0.000049   \n",
       "std                             0.139892                       0.006991   \n",
       "min                             0.000000                       0.000000   \n",
       "25%                             0.000000                       0.000000   \n",
       "50%                             0.000000                       0.000000   \n",
       "75%                             0.000000                       0.000000   \n",
       "max                             1.000000                       1.000000   \n",
       "\n",
       "       กรมควบคุมมลพิษ   กรมสรรพสามิต  การไฟฟ้านครหลวง     กรมทางหลวง  \\\n",
       "count   204622.000000  204622.000000    204622.000000  204622.000000   \n",
       "mean         0.016034       0.000117         0.167944       0.034542   \n",
       "std          0.125608       0.010829         0.373817       0.182616   \n",
       "min          0.000000       0.000000         0.000000       0.000000   \n",
       "25%          0.000000       0.000000         0.000000       0.000000   \n",
       "50%          0.000000       0.000000         0.000000       0.000000   \n",
       "75%          0.000000       0.000000         0.000000       0.000000   \n",
       "max          1.000000       1.000000         1.000000       1.000000   \n",
       "\n",
       "       สำนักงานประกันสุขภาพแห่งชาติ  การประปานครหลวง  \\\n",
       "count                 204622.000000    204622.000000   \n",
       "mean                       0.000406         0.024176   \n",
       "std                        0.020136         0.153597   \n",
       "min                        0.000000         0.000000   \n",
       "25%                        0.000000         0.000000   \n",
       "50%                        0.000000         0.000000   \n",
       "75%                        0.000000         0.000000   \n",
       "max                        1.000000         1.000000   \n",
       "\n",
       "       คณะกรรมการการพัฒนาเศรษฐกิจ  กระทรวงการท่องเที่ยวและกีฬา  \\\n",
       "count               204622.000000                204622.000000   \n",
       "mean                     0.018478                     0.000059   \n",
       "std                      0.134672                     0.007658   \n",
       "min                      0.000000                     0.000000   \n",
       "25%                      0.000000                     0.000000   \n",
       "50%                      0.000000                     0.000000   \n",
       "75%                      0.000000                     0.000000   \n",
       "max                      1.000000                     1.000000   \n",
       "\n",
       "       สำนักงาน กสทช. ศูนย์รับแจ้งปัญหา 1200  \n",
       "count                          204622.000000  \n",
       "mean                                0.023839  \n",
       "std                                 0.152548  \n",
       "min                                 0.000000  \n",
       "25%                                 0.000000  \n",
       "50%                                 0.000000  \n",
       "75%                                 0.000000  \n",
       "max                                 1.000000  "
      ]
     },
     "execution_count": 139,
     "metadata": {},
     "output_type": "execute_result"
    }
   ],
   "source": [
    "train_df.describe()"
   ]
  },
  {
   "cell_type": "code",
   "execution_count": 140,
   "metadata": {
    "execution": {
     "iopub.execute_input": "2025-02-27T14:05:05.769093Z",
     "iopub.status.busy": "2025-02-27T14:05:05.768739Z",
     "iopub.status.idle": "2025-02-27T14:05:05.918876Z",
     "shell.execute_reply": "2025-02-27T14:05:05.918139Z",
     "shell.execute_reply.started": "2025-02-27T14:05:05.769059Z"
    },
    "trusted": true
   },
   "outputs": [
    {
     "name": "stdout",
     "output_type": "stream",
     "text": [
      "Before dropna: (204622, 14)\n",
      "After dropna: (204622, 14)\n",
      "Before dropna: (10810, 2)\n",
      "After dropna: (10810, 2)\n",
      "(204622, 14) (10810, 2)\n"
     ]
    }
   ],
   "source": [
    "def drop_rows(df):\n",
    "    # drop rows with missing values, duplicates\n",
    "    print(f\"Before dropna: {df.shape}\")\n",
    "    df.dropna(inplace=True)\n",
    "    df.drop_duplicates(\"comment\", keep=\"first\", inplace=True)\n",
    "    df = df.reset_index(drop=True)\n",
    "    print(f\"After dropna: {df.shape}\")\n",
    "\n",
    "drop_rows(train_df)\n",
    "drop_rows(test_df)\n",
    "print(train_df.shape, test_df.shape)"
   ]
  },
  {
   "cell_type": "code",
   "execution_count": 141,
   "metadata": {
    "execution": {
     "iopub.execute_input": "2025-02-27T14:05:05.920671Z",
     "iopub.status.busy": "2025-02-27T14:05:05.920275Z",
     "iopub.status.idle": "2025-02-27T14:05:07.115724Z",
     "shell.execute_reply": "2025-02-27T14:05:07.114944Z",
     "shell.execute_reply.started": "2025-02-27T14:05:05.920625Z"
    },
    "trusted": true
   },
   "outputs": [
    {
     "data": {
      "text/html": [
       "<div>\n",
       "<style scoped>\n",
       "    .dataframe tbody tr th:only-of-type {\n",
       "        vertical-align: middle;\n",
       "    }\n",
       "\n",
       "    .dataframe tbody tr th {\n",
       "        vertical-align: top;\n",
       "    }\n",
       "\n",
       "    .dataframe thead th {\n",
       "        text-align: right;\n",
       "    }\n",
       "</style>\n",
       "<table border=\"1\" class=\"dataframe\">\n",
       "  <thead>\n",
       "    <tr style=\"text-align: right;\">\n",
       "      <th></th>\n",
       "      <th>comment</th>\n",
       "      <th>label</th>\n",
       "    </tr>\n",
       "  </thead>\n",
       "  <tbody>\n",
       "    <tr>\n",
       "      <th>0</th>\n",
       "      <td>บริเวณนราธิวาส  แยกถนนจันทน์ ใกล้สวนสาธารณะช่อ...</td>\n",
       "      <td>[0, 0, 0, 0, 0, 0, 0, 0, 0, 0, 0, 0]</td>\n",
       "    </tr>\n",
       "    <tr>\n",
       "      <th>1</th>\n",
       "      <td>บริเวณสะพานสามถนนจันทน์ เป็นจุดเปลี่ยนถ่ายสองแ...</td>\n",
       "      <td>[0, 0, 0, 0, 0, 0, 0, 0, 0, 0, 0, 0]</td>\n",
       "    </tr>\n",
       "    <tr>\n",
       "      <th>2</th>\n",
       "      <td>เรื่องทางม้าลายหายไป บริเวณสี่แยกถนนจันทร์-เซน...</td>\n",
       "      <td>[0, 0, 0, 0, 0, 0, 0, 0, 0, 0, 0, 0]</td>\n",
       "    </tr>\n",
       "    <tr>\n",
       "      <th>3</th>\n",
       "      <td>ปัญหาน้ำท่วมในซอยสวนพลู 1</td>\n",
       "      <td>[0, 0, 0, 0, 0, 0, 0, 0, 0, 0, 0, 0]</td>\n",
       "    </tr>\n",
       "    <tr>\n",
       "      <th>4</th>\n",
       "      <td>1. ซ่อมสายไฟ กรีดขวางทางเท้า</td>\n",
       "      <td>[0, 0, 0, 0, 0, 0, 0, 0, 0, 0, 0, 0]</td>\n",
       "    </tr>\n",
       "  </tbody>\n",
       "</table>\n",
       "</div>"
      ],
      "text/plain": [
       "                                             comment  \\\n",
       "0  บริเวณนราธิวาส  แยกถนนจันทน์ ใกล้สวนสาธารณะช่อ...   \n",
       "1  บริเวณสะพานสามถนนจันทน์ เป็นจุดเปลี่ยนถ่ายสองแ...   \n",
       "2  เรื่องทางม้าลายหายไป บริเวณสี่แยกถนนจันทร์-เซน...   \n",
       "3                          ปัญหาน้ำท่วมในซอยสวนพลู 1   \n",
       "4                       1. ซ่อมสายไฟ กรีดขวางทางเท้า   \n",
       "\n",
       "                                  label  \n",
       "0  [0, 0, 0, 0, 0, 0, 0, 0, 0, 0, 0, 0]  \n",
       "1  [0, 0, 0, 0, 0, 0, 0, 0, 0, 0, 0, 0]  \n",
       "2  [0, 0, 0, 0, 0, 0, 0, 0, 0, 0, 0, 0]  \n",
       "3  [0, 0, 0, 0, 0, 0, 0, 0, 0, 0, 0, 0]  \n",
       "4  [0, 0, 0, 0, 0, 0, 0, 0, 0, 0, 0, 0]  "
      ]
     },
     "execution_count": 141,
     "metadata": {},
     "output_type": "execute_result"
    }
   ],
   "source": [
    "contacts = train_df.columns[2:]\n",
    "\n",
    "train_df['label'] = train_df[contacts].apply(lambda x: list(x), axis=1)\n",
    "train_df.drop(contacts, axis=1, inplace=True)\n",
    "train_df.drop(\"id\", axis=1, inplace=True)\n",
    "\n",
    "train_df.head()"
   ]
  },
  {
   "cell_type": "code",
   "execution_count": 146,
   "metadata": {
    "execution": {
     "iopub.execute_input": "2025-02-27T14:05:07.116802Z",
     "iopub.status.busy": "2025-02-27T14:05:07.116502Z",
     "iopub.status.idle": "2025-02-27T14:05:07.190609Z",
     "shell.execute_reply": "2025-02-27T14:05:07.189726Z",
     "shell.execute_reply.started": "2025-02-27T14:05:07.116771Z"
    },
    "trusted": true
   },
   "outputs": [
    {
     "data": {
      "text/plain": [
       "label\n",
       "[0, 0, 0, 0, 0, 0, 0, 0, 0, 0, 0, 0]    102333\n",
       "[1, 0, 0, 0, 0, 0, 0, 0, 0, 0, 0, 0]     42212\n",
       "[0, 0, 0, 0, 0, 1, 0, 0, 0, 0, 0, 0]     32543\n",
       "[0, 0, 0, 0, 0, 0, 1, 0, 0, 0, 0, 0]      5803\n",
       "[0, 0, 0, 0, 0, 0, 0, 0, 1, 0, 0, 0]      4598\n",
       "                                         ...  \n",
       "[1, 0, 0, 0, 0, 0, 1, 0, 0, 0, 0, 1]         1\n",
       "[1, 0, 0, 0, 0, 1, 0, 0, 0, 1, 0, 0]         1\n",
       "[1, 0, 0, 1, 0, 0, 1, 0, 0, 0, 0, 0]         1\n",
       "[1, 0, 0, 0, 0, 1, 1, 0, 0, 0, 0, 0]         1\n",
       "[0, 1, 0, 0, 0, 0, 0, 0, 0, 1, 0, 0]         1\n",
       "Name: count, Length: 73, dtype: int64"
      ]
     },
     "execution_count": 146,
     "metadata": {},
     "output_type": "execute_result"
    }
   ],
   "source": [
    "train_df['label'].value_counts()"
   ]
  },
  {
   "cell_type": "code",
   "execution_count": 186,
   "metadata": {},
   "outputs": [
    {
     "data": {
      "text/plain": [
       "label\n",
       "[1, 0, 0, 0, 0, 0, 0, 0, 0, 0, 0, 0]    42212\n",
       "[0, 0, 0, 0, 0, 1, 0, 0, 0, 0, 0, 0]    32543\n",
       "[0, 0, 0, 0, 0, 0, 0, 0, 0, 0, 0, 0]    10000\n",
       "[0, 0, 0, 0, 0, 0, 1, 0, 0, 0, 0, 0]     5803\n",
       "[0, 0, 0, 0, 0, 0, 0, 0, 1, 0, 0, 0]     4598\n",
       "                                        ...  \n",
       "[0, 0, 0, 0, 0, 1, 1, 0, 0, 1, 0, 1]        1\n",
       "[1, 0, 0, 0, 0, 1, 1, 0, 0, 0, 0, 0]        1\n",
       "[1, 0, 0, 0, 0, 1, 0, 0, 0, 0, 0, 1]        1\n",
       "[0, 1, 0, 0, 0, 1, 1, 0, 0, 0, 0, 1]        1\n",
       "[0, 0, 0, 0, 0, 0, 1, 0, 0, 1, 0, 1]        1\n",
       "Name: count, Length: 73, dtype: int64"
      ]
     },
     "execution_count": 186,
     "metadata": {},
     "output_type": "execute_result"
    }
   ],
   "source": [
    "# reduce empty label rows from 100k to 10k\n",
    "no_labels_df = train_df[train_df['label'].apply(lambda x: sum(x) == 0)]\n",
    "reduced_no_labels_df = no_labels_df.sample(n=10000, random_state=42)\n",
    "train_df = train_df.drop(no_labels_df.index)\n",
    "train_df = pd.concat([train_df, reduced_no_labels_df], ignore_index=True)\n",
    "train_df['label'].value_counts()"
   ]
  },
  {
   "cell_type": "code",
   "execution_count": 189,
   "metadata": {},
   "outputs": [],
   "source": [
    "# increase rare labels to 500 each\n",
    "per_label_count = 500\n",
    "label_counts = train_df['label'].value_counts()\n",
    "\n",
    "rare_labels = label_counts[label_counts < per_label_count].index\n",
    "rare_labels_df = train_df[train_df['label'].isin(rare_labels)]"
   ]
  },
  {
   "cell_type": "code",
   "execution_count": 190,
   "metadata": {},
   "outputs": [
    {
     "data": {
      "text/plain": [
       "label\n",
       "[0, 0, 0, 0, 0, 1, 1, 0, 0, 0, 0, 0]    487\n",
       "[0, 1, 0, 0, 0, 0, 1, 0, 0, 0, 0, 0]    321\n",
       "[0, 1, 0, 0, 0, 1, 0, 0, 0, 0, 0, 0]    288\n",
       "[1, 0, 0, 0, 0, 0, 1, 0, 0, 0, 0, 0]    239\n",
       "[1, 0, 0, 1, 0, 0, 0, 0, 0, 0, 0, 0]    161\n",
       "                                       ... \n",
       "[0, 0, 0, 0, 0, 0, 0, 0, 0, 1, 0, 1]      1\n",
       "[0, 0, 0, 0, 0, 1, 1, 0, 0, 1, 0, 1]      1\n",
       "[1, 1, 0, 0, 0, 1, 0, 0, 0, 0, 0, 0]      1\n",
       "[1, 0, 0, 0, 0, 1, 0, 0, 0, 1, 0, 0]      1\n",
       "[1, 0, 0, 0, 0, 1, 1, 0, 0, 0, 0, 0]      1\n",
       "Name: count, Length: 63, dtype: int64"
      ]
     },
     "execution_count": 190,
     "metadata": {},
     "output_type": "execute_result"
    }
   ],
   "source": [
    "rare_labels_df['label'].value_counts()"
   ]
  },
  {
   "cell_type": "code",
   "execution_count": 191,
   "metadata": {},
   "outputs": [],
   "source": [
    "augmented_data = []\n",
    "\n",
    "for label in rare_labels:\n",
    "    subset = train_df[train_df['label'].apply(lambda x: x == label)]\n",
    "    num_needed = per_label_count - len(subset)\n",
    "    \n",
    "    # randomly sample with replacement\n",
    "    sampled_rows = subset.sample(n=num_needed, replace=True, random_state=42)\n",
    "    \n",
    "    augmented_data.append(sampled_rows)\n",
    "\n",
    "train_df = pd.concat([train_df] + augmented_data, ignore_index=True)"
   ]
  },
  {
   "cell_type": "code",
   "execution_count": 196,
   "metadata": {},
   "outputs": [
    {
     "name": "stdout",
     "output_type": "stream",
     "text": [
      "(141398, 2)\n"
     ]
    },
    {
     "data": {
      "text/plain": [
       "label\n",
       "[1, 0, 0, 0, 0, 0, 0, 0, 0, 0, 0, 0]    42212\n",
       "[0, 0, 0, 0, 0, 1, 0, 0, 0, 0, 0, 0]    32543\n",
       "[0, 0, 0, 0, 0, 0, 0, 0, 0, 0, 0, 0]    10000\n",
       "[0, 0, 0, 0, 0, 0, 1, 0, 0, 0, 0, 0]     5803\n",
       "[0, 0, 0, 0, 0, 0, 0, 0, 1, 0, 0, 0]     4598\n",
       "                                        ...  \n",
       "[1, 0, 0, 0, 0, 0, 0, 0, 1, 0, 0, 0]      500\n",
       "[1, 0, 0, 0, 0, 0, 0, 1, 0, 0, 0, 0]      500\n",
       "[0, 0, 0, 0, 0, 1, 1, 0, 1, 0, 0, 1]      500\n",
       "[0, 1, 0, 0, 0, 1, 0, 0, 0, 0, 0, 0]      500\n",
       "[0, 0, 0, 0, 0, 0, 1, 0, 0, 1, 0, 1]      500\n",
       "Name: count, Length: 73, dtype: int64"
      ]
     },
     "execution_count": 196,
     "metadata": {},
     "output_type": "execute_result"
    }
   ],
   "source": [
    "print(train_df.shape)\n",
    "train_df['label'].value_counts()"
   ]
  },
  {
   "cell_type": "code",
   "execution_count": 193,
   "metadata": {
    "execution": {
     "iopub.execute_input": "2025-02-27T14:05:07.191814Z",
     "iopub.status.busy": "2025-02-27T14:05:07.191505Z",
     "iopub.status.idle": "2025-02-27T14:05:07.197223Z",
     "shell.execute_reply": "2025-02-27T14:05:07.196339Z",
     "shell.execute_reply.started": "2025-02-27T14:05:07.191786Z"
    },
    "trusted": true
   },
   "outputs": [
    {
     "data": {
      "text/plain": [
       "Index(['สำนักงานตำรวจแห่งชาติ', 'การรถไฟฟ้าขนส่งมวลชนแห่งประเทศไทย',\n",
       "       'สภาเด็กและเยาวชนกรุงเทพมหานคร', 'กรมควบคุมมลพิษ', 'กรมสรรพสามิต',\n",
       "       'การไฟฟ้านครหลวง', 'กรมทางหลวง', 'สำนักงานประกันสุขภาพแห่งชาติ',\n",
       "       'การประปานครหลวง', 'คณะกรรมการการพัฒนาเศรษฐกิจ',\n",
       "       'กระทรวงการท่องเที่ยวและกีฬา', 'สำนักงาน กสทช. ศูนย์รับแจ้งปัญหา 1200'],\n",
       "      dtype='object')"
      ]
     },
     "execution_count": 193,
     "metadata": {},
     "output_type": "execute_result"
    }
   ],
   "source": [
    "contacts"
   ]
  },
  {
   "cell_type": "code",
   "execution_count": 194,
   "metadata": {
    "execution": {
     "iopub.execute_input": "2025-02-27T14:05:07.198322Z",
     "iopub.status.busy": "2025-02-27T14:05:07.198100Z",
     "iopub.status.idle": "2025-02-27T14:05:07.219215Z",
     "shell.execute_reply": "2025-02-27T14:05:07.218455Z",
     "shell.execute_reply.started": "2025-02-27T14:05:07.198295Z"
    },
    "trusted": true
   },
   "outputs": [],
   "source": [
    "# stop_words = set(thai_stopwords())\n",
    "def clean_comment(comment):\n",
    "    comment = comment.replace('ํา', \"ำ\") # wangchanberta requirement\n",
    "    comment = re.sub(r'[^\\w\\s\\u0E00-\\u0E7F]', '', comment, flags=re.UNICODE) # only thai, alphanumeric characters\n",
    "    comment = re.sub(r'[#\\n*]', '', comment) # remove #, \\n, *\n",
    "    comment = re.sub(r'\\b\\d{4,}\\b', '', comment) # remove long numbers\n",
    "    comment = re.sub(r'http[s]?://\\S+|www\\.\\S+', '', comment) # remove urls\n",
    "    # tokens = word_tokenize(comment)\n",
    "    # comment = ''.join(token for token in tokens if token not in stop_words)\n",
    "    comment = re.sub(r'\\s+', ' ', comment).strip()\n",
    "\n",
    "    return comment"
   ]
  },
  {
   "cell_type": "code",
   "execution_count": 195,
   "metadata": {
    "execution": {
     "iopub.execute_input": "2025-02-27T14:05:07.221228Z",
     "iopub.status.busy": "2025-02-27T14:05:07.221015Z",
     "iopub.status.idle": "2025-02-27T14:05:12.498799Z",
     "shell.execute_reply": "2025-02-27T14:05:12.497797Z",
     "shell.execute_reply.started": "2025-02-27T14:05:07.221210Z"
    },
    "trusted": true
   },
   "outputs": [
    {
     "name": "stdout",
     "output_type": "stream",
     "text": [
      "0    ร้องเรียน รถแท็กซี่ จอดกีดขวางป้ายรถเมล์บริเวณ...\n",
      "1    พบรถแท็กซี่จอดทิ้งไว้บริเวณถนนถึงสัญญาณไฟช่วงแ...\n",
      "2    แจ้งปัญหาทางเท้าโดนอู่ซ่อมรถวางของ จอดรถทับทาง...\n",
      "3    ปัญหารถติดหน้าห่างสรรพสินค้า central eastville...\n",
      "4               สถานที่รถติดคือถนน ซอยพหลโยธิน18/1ครับ\n",
      "5    ป้อมตำรวจตรงแยกมิสทีนของเขตสะพานสูงขวางทางเท้า...\n",
      "6    เส้นทางแยกบางโพ มีการก่อสร้างยังไม่เสร็จสักทีก...\n",
      "7    ใช่ค่ะ เมื่อวานโดนกับตัวเลยค่ะ รถเกือบล้ม ที่ถ...\n",
      "8     ฟุตบาทไม่เรียบ ง่ายต่อการสะดุด แบะเกิดอุบัติเหตุ\n",
      "9    ไฟจราจรสีแดงไม่ทำงาน (แต่สีเขียวทำ) ที่แยกถนนท...\n",
      "Name: comment, dtype: object\n",
      "0    ร้องเรียน รถแท็กซี่ จอดกีดขวางป้ายรถเมล์บริเวณ...\n",
      "1    พบรถแท็กซี่จอดทิ้งไว้บริเวณถนนถึงสัญญาณไฟช่วงแ...\n",
      "2    แจ้งปัญหาทางเท้าโดนอู่ซ่อมรถวางของ จอดรถทับทาง...\n",
      "3    ปัญหารถติดหน้าห่างสรรพสินค้า central eastville...\n",
      "4                สถานที่รถติดคือถนน ซอยพหลโยธิน181ครับ\n",
      "5    ป้อมตำรวจตรงแยกมิสทีนของเขตสะพานสูงขวางทางเท้า...\n",
      "6    เส้นทางแยกบางโพ มีการก่อสร้างยังไม่เสร็จสักทีก...\n",
      "7    ใช่ค่ะ เมื่อวานโดนกับตัวเลยค่ะ รถเกือบล้ม ที่ถ...\n",
      "8     ฟุตบาทไม่เรียบ ง่ายต่อการสะดุด แบะเกิดอุบัติเหตุ\n",
      "9    ไฟจราจรสีแดงไม่ทำงาน แต่สีเขียวทำ ที่แยกถนนทุ่...\n",
      "Name: comment, dtype: object\n"
     ]
    }
   ],
   "source": [
    "print(train_df[\"comment\"][:10])\n",
    "train_df[\"comment\"] = train_df[\"comment\"].map(clean_comment)\n",
    "test_df[\"comment\"] = test_df[\"comment\"].map(clean_comment)\n",
    "print(train_df[\"comment\"][:10])"
   ]
  },
  {
   "cell_type": "code",
   "execution_count": 197,
   "metadata": {
    "execution": {
     "iopub.execute_input": "2025-02-27T14:05:12.500524Z",
     "iopub.status.busy": "2025-02-27T14:05:12.500140Z",
     "iopub.status.idle": "2025-02-27T14:05:12.507315Z",
     "shell.execute_reply": "2025-02-27T14:05:12.506482Z",
     "shell.execute_reply.started": "2025-02-27T14:05:12.500488Z"
    },
    "trusted": true
   },
   "outputs": [
    {
     "data": {
      "text/plain": [
       "0        ไม่มีทางเท้าคนเดินจากสะพานกรุงธนบุรีไปวัดราชผา...\n",
       "1        อันนี้ภาพทางเข้าถ่ายไว้นานแล้วค่ะ ในซอยถนนจะเป...\n",
       "2                                       ขยะที่แยกสะพานควาย\n",
       "3        ช่วงเร่งคืนพื้นที่ช่องจราจรถนนแจ้งวัฒนะ ช่วงวิ...\n",
       "4        ไฟถนนไม่ติด เป็นทางยาว คนเดินถนนลำบากมาก ถนนรั...\n",
       "                               ...                        \n",
       "10805    มีแมวจรจัด จำนวนมาก รบกวน กรมสาธารณสุข ส่งทีมง...\n",
       "10806    ปัญหา เนื่องจาก ประชาชนแจ้งว่าพบทัวร์เถื่อน มี...\n",
       "10807    สวนสมเด็จย่า 84 ติดทางเข้า MRT พหลโยธินมีสุนัข...\n",
       "10808    A big thank you I wrote to you around 2 weeks ...\n",
       "10809    บริเวณวินรถจักรยานยนต์ ปากซอยราชปรารภ 8 วินวัฒ...\n",
       "Name: comment, Length: 10810, dtype: object"
      ]
     },
     "execution_count": 197,
     "metadata": {},
     "output_type": "execute_result"
    }
   ],
   "source": [
    "test_df[\"comment\"]"
   ]
  },
  {
   "cell_type": "code",
   "execution_count": 198,
   "metadata": {
    "execution": {
     "iopub.execute_input": "2025-02-27T14:05:12.508315Z",
     "iopub.status.busy": "2025-02-27T14:05:12.508092Z",
     "iopub.status.idle": "2025-02-27T14:05:12.542261Z",
     "shell.execute_reply": "2025-02-27T14:05:12.541452Z",
     "shell.execute_reply.started": "2025-02-27T14:05:12.508297Z"
    },
    "trusted": true
   },
   "outputs": [],
   "source": [
    "def plot_sample_length(lengths: list[int], title: str):\n",
    "    print(f\"Min length: {min(lengths)}\")\n",
    "    print(f\"Max length: {max(lengths)}\")\n",
    "    print(f\"Mean length: {np.mean(lengths):.2f}\")\n",
    "    print(f\"Median length: {np.median(lengths)}\")\n",
    "\n",
    "    plt.hist(lengths, bins=20, edgecolor='black')\n",
    "    plt.xlabel('Number of tokens')\n",
    "    plt.ylabel('Frequency')\n",
    "    plt.title(title)\n",
    "    plt.show()"
   ]
  },
  {
   "cell_type": "code",
   "execution_count": 199,
   "metadata": {
    "execution": {
     "iopub.execute_input": "2025-02-27T14:05:12.543343Z",
     "iopub.status.busy": "2025-02-27T14:05:12.543111Z",
     "iopub.status.idle": "2025-02-27T14:06:37.058096Z",
     "shell.execute_reply": "2025-02-27T14:06:37.057374Z",
     "shell.execute_reply.started": "2025-02-27T14:05:12.543317Z"
    },
    "trusted": true
   },
   "outputs": [
    {
     "name": "stderr",
     "output_type": "stream",
     "text": [
      "100%|██████████| 141398/141398 [00:45<00:00, 3141.45it/s]\n",
      "100%|██████████| 10810/10810 [00:03<00:00, 3412.29it/s]\n"
     ]
    }
   ],
   "source": [
    "train_lengths = [len(word_tokenize(d)) for d in tqdm(train_df['comment'])]\n",
    "test_lengths = [len(word_tokenize(d)) for d in tqdm(test_df['comment'])]"
   ]
  },
  {
   "cell_type": "code",
   "execution_count": 200,
   "metadata": {
    "execution": {
     "iopub.execute_input": "2025-02-27T14:06:37.059064Z",
     "iopub.status.busy": "2025-02-27T14:06:37.058829Z",
     "iopub.status.idle": "2025-02-27T14:06:37.965108Z",
     "shell.execute_reply": "2025-02-27T14:06:37.964180Z",
     "shell.execute_reply.started": "2025-02-27T14:06:37.059035Z"
    },
    "trusted": true
   },
   "outputs": [
    {
     "name": "stdout",
     "output_type": "stream",
     "text": [
      "Min length: 1\n",
      "Max length: 1660\n",
      "Mean length: 48.61\n",
      "Median length: 33.0\n"
     ]
    },
    {
     "data": {
      "image/png": "[encoded data removed]",
      "text/plain": [
       "<Figure size 640x480 with 1 Axes>"
      ]
     },
     "metadata": {},
     "output_type": "display_data"
    }
   ],
   "source": [
    "plot_sample_length(train_lengths, 'Sample length distribution (train)')"
   ]
  },
  {
   "cell_type": "code",
   "execution_count": 201,
   "metadata": {
    "execution": {
     "iopub.execute_input": "2025-02-27T14:06:37.966223Z",
     "iopub.status.busy": "2025-02-27T14:06:37.965945Z",
     "iopub.status.idle": "2025-02-27T14:06:38.194563Z",
     "shell.execute_reply": "2025-02-27T14:06:38.193860Z",
     "shell.execute_reply.started": "2025-02-27T14:06:37.966201Z"
    },
    "trusted": true
   },
   "outputs": [
    {
     "name": "stdout",
     "output_type": "stream",
     "text": [
      "Min length: 1\n",
      "Max length: 1299\n",
      "Mean length: 46.36\n",
      "Median length: 31.0\n"
     ]
    },
    {
     "data": {
      "image/png": "[encoded data removed]",
      "text/plain": [
       "<Figure size 640x480 with 1 Axes>"
      ]
     },
     "metadata": {},
     "output_type": "display_data"
    }
   ],
   "source": [
    "plot_sample_length(test_lengths, 'Sample length distribution (test)')"
   ]
  },
  {
   "cell_type": "code",
   "execution_count": 202,
   "metadata": {
    "execution": {
     "iopub.execute_input": "2025-02-27T14:06:38.196640Z",
     "iopub.status.busy": "2025-02-27T14:06:38.196429Z",
     "iopub.status.idle": "2025-02-27T14:06:38.209288Z",
     "shell.execute_reply": "2025-02-27T14:06:38.208446Z",
     "shell.execute_reply.started": "2025-02-27T14:06:38.196622Z"
    },
    "trusted": true
   },
   "outputs": [
    {
     "name": "stdout",
     "output_type": "stream",
     "text": [
      "TRAIN\n",
      "Number of samples exceeding 128 tokens: 8465\n",
      "Percentage of samples exceeding 128 tokens: 5.99%\n",
      "\n",
      "TEST\n",
      "Number of samples exceeding 128 tokens: 559\n",
      "Percentage of samples exceeding 128 tokens: 5.17%\n"
     ]
    }
   ],
   "source": [
    "def count_exceeded_length(lengths: list[int], max_length: int):\n",
    "    exceed = len([l for l in lengths if l > max_length])\n",
    "    print(f\"Number of samples exceeding {max_length} tokens: {exceed}\")\n",
    "    print(f\"Percentage of samples exceeding {max_length} tokens: {exceed / len(lengths) * 100:.2f}%\")\n",
    "\n",
    "max_length = 128\n",
    "print(\"TRAIN\")\n",
    "count_exceeded_length(train_lengths, max_length)\n",
    "print(\"\\nTEST\")\n",
    "count_exceeded_length(test_lengths, max_length)"
   ]
  },
  {
   "cell_type": "code",
   "execution_count": 203,
   "metadata": {
    "execution": {
     "iopub.execute_input": "2025-02-27T14:06:38.210596Z",
     "iopub.status.busy": "2025-02-27T14:06:38.210371Z",
     "iopub.status.idle": "2025-02-27T14:06:38.264562Z",
     "shell.execute_reply": "2025-02-27T14:06:38.263888Z",
     "shell.execute_reply.started": "2025-02-27T14:06:38.210578Z"
    },
    "trusted": true
   },
   "outputs": [
    {
     "name": "stdout",
     "output_type": "stream",
     "text": [
      "Create Mappings\n"
     ]
    },
    {
     "data": {
      "text/plain": [
       "{0: 'สำนักงานตำรวจแห่งชาติ',\n",
       " 1: 'การรถไฟฟ้าขนส่งมวลชนแห่งประเทศไทย',\n",
       " 2: 'สภาเด็กและเยาวชนกรุงเทพมหานคร',\n",
       " 3: 'กรมควบคุมมลพิษ',\n",
       " 4: 'กรมสรรพสามิต',\n",
       " 5: 'การไฟฟ้านครหลวง',\n",
       " 6: 'กรมทางหลวง',\n",
       " 7: 'สำนักงานประกันสุขภาพแห่งชาติ',\n",
       " 8: 'การประปานครหลวง',\n",
       " 9: 'คณะกรรมการการพัฒนาเศรษฐกิจ',\n",
       " 10: 'กระทรวงการท่องเที่ยวและกีฬา',\n",
       " 11: 'สำนักงาน กสทช. ศูนย์รับแจ้งปัญหา 1200'}"
      ]
     },
     "metadata": {},
     "output_type": "display_data"
    },
    {
     "data": {
      "text/plain": [
       "{'สำนักงานตำรวจแห่งชาติ': 0,\n",
       " 'การรถไฟฟ้าขนส่งมวลชนแห่งประเทศไทย': 1,\n",
       " 'สภาเด็กและเยาวชนกรุงเทพมหานคร': 2,\n",
       " 'กรมควบคุมมลพิษ': 3,\n",
       " 'กรมสรรพสามิต': 4,\n",
       " 'การไฟฟ้านครหลวง': 5,\n",
       " 'กรมทางหลวง': 6,\n",
       " 'สำนักงานประกันสุขภาพแห่งชาติ': 7,\n",
       " 'การประปานครหลวง': 8,\n",
       " 'คณะกรรมการการพัฒนาเศรษฐกิจ': 9,\n",
       " 'กระทรวงการท่องเที่ยวและกีฬา': 10,\n",
       " 'สำนักงาน กสทช. ศูนย์รับแจ้งปัญหา 1200': 11}"
      ]
     },
     "metadata": {},
     "output_type": "display_data"
    }
   ],
   "source": [
    "train_data = train_df.copy().to_numpy()\n",
    "test_data = test_df.copy().to_numpy()\n",
    "\n",
    "label_2_idx = dict(zip(contacts, range(len(contacts))))\n",
    "idx_2_label = dict(zip(range(len(contacts)), contacts))\n",
    "\n",
    "print(\"Create Mappings\")\n",
    "display(idx_2_label)\n",
    "display(label_2_idx)\n",
    "\n",
    "# print(\"Before Mappings\")\n",
    "# display(data[:, 1])\n",
    "# data[:,1] = np.vectorize(label_2_num_map.get)(data[:,1])\n",
    "# print(\"After Mappings\")\n",
    "# display(data[:, 1])"
   ]
  },
  {
   "cell_type": "code",
   "execution_count": 21,
   "metadata": {
    "execution": {
     "iopub.execute_input": "2025-02-27T14:06:38.265522Z",
     "iopub.status.busy": "2025-02-27T14:06:38.265275Z",
     "iopub.status.idle": "2025-02-27T14:06:38.360690Z",
     "shell.execute_reply": "2025-02-27T14:06:38.360041Z",
     "shell.execute_reply.started": "2025-02-27T14:06:38.265504Z"
    },
    "trusted": true
   },
   "outputs": [],
   "source": [
    "def set_random_seed(seed: int):\n",
    "    torch.manual_seed(seed)\n",
    "    if torch.cuda.is_available():\n",
    "        torch.cuda.manual_seed_all(seed)\n",
    "    \n",
    "    np.random.seed(seed)\n",
    "    random.seed(seed)\n",
    "    torch.backends.cudnn.deterministic = True\n",
    "    torch.backends.cudnn.benchmark = False\n",
    "\n",
    "set_random_seed(42)"
   ]
  },
  {
   "cell_type": "code",
   "execution_count": 22,
   "metadata": {
    "execution": {
     "iopub.execute_input": "2025-02-27T14:06:38.361782Z",
     "iopub.status.busy": "2025-02-27T14:06:38.361468Z",
     "iopub.status.idle": "2025-02-27T14:06:39.387754Z",
     "shell.execute_reply": "2025-02-27T14:06:39.387074Z",
     "shell.execute_reply.started": "2025-02-27T14:06:38.361753Z"
    },
    "trusted": true
   },
   "outputs": [
    {
     "data": {
      "application/vnd.jupyter.widget-view+json": {
       "model_id": "c17ccb292b894721835faf89a2c5e4a6",
       "version_major": 2,
       "version_minor": 0
      },
      "text/plain": [
       "tokenizer_config.json:   0%|          | 0.00/282 [00:00<?, ?B/s]"
      ]
     },
     "metadata": {},
     "output_type": "display_data"
    },
    {
     "data": {
      "application/vnd.jupyter.widget-view+json": {
       "model_id": "2234e43b6d2340c59df715a5f983fc13",
       "version_major": 2,
       "version_minor": 0
      },
      "text/plain": [
       "config.json:   0%|          | 0.00/546 [00:00<?, ?B/s]"
      ]
     },
     "metadata": {},
     "output_type": "display_data"
    },
    {
     "data": {
      "application/vnd.jupyter.widget-view+json": {
       "model_id": "3a3d9fe3a79240d9b3e2b9280b366852",
       "version_major": 2,
       "version_minor": 0
      },
      "text/plain": [
       "sentencepiece.bpe.model:   0%|          | 0.00/905k [00:00<?, ?B/s]"
      ]
     },
     "metadata": {},
     "output_type": "display_data"
    }
   ],
   "source": [
    "model_name = \"airesearch/wangchanberta-base-att-spm-uncased\"\n",
    "tokenizer = AutoTokenizer.from_pretrained(model_name, revision='main', model_max_length=128)"
   ]
  },
  {
   "cell_type": "code",
   "execution_count": 23,
   "metadata": {
    "execution": {
     "iopub.execute_input": "2025-02-27T14:06:39.389683Z",
     "iopub.status.busy": "2025-02-27T14:06:39.389356Z",
     "iopub.status.idle": "2025-02-27T14:07:07.089639Z",
     "shell.execute_reply": "2025-02-27T14:07:07.088977Z",
     "shell.execute_reply.started": "2025-02-27T14:06:39.389659Z"
    },
    "trusted": true
   },
   "outputs": [],
   "source": [
    "X_train_tokens = tokenizer(train_data[:,0].tolist(), truncation=True, padding=True)\n",
    "X_test_tokens = tokenizer(test_data[:,1].tolist(), truncation=True, padding=True)\n",
    "num_labels = len(label_2_idx)"
   ]
  },
  {
   "cell_type": "code",
   "execution_count": 24,
   "metadata": {
    "execution": {
     "iopub.execute_input": "2025-02-27T14:07:07.090551Z",
     "iopub.status.busy": "2025-02-27T14:07:07.090331Z",
     "iopub.status.idle": "2025-02-27T14:07:07.347363Z",
     "shell.execute_reply": "2025-02-27T14:07:07.346555Z",
     "shell.execute_reply.started": "2025-02-27T14:07:07.090533Z"
    },
    "trusted": true
   },
   "outputs": [
    {
     "data": {
      "text/plain": [
       "(torch.Size([204622, 12]), torch.Size([10810, 12]))"
      ]
     },
     "execution_count": 24,
     "metadata": {},
     "output_type": "execute_result"
    }
   ],
   "source": [
    "y_train = np.array(train_data[:,1].tolist(), dtype=np.float32)\n",
    "y_train = torch.tensor(y_train, dtype = torch.float32)\n",
    "\n",
    "# y_train_np = y_train.numpy()\n",
    "# # new column: 1 if the row is all zeros, else 0\n",
    "# new_column = np.where(np.all(y_train_np == 0, axis=1), 1, 0).reshape(-1, 1)\n",
    "# y_train_np = np.hstack([y_train_np, new_column])\n",
    "\n",
    "# y_train = torch.tensor(y_train_np, dtype=torch.float32)\n",
    "\n",
    "y_test = np.array([[0] * 12 for _ in range(test_data.shape[0])], dtype=np.float32)\n",
    "y_test = torch.tensor(y_test, dtype = torch.float32)\n",
    "\n",
    "y_train.shape, y_test.shape"
   ]
  },
  {
   "cell_type": "code",
   "execution_count": 25,
   "metadata": {
    "execution": {
     "iopub.execute_input": "2025-02-27T14:07:07.348583Z",
     "iopub.status.busy": "2025-02-27T14:07:07.348280Z",
     "iopub.status.idle": "2025-02-27T14:07:18.874059Z",
     "shell.execute_reply": "2025-02-27T14:07:18.873409Z",
     "shell.execute_reply.started": "2025-02-27T14:07:07.348556Z"
    },
    "trusted": true
   },
   "outputs": [],
   "source": [
    "train_dataset = Dataset.from_dict({\n",
    "    \"input_ids\": X_train_tokens[\"input_ids\"],\n",
    "    \"attention_mask\": X_train_tokens[\"attention_mask\"],\n",
    "    \"labels\": y_train\n",
    "})\n",
    "\n",
    "test_dataset = Dataset.from_dict({\n",
    "    \"input_ids\": X_test_tokens[\"input_ids\"],\n",
    "    \"attention_mask\": X_test_tokens[\"attention_mask\"],\n",
    "    \"labels\": y_test\n",
    "})"
   ]
  },
  {
   "cell_type": "code",
   "execution_count": 26,
   "metadata": {
    "execution": {
     "iopub.execute_input": "2025-02-27T14:07:18.874924Z",
     "iopub.status.busy": "2025-02-27T14:07:18.874724Z",
     "iopub.status.idle": "2025-02-27T14:07:21.325247Z",
     "shell.execute_reply": "2025-02-27T14:07:21.324663Z",
     "shell.execute_reply.started": "2025-02-27T14:07:18.874908Z"
    },
    "trusted": true
   },
   "outputs": [
    {
     "data": {
      "application/vnd.jupyter.widget-view+json": {
       "model_id": "f31828c80fed41e59543833389021f98",
       "version_major": 2,
       "version_minor": 0
      },
      "text/plain": [
       "model.safetensors:   0%|          | 0.00/423M [00:00<?, ?B/s]"
      ]
     },
     "metadata": {},
     "output_type": "display_data"
    },
    {
     "name": "stderr",
     "output_type": "stream",
     "text": [
      "Some weights of CamembertForSequenceClassification were not initialized from the model checkpoint at airesearch/wangchanberta-base-att-spm-uncased and are newly initialized: ['classifier.dense.bias', 'classifier.dense.weight', 'classifier.out_proj.bias', 'classifier.out_proj.weight']\n",
      "You should probably TRAIN this model on a down-stream task to be able to use it for predictions and inference.\n"
     ]
    }
   ],
   "source": [
    "num_labels = 12\n",
    "model = AutoModelForSequenceClassification.from_pretrained(\n",
    "    model_name,\n",
    "    num_labels=num_labels,\n",
    "    problem_type=\"multi_label_classification\"\n",
    ")"
   ]
  },
  {
   "cell_type": "code",
   "execution_count": 27,
   "metadata": {
    "execution": {
     "iopub.execute_input": "2025-02-27T14:07:21.326214Z",
     "iopub.status.busy": "2025-02-27T14:07:21.326012Z",
     "iopub.status.idle": "2025-02-27T14:07:21.394646Z",
     "shell.execute_reply": "2025-02-27T14:07:21.393757Z",
     "shell.execute_reply.started": "2025-02-27T14:07:21.326196Z"
    },
    "trusted": true
   },
   "outputs": [],
   "source": [
    "training_args = TrainingArguments(\n",
    "    output_dir=\"multi_label_text_classification_wangchanberta_model\",\n",
    "    learning_rate=2e-5,\n",
    "    per_device_train_batch_size=16,\n",
    "    per_device_eval_batch_size=16,\n",
    "    num_train_epochs=3,\n",
    "    weight_decay=0.01,\n",
    "    eval_strategy=\"epoch\",\n",
    "    save_strategy=\"epoch\",\n",
    "    load_best_model_at_end=True,\n",
    "    report_to=\"wandb\"\n",
    ")"
   ]
  },
  {
   "cell_type": "code",
   "execution_count": 28,
   "metadata": {
    "execution": {
     "iopub.execute_input": "2025-02-27T14:07:21.395826Z",
     "iopub.status.busy": "2025-02-27T14:07:21.395476Z",
     "iopub.status.idle": "2025-02-27T14:07:23.376682Z",
     "shell.execute_reply": "2025-02-27T14:07:23.375867Z",
     "shell.execute_reply.started": "2025-02-27T14:07:21.395800Z"
    },
    "trusted": true
   },
   "outputs": [
    {
     "data": {
      "application/vnd.jupyter.widget-view+json": {
       "model_id": "407d48432c7842e7bbc8e3b9b0bdd2da",
       "version_major": 2,
       "version_minor": 0
      },
      "text/plain": [
       "Downloading builder script:   0%|          | 0.00/4.20k [00:00<?, ?B/s]"
      ]
     },
     "metadata": {},
     "output_type": "display_data"
    },
    {
     "data": {
      "application/vnd.jupyter.widget-view+json": {
       "model_id": "e9c25e0745b944ae889e57aaae1fa341",
       "version_major": 2,
       "version_minor": 0
      },
      "text/plain": [
       "Downloading builder script:   0%|          | 0.00/6.79k [00:00<?, ?B/s]"
      ]
     },
     "metadata": {},
     "output_type": "display_data"
    },
    {
     "data": {
      "application/vnd.jupyter.widget-view+json": {
       "model_id": "09cdc2a0a3c64e90be65f8c542ed64df",
       "version_major": 2,
       "version_minor": 0
      },
      "text/plain": [
       "Downloading builder script:   0%|          | 0.00/7.56k [00:00<?, ?B/s]"
      ]
     },
     "metadata": {},
     "output_type": "display_data"
    },
    {
     "data": {
      "application/vnd.jupyter.widget-view+json": {
       "model_id": "29acefc5839d466a9be52de784f676aa",
       "version_major": 2,
       "version_minor": 0
      },
      "text/plain": [
       "Downloading builder script:   0%|          | 0.00/7.38k [00:00<?, ?B/s]"
      ]
     },
     "metadata": {},
     "output_type": "display_data"
    }
   ],
   "source": [
    "classifier_metrics = evaluate.combine([\"accuracy\", \"f1\", \"precision\", \"recall\"])\n",
    "\n",
    "def sigmoid(x):\n",
    "   return 1/(1 + np.exp(-x))\n",
    "\n",
    "def compute_metrics(eval_pred):\n",
    "   predictions, labels = eval_pred\n",
    "   predictions = sigmoid(predictions)\n",
    "   predictions = (predictions > 0.5).astype(int).reshape(-1)\n",
    "   return classifier_metrics.compute(predictions=predictions, references=labels.astype(int).reshape(-1))"
   ]
  },
  {
   "cell_type": "code",
   "execution_count": 29,
   "metadata": {
    "execution": {
     "iopub.execute_input": "2025-02-27T14:07:23.377821Z",
     "iopub.status.busy": "2025-02-27T14:07:23.377545Z",
     "iopub.status.idle": "2025-02-27T14:07:23.766305Z",
     "shell.execute_reply": "2025-02-27T14:07:23.765637Z",
     "shell.execute_reply.started": "2025-02-27T14:07:23.377800Z"
    },
    "trusted": true
   },
   "outputs": [
    {
     "name": "stderr",
     "output_type": "stream",
     "text": [
      "<ipython-input-29-217194651456>:1: FutureWarning: `tokenizer` is deprecated and will be removed in version 5.0.0 for `Trainer.__init__`. Use `processing_class` instead.\n",
      "  trainer = Trainer(\n"
     ]
    }
   ],
   "source": [
    "trainer = Trainer(\n",
    "    model=model,\n",
    "    args=training_args,\n",
    "    train_dataset=train_dataset,\n",
    "    eval_dataset=test_dataset,\n",
    "    tokenizer=tokenizer,\n",
    "    compute_metrics=compute_metrics\n",
    ")"
   ]
  },
  {
   "cell_type": "code",
   "execution_count": 30,
   "metadata": {
    "execution": {
     "iopub.execute_input": "2025-02-27T14:07:23.767266Z",
     "iopub.status.busy": "2025-02-27T14:07:23.767058Z",
     "iopub.status.idle": "2025-02-27T16:36:11.825360Z",
     "shell.execute_reply": "2025-02-27T16:36:11.824672Z",
     "shell.execute_reply.started": "2025-02-27T14:07:23.767247Z"
    },
    "trusted": true
   },
   "outputs": [
    {
     "name": "stderr",
     "output_type": "stream",
     "text": [
      "\u001b[34m\u001b[1mwandb\u001b[0m: \u001b[33mWARNING\u001b[0m The `run_name` is currently set to the same value as `TrainingArguments.output_dir`. If this was not intended, please specify a different run name by setting the `TrainingArguments.run_name` parameter.\n"
     ]
    },
    {
     "data": {
      "text/html": [
       "Tracking run with wandb version 0.19.1"
      ],
      "text/plain": [
       "<IPython.core.display.HTML object>"
      ]
     },
     "metadata": {},
     "output_type": "display_data"
    },
    {
     "data": {
      "text/html": [
       "Run data is saved locally in <code>/kaggle/working/wandb/run-20250227_140724-76xrjge8</code>"
      ],
      "text/plain": [
       "<IPython.core.display.HTML object>"
      ]
     },
     "metadata": {},
     "output_type": "display_data"
    },
    {
     "data": {
      "text/html": [
       "Syncing run <strong><a href='https://wandb.ai/bookpanda/huggingface/runs/76xrjge8' target=\"_blank\">multi_label_text_classification_wangchanberta_model</a></strong> to <a href='https://wandb.ai/bookpanda/huggingface' target=\"_blank\">Weights & Biases</a> (<a href='https://wandb.me/developer-guide' target=\"_blank\">docs</a>)<br>"
      ],
      "text/plain": [
       "<IPython.core.display.HTML object>"
      ]
     },
     "metadata": {},
     "output_type": "display_data"
    },
    {
     "data": {
      "text/html": [
       " View project at <a href='https://wandb.ai/bookpanda/huggingface' target=\"_blank\">https://wandb.ai/bookpanda/huggingface</a>"
      ],
      "text/plain": [
       "<IPython.core.display.HTML object>"
      ]
     },
     "metadata": {},
     "output_type": "display_data"
    },
    {
     "data": {
      "text/html": [
       " View run at <a href='https://wandb.ai/bookpanda/huggingface/runs/76xrjge8' target=\"_blank\">https://wandb.ai/bookpanda/huggingface/runs/76xrjge8</a>"
      ],
      "text/plain": [
       "<IPython.core.display.HTML object>"
      ]
     },
     "metadata": {},
     "output_type": "display_data"
    },
    {
     "name": "stderr",
     "output_type": "stream",
     "text": [
      "/usr/local/lib/python3.10/dist-packages/torch/nn/parallel/_functions.py:71: UserWarning: Was asked to gather along dimension 0, but all input tensors were scalars; will instead unsqueeze and return a vector.\n",
      "  warnings.warn(\n"
     ]
    },
    {
     "data": {
      "text/html": [
       "\n",
       "    <div>\n",
       "      \n",
       "      <progress value='19185' max='19185' style='width:300px; height:20px; vertical-align: middle;'></progress>\n",
       "      [19185/19185 2:28:37, Epoch 3/3]\n",
       "    </div>\n",
       "    <table border=\"1\" class=\"dataframe\">\n",
       "  <thead>\n",
       " <tr style=\"text-align: left;\">\n",
       "      <th>Epoch</th>\n",
       "      <th>Training Loss</th>\n",
       "      <th>Validation Loss</th>\n",
       "      <th>Accuracy</th>\n",
       "      <th>F1</th>\n",
       "      <th>Precision</th>\n",
       "      <th>Recall</th>\n",
       "    </tr>\n",
       "  </thead>\n",
       "  <tbody>\n",
       "    <tr>\n",
       "      <td>1</td>\n",
       "      <td>0.056400</td>\n",
       "      <td>0.107774</td>\n",
       "      <td>0.960584</td>\n",
       "      <td>0.000000</td>\n",
       "      <td>0.000000</td>\n",
       "      <td>0.000000</td>\n",
       "    </tr>\n",
       "    <tr>\n",
       "      <td>2</td>\n",
       "      <td>0.049700</td>\n",
       "      <td>0.107842</td>\n",
       "      <td>0.960900</td>\n",
       "      <td>0.000000</td>\n",
       "      <td>0.000000</td>\n",
       "      <td>0.000000</td>\n",
       "    </tr>\n",
       "    <tr>\n",
       "      <td>3</td>\n",
       "      <td>0.046700</td>\n",
       "      <td>0.113548</td>\n",
       "      <td>0.959921</td>\n",
       "      <td>0.000000</td>\n",
       "      <td>0.000000</td>\n",
       "      <td>0.000000</td>\n",
       "    </tr>\n",
       "  </tbody>\n",
       "</table><p>"
      ],
      "text/plain": [
       "<IPython.core.display.HTML object>"
      ]
     },
     "metadata": {},
     "output_type": "display_data"
    },
    {
     "name": "stderr",
     "output_type": "stream",
     "text": [
      "/usr/local/lib/python3.10/dist-packages/sklearn/metrics/_classification.py:1344: UndefinedMetricWarning: Recall is ill-defined and being set to 0.0 due to no true samples. Use `zero_division` parameter to control this behavior.\n",
      "  _warn_prf(average, modifier, msg_start, len(result))\n",
      "/usr/local/lib/python3.10/dist-packages/torch/nn/parallel/_functions.py:71: UserWarning: Was asked to gather along dimension 0, but all input tensors were scalars; will instead unsqueeze and return a vector.\n",
      "  warnings.warn(\n",
      "/usr/local/lib/python3.10/dist-packages/sklearn/metrics/_classification.py:1344: UndefinedMetricWarning: Recall is ill-defined and being set to 0.0 due to no true samples. Use `zero_division` parameter to control this behavior.\n",
      "  _warn_prf(average, modifier, msg_start, len(result))\n",
      "/usr/local/lib/python3.10/dist-packages/torch/nn/parallel/_functions.py:71: UserWarning: Was asked to gather along dimension 0, but all input tensors were scalars; will instead unsqueeze and return a vector.\n",
      "  warnings.warn(\n",
      "/usr/local/lib/python3.10/dist-packages/torch/nn/parallel/_functions.py:71: UserWarning: Was asked to gather along dimension 0, but all input tensors were scalars; will instead unsqueeze and return a vector.\n",
      "  warnings.warn(\n",
      "/usr/local/lib/python3.10/dist-packages/sklearn/metrics/_classification.py:1344: UndefinedMetricWarning: Recall is ill-defined and being set to 0.0 due to no true samples. Use `zero_division` parameter to control this behavior.\n",
      "  _warn_prf(average, modifier, msg_start, len(result))\n"
     ]
    },
    {
     "data": {
      "text/plain": [
       "TrainOutput(global_step=19185, training_loss=0.055736577588504636, metrics={'train_runtime': 8927.0112, 'train_samples_per_second': 68.765, 'train_steps_per_second': 2.149, 'total_flos': 4.038235822089216e+16, 'train_loss': 0.055736577588504636, 'epoch': 3.0})"
      ]
     },
     "execution_count": 30,
     "metadata": {},
     "output_type": "execute_result"
    }
   ],
   "source": [
    "trainer.train()"
   ]
  },
  {
   "cell_type": "code",
   "execution_count": 79,
   "metadata": {
    "execution": {
     "iopub.execute_input": "2025-02-26T18:57:58.402688Z",
     "iopub.status.busy": "2025-02-26T18:57:58.402312Z",
     "iopub.status.idle": "2025-02-26T18:58:58.841225Z",
     "shell.execute_reply": "2025-02-26T18:58:58.840454Z",
     "shell.execute_reply.started": "2025-02-26T18:57:58.402653Z"
    },
    "trusted": true
   },
   "outputs": [
    {
     "data": {
      "text/plain": [
       "'/kaggle/working/checkpoint-6395.zip'"
      ]
     },
     "execution_count": 79,
     "metadata": {},
     "output_type": "execute_result"
    }
   ],
   "source": [
    "import shutil\n",
    "\n",
    "shutil.make_archive(\"/kaggle/working/checkpoint-6395\", \"zip\", \"/kaggle/working/multi_label_text_classification_wangchanberta_model/checkpoint-6395\")\n"
   ]
  },
  {
   "cell_type": "code",
   "execution_count": 40,
   "metadata": {
    "execution": {
     "iopub.execute_input": "2025-02-27T16:39:50.022536Z",
     "iopub.status.busy": "2025-02-27T16:39:50.022184Z",
     "iopub.status.idle": "2025-02-27T16:40:44.300193Z",
     "shell.execute_reply": "2025-02-27T16:40:44.299472Z",
     "shell.execute_reply.started": "2025-02-27T16:39:50.022506Z"
    },
    "trusted": true
   },
   "outputs": [
    {
     "name": "stderr",
     "output_type": "stream",
     "text": [
      "/usr/local/lib/python3.10/dist-packages/torch/nn/parallel/_functions.py:71: UserWarning: Was asked to gather along dimension 0, but all input tensors were scalars; will instead unsqueeze and return a vector.\n",
      "  warnings.warn(\n"
     ]
    },
    {
     "data": {
      "text/html": [],
      "text/plain": [
       "<IPython.core.display.HTML object>"
      ]
     },
     "metadata": {},
     "output_type": "display_data"
    },
    {
     "name": "stderr",
     "output_type": "stream",
     "text": [
      "/usr/local/lib/python3.10/dist-packages/sklearn/metrics/_classification.py:1344: UndefinedMetricWarning: Recall is ill-defined and being set to 0.0 due to no true samples. Use `zero_division` parameter to control this behavior.\n",
      "  _warn_prf(average, modifier, msg_start, len(result))\n"
     ]
    }
   ],
   "source": [
    "predictions = trainer.predict(test_dataset)"
   ]
  },
  {
   "cell_type": "code",
   "execution_count": 48,
   "metadata": {
    "execution": {
     "iopub.execute_input": "2025-02-27T16:46:45.108347Z",
     "iopub.status.busy": "2025-02-27T16:46:45.108032Z",
     "iopub.status.idle": "2025-02-27T16:46:45.114286Z",
     "shell.execute_reply": "2025-02-27T16:46:45.113687Z",
     "shell.execute_reply.started": "2025-02-27T16:46:45.108324Z"
    },
    "trusted": true
   },
   "outputs": [],
   "source": [
    "import pickle\n",
    "\n",
    "with open('predictions_50.pkl', 'wb') as f:\n",
    "    pickle.dump(predictions, f)"
   ]
  },
  {
   "cell_type": "code",
   "execution_count": 45,
   "metadata": {
    "execution": {
     "iopub.execute_input": "2025-02-27T16:42:53.047136Z",
     "iopub.status.busy": "2025-02-27T16:42:53.046811Z",
     "iopub.status.idle": "2025-02-27T16:42:53.162660Z",
     "shell.execute_reply": "2025-02-27T16:42:53.161771Z",
     "shell.execute_reply.started": "2025-02-27T16:42:53.047116Z"
    },
    "trusted": true
   },
   "outputs": [],
   "source": [
    "logits = torch.tensor(predictions.predictions)\n",
    "probs = torch.sigmoid(logits)\n",
    "pred_labels = (probs > 0.40).int().tolist()\n",
    "pred_df = pd.DataFrame(pred_labels, columns=contacts)\n",
    "\n",
    "test_df = pd.read_csv('/kaggle/input/dataset/test.csv')\n",
    "output_df = pd.concat([test_df[\"id\"], pred_df], axis=1)"
   ]
  },
  {
   "cell_type": "code",
   "execution_count": 46,
   "metadata": {
    "execution": {
     "iopub.execute_input": "2025-02-27T16:42:53.266345Z",
     "iopub.status.busy": "2025-02-27T16:42:53.266122Z",
     "iopub.status.idle": "2025-02-27T16:42:53.299951Z",
     "shell.execute_reply": "2025-02-27T16:42:53.299315Z",
     "shell.execute_reply.started": "2025-02-27T16:42:53.266327Z"
    },
    "trusted": true
   },
   "outputs": [],
   "source": [
    "output_df.to_csv('submission.csv', index=False)"
   ]
  },
  {
   "cell_type": "code",
   "execution_count": 47,
   "metadata": {
    "execution": {
     "iopub.execute_input": "2025-02-27T16:42:54.925228Z",
     "iopub.status.busy": "2025-02-27T16:42:54.924952Z",
     "iopub.status.idle": "2025-02-27T16:42:54.937331Z",
     "shell.execute_reply": "2025-02-27T16:42:54.936611Z",
     "shell.execute_reply.started": "2025-02-27T16:42:54.925210Z"
    },
    "trusted": true
   },
   "outputs": [
    {
     "data": {
      "text/html": [
       "<div>\n",
       "<style scoped>\n",
       "    .dataframe tbody tr th:only-of-type {\n",
       "        vertical-align: middle;\n",
       "    }\n",
       "\n",
       "    .dataframe tbody tr th {\n",
       "        vertical-align: top;\n",
       "    }\n",
       "\n",
       "    .dataframe thead th {\n",
       "        text-align: right;\n",
       "    }\n",
       "</style>\n",
       "<table border=\"1\" class=\"dataframe\">\n",
       "  <thead>\n",
       "    <tr style=\"text-align: right;\">\n",
       "      <th></th>\n",
       "      <th>id</th>\n",
       "      <th>สำนักงานตำรวจแห่งชาติ</th>\n",
       "      <th>การรถไฟฟ้าขนส่งมวลชนแห่งประเทศไทย</th>\n",
       "      <th>สภาเด็กและเยาวชนกรุงเทพมหานคร</th>\n",
       "      <th>กรมควบคุมมลพิษ</th>\n",
       "      <th>กรมสรรพสามิต</th>\n",
       "      <th>การไฟฟ้านครหลวง</th>\n",
       "      <th>กรมทางหลวง</th>\n",
       "      <th>สำนักงานประกันสุขภาพแห่งชาติ</th>\n",
       "      <th>การประปานครหลวง</th>\n",
       "      <th>คณะกรรมการการพัฒนาเศรษฐกิจ</th>\n",
       "      <th>กระทรวงการท่องเที่ยวและกีฬา</th>\n",
       "      <th>สำนักงาน กสทช. ศูนย์รับแจ้งปัญหา 1200</th>\n",
       "    </tr>\n",
       "  </thead>\n",
       "  <tbody>\n",
       "    <tr>\n",
       "      <th>0</th>\n",
       "      <td>0</td>\n",
       "      <td>0</td>\n",
       "      <td>0</td>\n",
       "      <td>0</td>\n",
       "      <td>0</td>\n",
       "      <td>0</td>\n",
       "      <td>0</td>\n",
       "      <td>0</td>\n",
       "      <td>0</td>\n",
       "      <td>0</td>\n",
       "      <td>0</td>\n",
       "      <td>0</td>\n",
       "      <td>0</td>\n",
       "    </tr>\n",
       "    <tr>\n",
       "      <th>1</th>\n",
       "      <td>1</td>\n",
       "      <td>0</td>\n",
       "      <td>0</td>\n",
       "      <td>0</td>\n",
       "      <td>0</td>\n",
       "      <td>0</td>\n",
       "      <td>0</td>\n",
       "      <td>0</td>\n",
       "      <td>0</td>\n",
       "      <td>0</td>\n",
       "      <td>0</td>\n",
       "      <td>0</td>\n",
       "      <td>0</td>\n",
       "    </tr>\n",
       "    <tr>\n",
       "      <th>2</th>\n",
       "      <td>2</td>\n",
       "      <td>0</td>\n",
       "      <td>0</td>\n",
       "      <td>0</td>\n",
       "      <td>0</td>\n",
       "      <td>0</td>\n",
       "      <td>0</td>\n",
       "      <td>0</td>\n",
       "      <td>0</td>\n",
       "      <td>0</td>\n",
       "      <td>0</td>\n",
       "      <td>0</td>\n",
       "      <td>0</td>\n",
       "    </tr>\n",
       "    <tr>\n",
       "      <th>3</th>\n",
       "      <td>3</td>\n",
       "      <td>0</td>\n",
       "      <td>0</td>\n",
       "      <td>0</td>\n",
       "      <td>0</td>\n",
       "      <td>0</td>\n",
       "      <td>0</td>\n",
       "      <td>1</td>\n",
       "      <td>0</td>\n",
       "      <td>0</td>\n",
       "      <td>0</td>\n",
       "      <td>0</td>\n",
       "      <td>0</td>\n",
       "    </tr>\n",
       "    <tr>\n",
       "      <th>4</th>\n",
       "      <td>4</td>\n",
       "      <td>0</td>\n",
       "      <td>0</td>\n",
       "      <td>0</td>\n",
       "      <td>0</td>\n",
       "      <td>0</td>\n",
       "      <td>1</td>\n",
       "      <td>0</td>\n",
       "      <td>0</td>\n",
       "      <td>0</td>\n",
       "      <td>0</td>\n",
       "      <td>0</td>\n",
       "      <td>0</td>\n",
       "    </tr>\n",
       "    <tr>\n",
       "      <th>...</th>\n",
       "      <td>...</td>\n",
       "      <td>...</td>\n",
       "      <td>...</td>\n",
       "      <td>...</td>\n",
       "      <td>...</td>\n",
       "      <td>...</td>\n",
       "      <td>...</td>\n",
       "      <td>...</td>\n",
       "      <td>...</td>\n",
       "      <td>...</td>\n",
       "      <td>...</td>\n",
       "      <td>...</td>\n",
       "      <td>...</td>\n",
       "    </tr>\n",
       "    <tr>\n",
       "      <th>10805</th>\n",
       "      <td>10805</td>\n",
       "      <td>0</td>\n",
       "      <td>0</td>\n",
       "      <td>0</td>\n",
       "      <td>0</td>\n",
       "      <td>0</td>\n",
       "      <td>0</td>\n",
       "      <td>0</td>\n",
       "      <td>0</td>\n",
       "      <td>0</td>\n",
       "      <td>0</td>\n",
       "      <td>0</td>\n",
       "      <td>0</td>\n",
       "    </tr>\n",
       "    <tr>\n",
       "      <th>10806</th>\n",
       "      <td>10806</td>\n",
       "      <td>0</td>\n",
       "      <td>0</td>\n",
       "      <td>0</td>\n",
       "      <td>0</td>\n",
       "      <td>0</td>\n",
       "      <td>0</td>\n",
       "      <td>0</td>\n",
       "      <td>0</td>\n",
       "      <td>0</td>\n",
       "      <td>0</td>\n",
       "      <td>0</td>\n",
       "      <td>0</td>\n",
       "    </tr>\n",
       "    <tr>\n",
       "      <th>10807</th>\n",
       "      <td>10807</td>\n",
       "      <td>0</td>\n",
       "      <td>0</td>\n",
       "      <td>0</td>\n",
       "      <td>0</td>\n",
       "      <td>0</td>\n",
       "      <td>0</td>\n",
       "      <td>0</td>\n",
       "      <td>0</td>\n",
       "      <td>0</td>\n",
       "      <td>0</td>\n",
       "      <td>0</td>\n",
       "      <td>0</td>\n",
       "    </tr>\n",
       "    <tr>\n",
       "      <th>10808</th>\n",
       "      <td>10808</td>\n",
       "      <td>1</td>\n",
       "      <td>0</td>\n",
       "      <td>0</td>\n",
       "      <td>0</td>\n",
       "      <td>0</td>\n",
       "      <td>0</td>\n",
       "      <td>0</td>\n",
       "      <td>0</td>\n",
       "      <td>0</td>\n",
       "      <td>0</td>\n",
       "      <td>0</td>\n",
       "      <td>0</td>\n",
       "    </tr>\n",
       "    <tr>\n",
       "      <th>10809</th>\n",
       "      <td>10809</td>\n",
       "      <td>1</td>\n",
       "      <td>0</td>\n",
       "      <td>0</td>\n",
       "      <td>0</td>\n",
       "      <td>0</td>\n",
       "      <td>0</td>\n",
       "      <td>0</td>\n",
       "      <td>0</td>\n",
       "      <td>0</td>\n",
       "      <td>0</td>\n",
       "      <td>0</td>\n",
       "      <td>0</td>\n",
       "    </tr>\n",
       "  </tbody>\n",
       "</table>\n",
       "<p>10810 rows × 13 columns</p>\n",
       "</div>"
      ],
      "text/plain": [
       "          id  สำนักงานตำรวจแห่งชาติ  การรถไฟฟ้าขนส่งมวลชนแห่งประเทศไทย  \\\n",
       "0          0                      0                                  0   \n",
       "1          1                      0                                  0   \n",
       "2          2                      0                                  0   \n",
       "3          3                      0                                  0   \n",
       "4          4                      0                                  0   \n",
       "...      ...                    ...                                ...   \n",
       "10805  10805                      0                                  0   \n",
       "10806  10806                      0                                  0   \n",
       "10807  10807                      0                                  0   \n",
       "10808  10808                      1                                  0   \n",
       "10809  10809                      1                                  0   \n",
       "\n",
       "       สภาเด็กและเยาวชนกรุงเทพมหานคร  กรมควบคุมมลพิษ  กรมสรรพสามิต  \\\n",
       "0                                  0               0             0   \n",
       "1                                  0               0             0   \n",
       "2                                  0               0             0   \n",
       "3                                  0               0             0   \n",
       "4                                  0               0             0   \n",
       "...                              ...             ...           ...   \n",
       "10805                              0               0             0   \n",
       "10806                              0               0             0   \n",
       "10807                              0               0             0   \n",
       "10808                              0               0             0   \n",
       "10809                              0               0             0   \n",
       "\n",
       "       การไฟฟ้านครหลวง  กรมทางหลวง  สำนักงานประกันสุขภาพแห่งชาติ  \\\n",
       "0                    0           0                             0   \n",
       "1                    0           0                             0   \n",
       "2                    0           0                             0   \n",
       "3                    0           1                             0   \n",
       "4                    1           0                             0   \n",
       "...                ...         ...                           ...   \n",
       "10805                0           0                             0   \n",
       "10806                0           0                             0   \n",
       "10807                0           0                             0   \n",
       "10808                0           0                             0   \n",
       "10809                0           0                             0   \n",
       "\n",
       "       การประปานครหลวง  คณะกรรมการการพัฒนาเศรษฐกิจ  \\\n",
       "0                    0                           0   \n",
       "1                    0                           0   \n",
       "2                    0                           0   \n",
       "3                    0                           0   \n",
       "4                    0                           0   \n",
       "...                ...                         ...   \n",
       "10805                0                           0   \n",
       "10806                0                           0   \n",
       "10807                0                           0   \n",
       "10808                0                           0   \n",
       "10809                0                           0   \n",
       "\n",
       "       กระทรวงการท่องเที่ยวและกีฬา  สำนักงาน กสทช. ศูนย์รับแจ้งปัญหา 1200  \n",
       "0                                0                                      0  \n",
       "1                                0                                      0  \n",
       "2                                0                                      0  \n",
       "3                                0                                      0  \n",
       "4                                0                                      0  \n",
       "...                            ...                                    ...  \n",
       "10805                            0                                      0  \n",
       "10806                            0                                      0  \n",
       "10807                            0                                      0  \n",
       "10808                            0                                      0  \n",
       "10809                            0                                      0  \n",
       "\n",
       "[10810 rows x 13 columns]"
      ]
     },
     "execution_count": 47,
     "metadata": {},
     "output_type": "execute_result"
    }
   ],
   "source": [
    "output_df"
   ]
  },
  {
   "cell_type": "code",
   "execution_count": null,
   "metadata": {
    "trusted": true
   },
   "outputs": [],
   "source": []
  }
 ],
 "metadata": {
  "kaggle": {
   "accelerator": "nvidiaTeslaT4",
   "dataSources": [
    {
     "datasetId": 6744969,
     "sourceId": 10858447,
     "sourceType": "datasetVersion"
    }
   ],
   "dockerImageVersionId": 30919,
   "isGpuEnabled": true,
   "isInternetEnabled": true,
   "language": "python",
   "sourceType": "notebook"
  },
  "kernelspec": {
   "display_name": "Python 3",
   "language": "python",
   "name": "python3"
  },
  "language_info": {
   "codemirror_mode": {
    "name": "ipython",
    "version": 3
   },
   "file_extension": ".py",
   "mimetype": "text/x-python",
   "name": "python",
   "nbconvert_exporter": "python",
   "pygments_lexer": "ipython3",
   "version": "3.10.12"
  }
 },
 "nbformat": 4,
 "nbformat_minor": 4
}
