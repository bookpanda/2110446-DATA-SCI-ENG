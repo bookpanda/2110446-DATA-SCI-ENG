{
 "cells": [
  {
   "cell_type": "code",
   "execution_count": null,
   "metadata": {},
   "outputs": [],
   "source": [
    "from bs4 import BeautifulSoup\n",
    "import re\n",
    "\n",
    "def Q1(file_path: str): # DO NOT modify this line\n",
    "    with open(file_path, \"r\", encoding=\"utf-8\") as file:\n",
    "        content = file.read()\n",
    "        \n",
    "    soup = BeautifulSoup(content, 'html.parser')\n",
    "    \n",
    "    bud_day_col = soup.find_all('div', class_='bud-day-col')\n",
    "    # วันศุกร์ที่ 6 มกราคม 2566\n",
    "    day_regex = r'วัน([ก-๙]+)ที่\\s(\\d+)\\s([ก-๙]+)\\s(\\d{4})'\n",
    "\n",
    "    days_count = [0 for _ in range(7)]\n",
    "    thai_day_to_idx = {\n",
    "        \"จันทร์\": 0,\n",
    "        \"อังคาร\": 1,\n",
    "        \"พุธ\": 2,\n",
    "        \"พฤหัสบดี\": 3,\n",
    "        \"ศุกร์\": 4,\n",
    "        \"เสาร์\": 5,\n",
    "        \"อาทิตย์\": 6\n",
    "    }\n",
    "    for div in bud_day_col:\n",
    "        if re.search(day_regex, div.text):\n",
    "            day_in_week = re.search(day_regex, div.text).group(1)\n",
    "            idx = thai_day_to_idx[day_in_week]\n",
    "            days_count[idx] += 1\n",
    "    \n",
    "    return days_count\n",
    "\n",
    "def Q2(file_path: str): # DO NOT modify this line\n",
    "    with open(file_path, \"r\", encoding=\"utf-8\") as file:\n",
    "        content = file.read()\n",
    "        \n",
    "    soup = BeautifulSoup(content, 'html.parser')\n",
    "    \n",
    "    target_div = soup.find(lambda tag: tag.name == \"div\" and \"bud-day\" in tag.get(\"class\", []) and tag.find(\"a\", string=\"วันวิสาขบูชา\"))\n",
    "    # print(target_div.text)\n",
    "    bud_day_col = target_div.find_all(\"div\", class_=\"bud-day-col\")\n",
    "\n",
    "    # วันศุกร์ที่ 6 มกราคม 2566\n",
    "    day_regex = r'วัน([ก-๙]+)ที่\\s(\\d+)\\s([ก-๙]+)\\s(\\d{4})'\n",
    "\n",
    "    for div in bud_day_col:\n",
    "        if re.search(day_regex, div.text):\n",
    "            return div.text\n",
    "\n",
    "exec(input().strip()) # do not delete this line"
   ]
  },
  {
   "cell_type": "code",
   "execution_count": 34,
   "metadata": {},
   "outputs": [
    {
     "data": {
      "text/plain": [
       "'วันเสาร์ที่ 3 มิถุนายน 2566'"
      ]
     },
     "execution_count": 34,
     "metadata": {},
     "output_type": "execute_result"
    }
   ],
   "source": [
    "# Q1(\"test.html\")\n",
    "Q2(\"test.html\")"
   ]
  },
  {
   "cell_type": "code",
   "execution_count": null,
   "metadata": {},
   "outputs": [],
   "source": []
  }
 ],
 "metadata": {
  "kernelspec": {
   "display_name": ".venv",
   "language": "python",
   "name": "python3"
  },
  "language_info": {
   "codemirror_mode": {
    "name": "ipython",
    "version": 3
   },
   "file_extension": ".py",
   "mimetype": "text/x-python",
   "name": "python",
   "nbconvert_exporter": "python",
   "pygments_lexer": "ipython3",
   "version": "3.12.5"
  }
 },
 "nbformat": 4,
 "nbformat_minor": 2
}
