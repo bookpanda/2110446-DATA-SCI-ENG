{
 "cells": [
  {
   "cell_type": "code",
   "execution_count": 1,
   "id": "3433e734",
   "metadata": {},
   "outputs": [],
   "source": [
    "def Q1():\n",
    "    \"\"\"\n",
    "\t[Grader: YES] 522*4043 = ?\n",
    "    \"\"\"\n",
    "    # Hint: int [ex. 999]\n",
    "    return 522 * 4043\n",
    "\n",
    "\n",
    "def Q2():\n",
    "    '''\n",
    "\t[Grader: NO] What is the course code for this course?\n",
    "    '''\n",
    "    # Hint: string [ex. \"A\"]\n",
    "    return \"2110446\"\n",
    "\n",
    "# Submit this file to Grader: DSDE_Test_Ans "
   ]
  },
  {
   "cell_type": "code",
   "execution_count": null,
   "id": "1d041ee6",
   "metadata": {},
   "outputs": [],
   "source": []
  }
 ],
 "metadata": {
  "kernelspec": {
   "display_name": ".venv",
   "language": "python",
   "name": "python3"
  },
  "language_info": {
   "codemirror_mode": {
    "name": "ipython",
    "version": 3
   },
   "file_extension": ".py",
   "mimetype": "text/x-python",
   "name": "python",
   "nbconvert_exporter": "python",
   "pygments_lexer": "ipython3",
   "version": "3.12.5"
  }
 },
 "nbformat": 4,
 "nbformat_minor": 5
}
