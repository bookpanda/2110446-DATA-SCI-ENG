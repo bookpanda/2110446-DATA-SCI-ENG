{
 "cells": [
  {
   "cell_type": "markdown",
   "metadata": {},
   "source": [
    "# Spark Preparation\n",
    "We check if we are in Google Colab.  If this is the case, install all necessary packages.\n",
    "\n",
    "To run spark in Colab, we need to first install all the dependencies in Colab environment i.e. Apache Spark 3.3.2 with hadoop 3.3, Java 8 and Findspark to locate the spark in the system. The tools installation can be carried out inside the Jupyter Notebook of the Colab.\n",
    "Learn more from [A Must-Read Guide on How to Work with PySpark on Google Colab for Data Scientists!](https://www.analyticsvidhya.com/blog/2020/11/a-must-read-guide-on-how-to-work-with-pyspark-on-google-colab-for-data-scientists/)"
   ]
  },
  {
   "cell_type": "code",
   "execution_count": 1,
   "metadata": {},
   "outputs": [],
   "source": [
    "try:\n",
    "  import google.colab\n",
    "  IN_COLAB = True\n",
    "except:\n",
    "  IN_COLAB = False"
   ]
  },
  {
   "cell_type": "code",
   "execution_count": 8,
   "metadata": {},
   "outputs": [],
   "source": [
    "import os\n",
    "\n",
    "if IN_COLAB:\n",
    "    !apt-get install openjdk-8-jdk-headless -qq > /dev/null\n",
    "    !wget -q https://dlcdn.apache.org/spark/spark-3.3.2/spark-3.3.2-bin-hadoop3.tgz\n",
    "    !tar xf spark-3.3.2-bin-hadoop3.tgz\n",
    "    !mv spark-3.3.2-bin-hadoop3 spark\n",
    "    !pip install -q findspark\n",
    "    os.environ[\"JAVA_HOME\"] = \"/usr/lib/jvm/java-8-openjdk-amd64\"\n",
    "    os.environ[\"SPARK_HOME\"] = \"/content/spark\"\n",
    "else:\n",
    "    os.environ[\"JAVA_HOME\"] = \"/opt/homebrew/opt/openjdk@17\"\n",
    "    os.environ[\"SPARK_HOME\"] = \"./spark\"\n",
    "\n"
   ]
  },
  {
   "cell_type": "markdown",
   "metadata": {},
   "source": [
    "# Start a Local Cluster"
   ]
  },
  {
   "cell_type": "code",
   "execution_count": 9,
   "metadata": {},
   "outputs": [],
   "source": [
    "import findspark\n",
    "findspark.init()\n",
    "\n",
    "spark_url = 'local'"
   ]
  },
  {
   "cell_type": "code",
   "execution_count": 10,
   "metadata": {},
   "outputs": [
    {
     "name": "stderr",
     "output_type": "stream",
     "text": [
      "25/03/25 21:28:22 WARN Utils: Your hostname, Idhibhats-MacBook-Air.local resolves to a loopback address: 127.0.0.1; using 192.168.1.137 instead (on interface en0)\n",
      "25/03/25 21:28:22 WARN Utils: Set SPARK_LOCAL_IP if you need to bind to another address\n",
      "Setting default log level to \"WARN\".\n",
      "To adjust logging level use sc.setLogLevel(newLevel). For SparkR, use setLogLevel(newLevel).\n",
      "25/03/25 21:28:23 WARN NativeCodeLoader: Unable to load native-hadoop library for your platform... using builtin-java classes where applicable\n"
     ]
    }
   ],
   "source": [
    "from pyspark.sql import SparkSession\n",
    "from pyspark.sql import SQLContext\n",
    "\n",
    "spark = SparkSession.builder\\\n",
    "        .master(spark_url)\\\n",
    "        .appName('Spark Tutorial')\\\n",
    "        .config('spark.ui.port', '4040')\\\n",
    "        .getOrCreate()"
   ]
  },
  {
   "cell_type": "markdown",
   "metadata": {},
   "source": [
    "# Spark Assignment\n",
    "\n",
    "Based on the movie review dataset in 'netflix-rotten-tomatoes-metacritic-imdb.csv', answer the below questions.\n",
    "\n",
    "**Note:** do not clean or remove missing data"
   ]
  },
  {
   "cell_type": "code",
   "execution_count": 17,
   "metadata": {},
   "outputs": [],
   "source": [
    "df_imdb = spark.read.csv(\"netflix-rotten-tomatoes-metacritic-imdb.csv\", header=True, inferSchema=True)\n",
    "\n",
    "cols = [c.replace(' ', '_') for c in df_imdb.columns]\n",
    "df_imdb = df_imdb.toDF(*cols)"
   ]
  },
  {
   "cell_type": "code",
   "execution_count": 18,
   "metadata": {},
   "outputs": [
    {
     "name": "stdout",
     "output_type": "stream",
     "text": [
      "root\n",
      " |-- Title: string (nullable = true)\n",
      " |-- Genre: string (nullable = true)\n",
      " |-- Tags: string (nullable = true)\n",
      " |-- Languages: string (nullable = true)\n",
      " |-- Series_or_Movie: string (nullable = true)\n",
      " |-- Hidden_Gem_Score: double (nullable = true)\n",
      " |-- Country_Availability: string (nullable = true)\n",
      " |-- Runtime: string (nullable = true)\n",
      " |-- Director: string (nullable = true)\n",
      " |-- Writer: string (nullable = true)\n",
      " |-- Actors: string (nullable = true)\n",
      " |-- View_Rating: string (nullable = true)\n",
      " |-- IMDb_Score: string (nullable = true)\n",
      " |-- Rotten_Tomatoes_Score: string (nullable = true)\n",
      " |-- Metacritic_Score: string (nullable = true)\n",
      " |-- Awards_Received: double (nullable = true)\n",
      " |-- Awards_Nominated_For: double (nullable = true)\n",
      " |-- Boxoffice: string (nullable = true)\n",
      " |-- Release_Date: string (nullable = true)\n",
      " |-- Netflix_Release_Date: string (nullable = true)\n",
      " |-- Production_House: string (nullable = true)\n",
      " |-- Netflix_Link: string (nullable = true)\n",
      " |-- IMDb_Link: string (nullable = true)\n",
      " |-- Summary: string (nullable = true)\n",
      " |-- IMDb_Votes: string (nullable = true)\n",
      " |-- Image: string (nullable = true)\n",
      " |-- Poster: string (nullable = true)\n",
      " |-- TMDb_Trailer: string (nullable = true)\n",
      " |-- Trailer_Site: string (nullable = true)\n",
      "\n"
     ]
    }
   ],
   "source": [
    "df_imdb.printSchema()"
   ]
  },
  {
   "cell_type": "code",
   "execution_count": 25,
   "metadata": {},
   "outputs": [
    {
     "name": "stdout",
     "output_type": "stream",
     "text": [
      "+-------------------+--------------------+--------------------+----------------+---------------+----------------+--------------------+------------+---------------+--------------------+--------------------+-----------+----------+---------------------+----------------+---------------+--------------------+----------+------------+--------------------+--------------------+--------------------+--------------------+--------------------+----------+--------------------+--------------------+--------------------+------------+\n",
      "|              Title|               Genre|                Tags|       Languages|Series_or_Movie|Hidden_Gem_Score|Country_Availability|     Runtime|       Director|              Writer|              Actors|View_Rating|IMDb_Score|Rotten_Tomatoes_Score|Metacritic_Score|Awards_Received|Awards_Nominated_For| Boxoffice|Release_Date|Netflix_Release_Date|    Production_House|        Netflix_Link|           IMDb_Link|             Summary|IMDb_Votes|               Image|              Poster|        TMDb_Trailer|Trailer_Site|\n",
      "+-------------------+--------------------+--------------------+----------------+---------------+----------------+--------------------+------------+---------------+--------------------+--------------------+-----------+----------+---------------------+----------------+---------------+--------------------+----------+------------+--------------------+--------------------+--------------------+--------------------+--------------------+----------+--------------------+--------------------+--------------------+------------+\n",
      "|   Lets Fight Ghost|Crime, Drama, Fan...|Comedy Programmes...|Swedish, Spanish|         Series|             4.3|            Thailand|< 30 minutes|Tomas Alfredson|John Ajvide Lindq...|Kåre Hedebrant, P...|          R|       7.9|                 98.0|            82.0|           74.0|                57.0|$2,122,065| 12 Dec 2008|          2021-03-04|Canal+, Sandrew M...|https://www.netfl...|https://www.imdb....|A med student wit...|  205926.0|https://occ-0-470...|https://m.media-a...|                NULL|        NULL|\n",
      "|HOW TO BUILD A GIRL|              Comedy|Dramas,Comedies,F...|         English|          Movie|             7.0|              Canada|    1-2 hour|  Coky Giedroyc|       Caitlin Moran|Paddy Considine, ...|          R|       5.8|                 79.0|            69.0|            1.0|                NULL|   $70,632| 08 May 2020|          2021-03-04|Film 4, Monumenta...|https://www.netfl...|https://www.imdb....|When nerdy Johann...|    2838.0|https://occ-0-108...|https://m.media-a...|https://www.youtu...|     YouTube|\n",
      "|         Centigrade|     Drama, Thriller|           Thrillers|         English|          Movie|             6.4|              Canada|    1-2 hour|  Brendan Walsh|Brendan Walsh, Da...|Genesis Rodriguez...|    Unrated|       4.3|                 NULL|            46.0|           NULL|                NULL|   $16,263| 28 Aug 2020|          2021-03-04|                NULL|https://www.netfl...|https://www.imdb....|Trapped in a froz...|    1720.0|https://occ-0-108...|https://m.media-a...|https://www.youtu...|     YouTube|\n",
      "|              ANNE+|               Drama|TV Dramas,Romanti...|         Turkish|         Series|             7.7| Belgium,Netherlands|< 30 minutes|           NULL|                NULL|Vahide Perçin, Go...|       NULL|       6.5|                 NULL|            NULL|            1.0|                NULL|      NULL| 01 Oct 2016|          2021-03-04|                NULL|https://www.netfl...|https://www.imdb....|Upon moving into ...|    1147.0|https://occ-0-148...|https://m.media-a...|                NULL|        NULL|\n",
      "|              Moxie|Animation, Short,...|Social Issue Dram...|         English|          Movie|             8.1|Lithuania,Poland,...|    1-2 hour|  Stephen Irwin|                NULL|        Ragga Gudrun|       NULL|       6.3|                 NULL|            NULL|           NULL|                 4.0|      NULL| 22 Sep 2011|          2021-03-04|                NULL|https://www.netfl...|https://www.imdb....|Inspired by her m...|      63.0|https://occ-0-403...|https://m.media-a...|                NULL|        NULL|\n",
      "+-------------------+--------------------+--------------------+----------------+---------------+----------------+--------------------+------------+---------------+--------------------+--------------------+-----------+----------+---------------------+----------------+---------------+--------------------+----------+------------+--------------------+--------------------+--------------------+--------------------+--------------------+----------+--------------------+--------------------+--------------------+------------+\n",
      "only showing top 5 rows\n",
      "\n"
     ]
    }
   ],
   "source": [
    "df_imdb.show(5)"
   ]
  },
  {
   "cell_type": "markdown",
   "metadata": {},
   "source": [
    "## What is the maximum and average of the overall hidden gem score?"
   ]
  },
  {
   "cell_type": "code",
   "execution_count": 24,
   "metadata": {},
   "outputs": [
    {
     "name": "stderr",
     "output_type": "stream",
     "text": [
      "[Stage 8:>                                                          (0 + 1) / 1]\r"
     ]
    },
    {
     "name": "stdout",
     "output_type": "stream",
     "text": [
      "+---------------------+---------------------+\n",
      "|max(Hidden_Gem_Score)|avg(Hidden_Gem_Score)|\n",
      "+---------------------+---------------------+\n",
      "|                  9.8|    5.937551386501226|\n",
      "+---------------------+---------------------+\n",
      "\n"
     ]
    },
    {
     "name": "stderr",
     "output_type": "stream",
     "text": [
      "                                                                                \r"
     ]
    }
   ],
   "source": [
    "from pyspark.sql.functions import avg, min, max\n",
    "df_imdb.select(max(\"Hidden_Gem_Score\"), avg(\"Hidden_Gem_Score\")).show()"
   ]
  },
  {
   "cell_type": "markdown",
   "metadata": {},
   "source": [
    "## How many movies that are available in Korea?"
   ]
  },
  {
   "cell_type": "code",
   "execution_count": null,
   "metadata": {},
   "outputs": [
    {
     "data": {
      "text/plain": [
       "4845"
      ]
     },
     "execution_count": 27,
     "metadata": {},
     "output_type": "execute_result"
    }
   ],
   "source": [
    "df_imdb.filter(df_imdb[\"Country_Availability\"].like(\"%Korea%\")).count()"
   ]
  },
  {
   "cell_type": "code",
   "execution_count": 26,
   "metadata": {},
   "outputs": [
    {
     "data": {
      "text/plain": [
       "4845"
      ]
     },
     "execution_count": 26,
     "metadata": {},
     "output_type": "execute_result"
    }
   ],
   "source": [
    "df_imdb.filter(df_imdb[\"Country_Availability\"].contains(\"Korea\")).count()"
   ]
  },
  {
   "cell_type": "markdown",
   "metadata": {},
   "source": [
    "## Which director has the highest average hidden gem score?"
   ]
  },
  {
   "cell_type": "code",
   "execution_count": 31,
   "metadata": {},
   "outputs": [
    {
     "name": "stdout",
     "output_type": "stream",
     "text": [
      "+--------------------+--------------------+\n",
      "|            Director|Avg_Hidden_Gem_Score|\n",
      "+--------------------+--------------------+\n",
      "|         Dorin Marcu|                 9.8|\n",
      "|    Fernando Escovar|                 9.6|\n",
      "|          Rosa Russo|                 9.5|\n",
      "|         Kate Brooks|                 9.5|\n",
      "|Vincent Bal, Kenn...|                 9.5|\n",
      "|    Ignacio Busquier|                 9.5|\n",
      "|Bill Butler, Will...|                 9.5|\n",
      "|     Charles Officer|                 9.4|\n",
      "|           Ryan Sage|                 9.3|\n",
      "|   Frederico Machado|                 9.3|\n",
      "|    Ashish R. Shukla|                 9.3|\n",
      "|         Lisa France|                 9.3|\n",
      "|Jacqui Morris, Da...|                 9.3|\n",
      "|    Jan Philipp Weyl|                 9.3|\n",
      "|      Aundre Johnson|                 9.3|\n",
      "|        R.J. Bentler|                 9.3|\n",
      "|     Rabeah Ghaffari|                 9.3|\n",
      "|          Oh Jin-Koo|                 9.3|\n",
      "|        Shinkyu Choi|                 9.3|\n",
      "|         André Canto|                 9.2|\n",
      "+--------------------+--------------------+\n",
      "only showing top 20 rows\n",
      "\n"
     ]
    }
   ],
   "source": [
    "df_imdb.groupby(\"Director\") \\\n",
    "    .agg(avg(\"Hidden_Gem_Score\").alias(\"Avg_Hidden_Gem_Score\")) \\\n",
    "    .sort(\"Avg_Hidden_Gem_Score\", ascending=False) \\\n",
    "    .show()"
   ]
  },
  {
   "cell_type": "markdown",
   "metadata": {},
   "source": [
    "## How many genres are there in the dataset?"
   ]
  },
  {
   "cell_type": "code",
   "execution_count": 51,
   "metadata": {},
   "outputs": [],
   "source": [
    "from pyspark.sql import functions as F"
   ]
  },
  {
   "cell_type": "code",
   "execution_count": 53,
   "metadata": {},
   "outputs": [
    {
     "name": "stdout",
     "output_type": "stream",
     "text": [
      "+---------+\n",
      "|    Genre|\n",
      "+---------+\n",
      "|    Crime|\n",
      "|    Drama|\n",
      "|  Fantasy|\n",
      "|   Horror|\n",
      "|  Romance|\n",
      "|   Comedy|\n",
      "|    Drama|\n",
      "| Thriller|\n",
      "|    Drama|\n",
      "|Animation|\n",
      "|    Short|\n",
      "|    Drama|\n",
      "|   Comedy|\n",
      "|  Romance|\n",
      "|    Drama|\n",
      "|    Crime|\n",
      "|    Drama|\n",
      "|   Comedy|\n",
      "|   Comedy|\n",
      "|   Family|\n",
      "+---------+\n",
      "only showing top 20 rows\n",
      "\n"
     ]
    }
   ],
   "source": [
    "all_genres = df_imdb.select(\n",
    "    F.explode(\n",
    "        F.split(F.col(\"Genre\"), \",\")\n",
    "    ).alias(\"Genre\")\n",
    ")\n",
    "\n",
    "all_genres.show()"
   ]
  },
  {
   "cell_type": "code",
   "execution_count": 55,
   "metadata": {},
   "outputs": [
    {
     "data": {
      "text/plain": [
       "28"
      ]
     },
     "execution_count": 55,
     "metadata": {},
     "output_type": "execute_result"
    }
   ],
   "source": [
    "all_genres.select(F.trim(F.col(\"Genre\"))).distinct().count()"
   ]
  },
  {
   "cell_type": "code",
   "execution_count": null,
   "metadata": {},
   "outputs": [],
   "source": []
  }
 ],
 "metadata": {
  "kernelspec": {
   "display_name": ".venv",
   "language": "python",
   "name": "python3"
  },
  "language_info": {
   "codemirror_mode": {
    "name": "ipython",
    "version": 3
   },
   "file_extension": ".py",
   "mimetype": "text/x-python",
   "name": "python",
   "nbconvert_exporter": "python",
   "pygments_lexer": "ipython3",
   "version": "3.12.5"
  },
  "toc": {
   "base_numbering": 1,
   "nav_menu": {},
   "number_sections": true,
   "sideBar": true,
   "skip_h1_title": false,
   "title_cell": "Table of Contents",
   "title_sidebar": "Contents",
   "toc_cell": false,
   "toc_position": {},
   "toc_section_display": true,
   "toc_window_display": false
  },
  "varInspector": {
   "cols": {
    "lenName": 16,
    "lenType": 16,
    "lenVar": 40
   },
   "kernels_config": {
    "python": {
     "delete_cmd_postfix": "",
     "delete_cmd_prefix": "del ",
     "library": "var_list.py",
     "varRefreshCmd": "print(var_dic_list())"
    },
    "r": {
     "delete_cmd_postfix": ") ",
     "delete_cmd_prefix": "rm(",
     "library": "var_list.r",
     "varRefreshCmd": "cat(var_dic_list()) "
    }
   },
   "types_to_exclude": [
    "module",
    "function",
    "builtin_function_or_method",
    "instance",
    "_Feature"
   ],
   "window_display": false
  }
 },
 "nbformat": 4,
 "nbformat_minor": 4
}
