{
  "cells": [
    {
      "cell_type": "markdown",
      "metadata": {
        "id": "NCHHw7JmBE-R"
      },
      "source": [
        "# Spark Preparation\n",
        "We check if we are in Google Colab.  If this is the case, install all necessary packages.\n",
        "\n",
        "To run spark in Colab, we need to first install all the dependencies in Colab environment i.e. Apache Spark 3.3.2 with hadoop 3.2, Java 8 and Findspark to locate the spark in the system. The tools installation can be carried out inside the Jupyter Notebook of the Colab.\n",
        "Learn more from [A Must-Read Guide on How to Work with PySpark on Google Colab for Data Scientists!](https://www.analyticsvidhya.com/blog/2020/11/a-must-read-guide-on-how-to-work-with-pyspark-on-google-colab-for-data-scientists/)"
      ]
    },
    {
      "cell_type": "code",
      "execution_count": 1,
      "metadata": {
        "id": "o5IklZSTX4mG"
      },
      "outputs": [],
      "source": [
        "try:\n",
        "  import google.colab\n",
        "  IN_COLAB = True\n",
        "except:\n",
        "  IN_COLAB = False"
      ]
    },
    {
      "cell_type": "code",
      "execution_count": 11,
      "metadata": {
        "id": "9XiZNubiX9nq"
      },
      "outputs": [],
      "source": [
        "if IN_COLAB:\n",
        "    !apt-get install openjdk-8-jdk-headless -qq > /dev/null\n",
        "    !wget -q https://dlcdn.apache.org/spark/spark-3.5.5/spark-3.5.5-bin-hadoop3.tgz\n",
        "    !tar xf spark-3.5.5-bin-hadoop3.tgz\n",
        "    !mv spark-3.5.5-bin-hadoop3 spark\n",
        "    !pip install -q findspark\n",
        "    import os\n",
        "    os.environ[\"JAVA_HOME\"] = \"/usr/lib/jvm/java-8-openjdk-amd64\"\n",
        "    os.environ[\"SPARK_HOME\"] = \"/content/spark\""
      ]
    },
    {
      "cell_type": "markdown",
      "metadata": {
        "id": "Tvbv_avAY5b_"
      },
      "source": [
        "# Start a Local Cluster\n",
        "Use findspark.init() to start a local cluster.  If you plan to use remote cluster, skip the findspark.init() and change the cluster_url according."
      ]
    },
    {
      "cell_type": "code",
      "execution_count": 12,
      "metadata": {
        "id": "PQg0Ed6cOl5b"
      },
      "outputs": [],
      "source": [
        "import findspark\n",
        "findspark.init()"
      ]
    },
    {
      "cell_type": "code",
      "execution_count": 13,
      "metadata": {
        "id": "b715cKafZNkF"
      },
      "outputs": [],
      "source": [
        "spark_url = 'local'"
      ]
    },
    {
      "cell_type": "code",
      "execution_count": 14,
      "metadata": {
        "id": "VuvWws-GCpMg"
      },
      "outputs": [],
      "source": [
        "from pyspark.sql import SparkSession\n",
        "from pyspark.sql import SQLContext\n",
        "\n",
        "spark = SparkSession.builder\\\n",
        "        .master(spark_url)\\\n",
        "        .appName('Spark Tutorial')\\\n",
        "        .config('spark.ui.port', '4040')\\\n",
        "        .getOrCreate()"
      ]
    },
    {
      "cell_type": "markdown",
      "metadata": {
        "id": "Q4KY8J5jBB3e"
      },
      "source": [
        "# Spark Entry Points"
      ]
    },
    {
      "cell_type": "code",
      "execution_count": 15,
      "metadata": {
        "id": "bPgz83i37kk2"
      },
      "outputs": [],
      "source": [
        "sc = spark.sparkContext"
      ]
    },
    {
      "cell_type": "code",
      "execution_count": 16,
      "metadata": {
        "id": "ytNE6TgaBB3j",
        "colab": {
          "base_uri": "https://localhost:8080/",
          "height": 221
        },
        "outputId": "b3dd48aa-8f74-424d-dfd3-30b772fe9111"
      },
      "outputs": [
        {
          "output_type": "execute_result",
          "data": {
            "text/plain": [
              "<pyspark.sql.session.SparkSession at 0x7e4c228548d0>"
            ],
            "text/html": [
              "\n",
              "            <div>\n",
              "                <p><b>SparkSession - in-memory</b></p>\n",
              "                \n",
              "        <div>\n",
              "            <p><b>SparkContext</b></p>\n",
              "\n",
              "            <p><a href=\"http://d89a363ddcea:4040\">Spark UI</a></p>\n",
              "\n",
              "            <dl>\n",
              "              <dt>Version</dt>\n",
              "                <dd><code>v3.5.5</code></dd>\n",
              "              <dt>Master</dt>\n",
              "                <dd><code>local</code></dd>\n",
              "              <dt>AppName</dt>\n",
              "                <dd><code>Spark Tutorial</code></dd>\n",
              "            </dl>\n",
              "        </div>\n",
              "        \n",
              "            </div>\n",
              "        "
            ]
          },
          "metadata": {},
          "execution_count": 16
        }
      ],
      "source": [
        "spark"
      ]
    },
    {
      "cell_type": "code",
      "execution_count": 17,
      "metadata": {
        "colab": {
          "base_uri": "https://localhost:8080/",
          "height": 197
        },
        "id": "ephmUdI17kk3",
        "outputId": "b4484c48-da1d-4143-e400-f8e108850e9b"
      },
      "outputs": [
        {
          "output_type": "execute_result",
          "data": {
            "text/plain": [
              "<SparkContext master=local appName=Spark Tutorial>"
            ],
            "text/html": [
              "\n",
              "        <div>\n",
              "            <p><b>SparkContext</b></p>\n",
              "\n",
              "            <p><a href=\"http://d89a363ddcea:4040\">Spark UI</a></p>\n",
              "\n",
              "            <dl>\n",
              "              <dt>Version</dt>\n",
              "                <dd><code>v3.5.5</code></dd>\n",
              "              <dt>Master</dt>\n",
              "                <dd><code>local</code></dd>\n",
              "              <dt>AppName</dt>\n",
              "                <dd><code>Spark Tutorial</code></dd>\n",
              "            </dl>\n",
              "        </div>\n",
              "        "
            ]
          },
          "metadata": {},
          "execution_count": 17
        }
      ],
      "source": [
        "sc"
      ]
    },
    {
      "cell_type": "markdown",
      "metadata": {
        "id": "2USEaXdZBB3k"
      },
      "source": [
        "## Simple RDD Operations\n",
        "\n",
        "There are 2 types of RDD operations, tranformation and action.  Transformation is an operation applied on a RDD to create new RDD (or create a new RDD from data).  Action is an operation applied on a RDD to perform computation and send the result back to driver.\n",
        "\n",
        "### Transformation Operations\n",
        "- *sc.parallelize(data)*\n",
        "create an RDD from data\n",
        "- *rdd.filter(func)*\n",
        "create a new rdd from existing rdd and keep only those elements that func is true\n",
        "\n",
        "### Action Operations\n",
        "- *rdd.count()*\n",
        "count number of elements in an rdd\n",
        "- *rdd.first()*\n",
        "get the frist element in the rdd\n",
        "- *rdd.collect()*\n",
        "gather all elements in the rdd into a python list\n",
        "- *rdd.take(n)*\n",
        "gather first n-th elements in the rdd into a python list"
      ]
    },
    {
      "cell_type": "code",
      "execution_count": 18,
      "metadata": {
        "id": "8_iMIj_iBB3k"
      },
      "outputs": [],
      "source": [
        "data = [1, 2, 3, 4, 5]\n",
        "rdd = sc.parallelize(data)"
      ]
    },
    {
      "cell_type": "code",
      "execution_count": 19,
      "metadata": {
        "colab": {
          "base_uri": "https://localhost:8080/"
        },
        "id": "d5_yCUQC7kk3",
        "outputId": "ccf3d673-cd6d-482d-c4fc-f6bb413c17f9"
      },
      "outputs": [
        {
          "output_type": "execute_result",
          "data": {
            "text/plain": [
              "ParallelCollectionRDD[0] at readRDDFromFile at PythonRDD.scala:289"
            ]
          },
          "metadata": {},
          "execution_count": 19
        }
      ],
      "source": [
        "rdd"
      ]
    },
    {
      "cell_type": "code",
      "execution_count": 20,
      "metadata": {
        "colab": {
          "base_uri": "https://localhost:8080/"
        },
        "id": "OG_0mSv-7kk3",
        "outputId": "c7a83a91-620c-4cfb-c1ab-fac3f30552e5"
      },
      "outputs": [
        {
          "output_type": "stream",
          "name": "stdout",
          "text": [
            "count = 5\n"
          ]
        }
      ],
      "source": [
        "n = rdd.count()\n",
        "print('count = {0}'.format(n))"
      ]
    },
    {
      "cell_type": "code",
      "execution_count": 21,
      "metadata": {
        "colab": {
          "base_uri": "https://localhost:8080/"
        },
        "id": "uR3UquPD7kk3",
        "outputId": "9463d138-a4da-4f87-e9ac-317b659dffd6"
      },
      "outputs": [
        {
          "output_type": "execute_result",
          "data": {
            "text/plain": [
              "1"
            ]
          },
          "metadata": {},
          "execution_count": 21
        }
      ],
      "source": [
        "rdd.first()"
      ]
    },
    {
      "cell_type": "code",
      "execution_count": 22,
      "metadata": {
        "colab": {
          "base_uri": "https://localhost:8080/"
        },
        "id": "ztzyHTxG7kk3",
        "outputId": "1322a438-045a-435d-de5d-a6afb99dc67f"
      },
      "outputs": [
        {
          "output_type": "stream",
          "name": "stdout",
          "text": [
            "[1, 2, 3, 4, 5]\n"
          ]
        }
      ],
      "source": [
        "l = rdd.collect()\n",
        "print(l)"
      ]
    },
    {
      "cell_type": "code",
      "execution_count": 23,
      "metadata": {
        "id": "eFBOt2ZpBB3l",
        "colab": {
          "base_uri": "https://localhost:8080/"
        },
        "outputId": "acaa82ba-1ca1-473a-c7b5-913327a02e36"
      },
      "outputs": [
        {
          "output_type": "stream",
          "name": "stdout",
          "text": [
            "[1, 2, 3]\n"
          ]
        }
      ],
      "source": [
        "l = rdd.take(3)\n",
        "print(l)"
      ]
    },
    {
      "cell_type": "code",
      "execution_count": 27,
      "metadata": {
        "id": "5N697QsV7kk4"
      },
      "outputs": [],
      "source": [
        "f_rdd = rdd.filter(lambda d: d > 2)"
      ]
    },
    {
      "cell_type": "code",
      "execution_count": 25,
      "metadata": {
        "colab": {
          "base_uri": "https://localhost:8080/"
        },
        "id": "CR7P5P8g7kk4",
        "outputId": "c6187388-9665-4202-c060-cf29b7415dfd"
      },
      "outputs": [
        {
          "output_type": "execute_result",
          "data": {
            "text/plain": [
              "[3, 4, 5]"
            ]
          },
          "metadata": {},
          "execution_count": 25
        }
      ],
      "source": [
        "f_rdd.collect()"
      ]
    },
    {
      "cell_type": "code",
      "execution_count": 28,
      "metadata": {
        "colab": {
          "base_uri": "https://localhost:8080/"
        },
        "id": "XhgL_eMR7kk4",
        "outputId": "58e5b6c9-fda7-423d-ca12-6ac6d856131f"
      },
      "outputs": [
        {
          "output_type": "execute_result",
          "data": {
            "text/plain": [
              "3"
            ]
          },
          "metadata": {},
          "execution_count": 28
        }
      ],
      "source": [
        "f_rdd.count()"
      ]
    },
    {
      "cell_type": "markdown",
      "metadata": {
        "id": "pEh31kMTBB3l"
      },
      "source": [
        "## RDD Operations - map and reduce\n",
        "\n",
        "- *rdd.map(func)* -- **transformation** --\n",
        "create a new rdd by performing function func on each element in an rdd\n",
        "- *rdd.reduce(func)* -- **action** --\n",
        "aggregate all elements in an rdd using function func\n",
        "\n",
        "These two operations perform functions on rdd elements.  The function can be provided using lambda function.\n",
        "We can supply any lambda function to map and reduce operations.  For map operation, the function must take one input and return one output.  For reduce operation, the function must take two inputs and return one output."
      ]
    },
    {
      "cell_type": "code",
      "execution_count": 29,
      "metadata": {
        "id": "DCvOjO9bBB3m"
      },
      "outputs": [],
      "source": [
        "data = ['line 1', '2', 'more lines', 'last line']"
      ]
    },
    {
      "cell_type": "code",
      "execution_count": 30,
      "metadata": {
        "id": "pTZex_7iBB3m"
      },
      "outputs": [],
      "source": [
        "lines = sc.parallelize(data)"
      ]
    },
    {
      "cell_type": "code",
      "execution_count": 31,
      "metadata": {
        "colab": {
          "base_uri": "https://localhost:8080/"
        },
        "id": "hH1oP2-S7kk4",
        "outputId": "008f06a6-3df3-4f6f-f009-adb4e07db0a1"
      },
      "outputs": [
        {
          "output_type": "stream",
          "name": "stdout",
          "text": [
            "ParallelCollectionRDD[7] at readRDDFromFile at PythonRDD.scala:289\n"
          ]
        }
      ],
      "source": [
        "print(lines)"
      ]
    },
    {
      "cell_type": "code",
      "execution_count": 32,
      "metadata": {
        "id": "nHYySyTvBB3m",
        "colab": {
          "base_uri": "https://localhost:8080/"
        },
        "outputId": "6d28d25c-6b57-4fc5-8f52-99ada8393915"
      },
      "outputs": [
        {
          "output_type": "stream",
          "name": "stdout",
          "text": [
            "['line 1', '2', 'more lines', 'last line']\n"
          ]
        }
      ],
      "source": [
        "print(lines.collect())"
      ]
    },
    {
      "cell_type": "markdown",
      "metadata": {
        "id": "V8JwhPdp7kk4"
      },
      "source": [
        "Count the length of each line in the RDD and store results in a new RDD"
      ]
    },
    {
      "cell_type": "code",
      "execution_count": 33,
      "metadata": {
        "id": "XltEtVriBB3m",
        "colab": {
          "base_uri": "https://localhost:8080/"
        },
        "outputId": "229abcb2-c0c5-41c3-8b8e-d49a0a151337"
      },
      "outputs": [
        {
          "output_type": "stream",
          "name": "stdout",
          "text": [
            "[6, 1, 10, 9]\n"
          ]
        }
      ],
      "source": [
        "lineLengths = lines.map(lambda line: len(line))\n",
        "print(lineLengths.collect())"
      ]
    },
    {
      "cell_type": "markdown",
      "metadata": {
        "id": "7-JY8KS47kk4"
      },
      "source": [
        "Sum the lenght of lines in the RDD.  As RDD is partitioned, this reduce operation performs in a parallel fashion."
      ]
    },
    {
      "cell_type": "code",
      "execution_count": 34,
      "metadata": {
        "id": "NIolBGhSBB3n",
        "scrolled": true,
        "colab": {
          "base_uri": "https://localhost:8080/"
        },
        "outputId": "a9008ffc-574a-4f9b-c7eb-262485b396c5"
      },
      "outputs": [
        {
          "output_type": "stream",
          "name": "stdout",
          "text": [
            "26\n"
          ]
        }
      ],
      "source": [
        "totalLength = lineLengths.reduce(lambda a, b: a+b)\n",
        "print(totalLength)"
      ]
    },
    {
      "cell_type": "code",
      "execution_count": 35,
      "metadata": {
        "id": "m2xTyLVwBB3n",
        "colab": {
          "base_uri": "https://localhost:8080/"
        },
        "outputId": "92ca6eaa-454d-4914-f826-e8f5e9b9cc64"
      },
      "outputs": [
        {
          "output_type": "stream",
          "name": "stdout",
          "text": [
            "[2, 4, 6, 8]\n",
            "sum = 20\n",
            "mul = 384\n"
          ]
        }
      ],
      "source": [
        "data = (1,2,3,4)\n",
        "rdd = sc.parallelize(data)\n",
        "rdd2 = rdd.map(lambda x: x*2)\n",
        "print(rdd2.collect())\n",
        "sum_val = rdd2.reduce(lambda a, b: a+b)\n",
        "print('sum = {0}'.format(sum_val))\n",
        "mul_val = rdd2.reduce(lambda a, b: a*b)\n",
        "print('mul = {0}'.format(mul_val))"
      ]
    },
    {
      "cell_type": "markdown",
      "metadata": {
        "id": "hCN2Ce92BB3n"
      },
      "source": [
        "## RDD Operations - aggregate\n",
        "\n",
        "Aggregate is an action operation *rdd.aggregate(zeroValue, seqOp, combOp)* that:\n",
        "- performs *seqOp* to *zeroValue* and all RDD elements -- this basically transforms all elements in RDD into the type of output value\n",
        "- and then aggregates the transformed RDD elements using *combOp*\n",
        "\n",
        "Note that reduce is a simple form of aggreate operation."
      ]
    },
    {
      "cell_type": "code",
      "execution_count": 36,
      "metadata": {
        "colab": {
          "base_uri": "https://localhost:8080/"
        },
        "id": "AIDaDcfz7kk5",
        "outputId": "2bac3d1e-51e7-4f2e-e49e-83e5186b0a13"
      },
      "outputs": [
        {
          "output_type": "execute_result",
          "data": {
            "text/plain": [
              "[1, 2, 3, 4]"
            ]
          },
          "metadata": {},
          "execution_count": 36
        }
      ],
      "source": [
        "rdd.collect()"
      ]
    },
    {
      "cell_type": "markdown",
      "metadata": {
        "id": "UlHr_8567kk5"
      },
      "source": [
        "The following aggregate operation is basically a *rdd.reduce(lambda a, b: a+b)* as the type output value is an integer which is the same as the RDD elements"
      ]
    },
    {
      "cell_type": "code",
      "execution_count": 37,
      "metadata": {
        "colab": {
          "base_uri": "https://localhost:8080/"
        },
        "id": "mdumRZOU7kk5",
        "outputId": "bb9f8f34-8bbf-41aa-c049-374f1938c8f3"
      },
      "outputs": [
        {
          "output_type": "execute_result",
          "data": {
            "text/plain": [
              "10"
            ]
          },
          "metadata": {},
          "execution_count": 37
        }
      ],
      "source": [
        "rdd.aggregate(0,\n",
        "              lambda zero, e: zero+e,\n",
        "              lambda a, b: a+b)"
      ]
    },
    {
      "cell_type": "code",
      "execution_count": 38,
      "metadata": {
        "colab": {
          "base_uri": "https://localhost:8080/"
        },
        "id": "cC9lqCWF7kk5",
        "outputId": "1b89b2df-0e09-45e4-f7e7-234b7d0fa491"
      },
      "outputs": [
        {
          "output_type": "execute_result",
          "data": {
            "text/plain": [
              "4"
            ]
          },
          "metadata": {},
          "execution_count": 38
        }
      ],
      "source": [
        "rdd.aggregate(0,\n",
        "              lambda zero, e: zero+1,\n",
        "              lambda a, b: a+b)"
      ]
    },
    {
      "cell_type": "markdown",
      "metadata": {
        "id": "TP7hhT247kk5"
      },
      "source": [
        "The following aggregate operation returns an order pairs of (x, y) where\n",
        "- x is the sum of all elements in RDD\n",
        "- y is the count of all elements in RDD"
      ]
    },
    {
      "cell_type": "code",
      "execution_count": 39,
      "metadata": {
        "id": "HLiDl_PeBB3n",
        "colab": {
          "base_uri": "https://localhost:8080/"
        },
        "outputId": "63b2e3e3-c94a-4713-b8a0-2781602ecc94"
      },
      "outputs": [
        {
          "output_type": "execute_result",
          "data": {
            "text/plain": [
              "(10, 4)"
            ]
          },
          "metadata": {},
          "execution_count": 39
        }
      ],
      "source": [
        "rdd.aggregate((0, 0),\n",
        "              lambda zero, e: (zero[0]+e, zero[1]+1),\n",
        "              lambda a, b: (a[0]+b[0], a[1]+b[1]))"
      ]
    },
    {
      "cell_type": "code",
      "execution_count": 40,
      "metadata": {
        "colab": {
          "base_uri": "https://localhost:8080/"
        },
        "id": "zWRukb0k7kk5",
        "outputId": "969c918e-64e0-4509-e1e8-21e92403887a"
      },
      "outputs": [
        {
          "output_type": "execute_result",
          "data": {
            "text/plain": [
              "['line 1', '2', 'more lines', 'last line']"
            ]
          },
          "metadata": {},
          "execution_count": 40
        }
      ],
      "source": [
        "lines.collect()"
      ]
    },
    {
      "cell_type": "markdown",
      "metadata": {
        "id": "NKIMedEv7kk-"
      },
      "source": [
        "The following aggregate operation returns an order pairs of (x, y) where\n",
        "- x is the concatenation of all elements in RDD\n",
        "- y is the sum of the length of all elements in RDD"
      ]
    },
    {
      "cell_type": "code",
      "execution_count": 42,
      "metadata": {
        "id": "xlqSrrGsBB3n",
        "colab": {
          "base_uri": "https://localhost:8080/"
        },
        "outputId": "d92f72b4-5a16-49bc-be0a-2daccf2aa874"
      },
      "outputs": [
        {
          "output_type": "execute_result",
          "data": {
            "text/plain": [
              "('line 12more lineslast line', 26)"
            ]
          },
          "metadata": {},
          "execution_count": 42
        }
      ],
      "source": [
        "lines.aggregate((\"\", 0),\n",
        "                lambda zero, e: (zero[0]+e, zero[1]+len(e)),\n",
        "                lambda a, b: (a[0]+b[0], a[1]+b[1]))"
      ]
    },
    {
      "cell_type": "code",
      "execution_count": 43,
      "metadata": {
        "colab": {
          "base_uri": "https://localhost:8080/"
        },
        "id": "EUzBDNjd7kk_",
        "outputId": "7cadd400-7a57-4837-a1e9-caccb5626669"
      },
      "outputs": [
        {
          "output_type": "execute_result",
          "data": {
            "text/plain": [
              "['line 1', '2', 'more lines', 'last line']"
            ]
          },
          "metadata": {},
          "execution_count": 43
        }
      ],
      "source": [
        "lines.collect()"
      ]
    },
    {
      "cell_type": "code",
      "execution_count": 44,
      "metadata": {
        "colab": {
          "base_uri": "https://localhost:8080/",
          "height": 35
        },
        "id": "6fbBCGz87kk_",
        "outputId": "f5a1855c-021f-4c11-e298-fc621678abe4"
      },
      "outputs": [
        {
          "output_type": "execute_result",
          "data": {
            "text/plain": [
              "'line 12more lineslast line'"
            ],
            "application/vnd.google.colaboratory.intrinsic+json": {
              "type": "string"
            }
          },
          "metadata": {},
          "execution_count": 44
        }
      ],
      "source": [
        "lines.reduce(lambda s1, s2: s1+s2)"
      ]
    },
    {
      "cell_type": "markdown",
      "metadata": {
        "id": "yFTEFyIYBB3o"
      },
      "source": [
        "# Example: Word Count\n",
        "\n",
        "Word Count is an \"Hello World\" for big data programming.  In this example, we will perform word counting e.g. counting number of word occurances in a text file, \"star-wars.txt\".  Note that the code is not perfect as it still cannot handle punctuations, plural nouns, and those verbs in past tense properly."
      ]
    },
    {
      "cell_type": "markdown",
      "metadata": {
        "id": "-EYYtrZb7kk_"
      },
      "source": [
        "Before running this example, make sure that a data file 'star-wars.txt' has been uploaded to content folder of this colab."
      ]
    },
    {
      "cell_type": "markdown",
      "metadata": {
        "id": "P-3tx_Al7kk_"
      },
      "source": [
        "### Reading from \"star-wars.txt\""
      ]
    },
    {
      "cell_type": "markdown",
      "metadata": {
        "id": "xg1KPVin7kk_"
      },
      "source": [
        "First, read the content of the file using sc.textFile().  This creates an rdd whose elements are lines in the input file."
      ]
    },
    {
      "cell_type": "code",
      "execution_count": 45,
      "metadata": {
        "id": "wuBT3HAwBB3o",
        "colab": {
          "base_uri": "https://localhost:8080/"
        },
        "outputId": "4f22105f-f03b-48e6-baa6-b210aa46d91d"
      },
      "outputs": [
        {
          "output_type": "stream",
          "name": "stdout",
          "text": [
            "0: []\n",
            "35: [                          STAR WARS]\n",
            "41: [                    !! PUBLIC  VERSION !!]\n",
            "2: [  ]\n",
            "49: [          �A long time ago, in a galaxy far, far ]\n",
            "18: [          away...�]\n",
            "0: []\n",
            "55: [A vast sea of stars serves as the backdrop for the main]\n",
            "55: [title.  War drums echo through the heavens as a rollup ]\n",
            "28: [slowly crawls into infinity.]\n"
          ]
        }
      ],
      "source": [
        "sw = sc.textFile('star-wars.txt')\n",
        "for line in sw.take(10):\n",
        "    print('{0}: [{1}]'.format(len(line), line))"
      ]
    },
    {
      "cell_type": "code",
      "execution_count": 46,
      "metadata": {
        "colab": {
          "base_uri": "https://localhost:8080/"
        },
        "id": "5fMEXFsr7kk_",
        "outputId": "e9ed554d-7ccc-4ec8-cd4d-123211a3ada8"
      },
      "outputs": [
        {
          "output_type": "stream",
          "name": "stdout",
          "text": [
            "Total = 7518 lines\n"
          ]
        }
      ],
      "source": [
        "print('Total = {0} lines'.format(sw.count()))"
      ]
    },
    {
      "cell_type": "markdown",
      "metadata": {
        "id": "AQyzy1aD7kk_"
      },
      "source": [
        "### Data Cleansing"
      ]
    },
    {
      "cell_type": "markdown",
      "metadata": {
        "id": "iMO0dSFz7kk_"
      },
      "source": [
        "Remove all blank lines and lower all characters in all lines."
      ]
    },
    {
      "cell_type": "code",
      "execution_count": 47,
      "metadata": {
        "id": "YB1lgr6kBB3p"
      },
      "outputs": [],
      "source": [
        "nb_lines = sw.filter(lambda line: len(line) > 0)\n",
        "all_lowers = nb_lines.map(lambda line: line.lower())"
      ]
    },
    {
      "cell_type": "code",
      "execution_count": 49,
      "metadata": {
        "colab": {
          "base_uri": "https://localhost:8080/"
        },
        "id": "9LsboYdC7kk_",
        "outputId": "1f6b9c4f-ed91-4177-8f43-797c2dc832f4"
      },
      "outputs": [
        {
          "output_type": "stream",
          "name": "stdout",
          "text": [
            "Non blank line = 4754 lines\n",
            "35: [                          star wars]\n",
            "41: [                    !! public  version !!]\n",
            "2: [  ]\n",
            "49: [          �a long time ago, in a galaxy far, far ]\n",
            "18: [          away...�]\n",
            "55: [a vast sea of stars serves as the backdrop for the main]\n",
            "55: [title.  war drums echo through the heavens as a rollup ]\n",
            "28: [slowly crawls into infinity.]\n",
            "47: [          �it is a period of civil war.  rebel ]\n",
            "45: [          spaceships, striking from a hidden ]\n"
          ]
        }
      ],
      "source": [
        "print('Non blank line = {0} lines'.format(nb_lines.count()))\n",
        "for line in all_lowers.take(10):\n",
        "    print('{0}: [{1}]'.format(len(line), line))"
      ]
    },
    {
      "cell_type": "markdown",
      "metadata": {
        "id": "_s2MoWvy7kk_"
      },
      "source": [
        "### Data Preparation - from lines to words"
      ]
    },
    {
      "cell_type": "markdown",
      "metadata": {
        "id": "CKTtxqhd7klA"
      },
      "source": [
        "We can split each line into words.  Note that if we use *map* each element in the output RDD from *map* is a list of words in each line.  However, if we use *flatMap* lists in all lines are combined into an RDD of all words."
      ]
    },
    {
      "cell_type": "markdown",
      "metadata": {
        "id": "k7he45a_7klA"
      },
      "source": [
        "For clear understanding, let take a look at the results of map vs. flatmap below:"
      ]
    },
    {
      "cell_type": "code",
      "execution_count": 50,
      "metadata": {
        "colab": {
          "base_uri": "https://localhost:8080/"
        },
        "id": "EyExg--r7klA",
        "outputId": "72b28151-edcc-47f6-a637-d9c93b019abc"
      },
      "outputs": [
        {
          "output_type": "stream",
          "name": "stdout",
          "text": [
            "['star', 'wars']\n",
            "['!!', 'public', 'version', '!!']\n",
            "[]\n",
            "['�a', 'long', 'time', 'ago,', 'in', 'a', 'galaxy', 'far,', 'far']\n",
            "['away...�']\n"
          ]
        }
      ],
      "source": [
        "words_map = all_lowers.map(lambda line: line.split())\n",
        "for l in words_map.take(5):\n",
        "    print(l)"
      ]
    },
    {
      "cell_type": "code",
      "execution_count": 51,
      "metadata": {
        "id": "YYz4VHwsBB3p",
        "scrolled": true,
        "colab": {
          "base_uri": "https://localhost:8080/"
        },
        "outputId": "93842296-cf1f-4553-ddd7-7af572092370"
      },
      "outputs": [
        {
          "output_type": "stream",
          "name": "stdout",
          "text": [
            "star\n",
            "wars\n",
            "!!\n",
            "public\n",
            "version\n",
            "!!\n",
            "�a\n",
            "long\n",
            "time\n",
            "ago,\n"
          ]
        }
      ],
      "source": [
        "words = all_lowers.flatMap(lambda line: line.split())\n",
        "for w in words.take(10):\n",
        "    print(w)"
      ]
    },
    {
      "cell_type": "markdown",
      "metadata": {
        "id": "ZJ-suBTe7klA"
      },
      "source": [
        "### Counting Occurances"
      ]
    },
    {
      "cell_type": "markdown",
      "metadata": {
        "id": "JY8owshi7klA"
      },
      "source": [
        "To count the occurances of each word, we first transform a word into a pairwise (key, value) of (word, 1)"
      ]
    },
    {
      "cell_type": "code",
      "execution_count": 52,
      "metadata": {
        "colab": {
          "base_uri": "https://localhost:8080/"
        },
        "id": "N-mMGFbF7klA",
        "outputId": "ae6cd082-9037-4d0b-d510-66bf69068cc0"
      },
      "outputs": [
        {
          "output_type": "execute_result",
          "data": {
            "text/plain": [
              "[('star', 1), ('wars', 1), ('!!', 1), ('public', 1), ('version', 1)]"
            ]
          },
          "metadata": {},
          "execution_count": 52
        }
      ],
      "source": [
        "words.map(lambda word: (word, 1)).take(5)"
      ]
    },
    {
      "cell_type": "markdown",
      "metadata": {
        "id": "5fIDteYw7klA"
      },
      "source": [
        "After transformation, we can count the occurances using *reduceByKey* which perform reduce(function) for all elements with the same key"
      ]
    },
    {
      "cell_type": "code",
      "execution_count": 53,
      "metadata": {
        "id": "__qcouaNBB3p",
        "colab": {
          "base_uri": "https://localhost:8080/"
        },
        "outputId": "9ef6fd93-d17e-440f-bbab-75fda02a52cc"
      },
      "outputs": [
        {
          "output_type": "stream",
          "name": "stdout",
          "text": [
            "('star', 211)\n",
            "('wars', 1)\n",
            "('!!', 2)\n",
            "('public', 1)\n",
            "('version', 1)\n",
            "('�a', 1)\n",
            "('long', 31)\n",
            "('time', 16)\n",
            "('ago,', 1)\n",
            "('in', 396)\n"
          ]
        }
      ],
      "source": [
        "mappers = words.map(lambda word: (word, 1))\n",
        "counts = mappers.reduceByKey(lambda x, y: x+y)\n",
        "for wc in counts.take(10):\n",
        "    print(wc)"
      ]
    },
    {
      "cell_type": "code",
      "execution_count": 54,
      "metadata": {
        "id": "cxN0eO63BB3p"
      },
      "outputs": [],
      "source": [
        "spark.stop()"
      ]
    },
    {
      "cell_type": "code",
      "execution_count": null,
      "metadata": {
        "id": "_1KawbXd7klA"
      },
      "outputs": [],
      "source": []
    }
  ],
  "metadata": {
    "colab": {
      "provenance": []
    },
    "kernelspec": {
      "display_name": "Python 3 (ipykernel)",
      "language": "python",
      "name": "python3"
    },
    "language_info": {
      "codemirror_mode": {
        "name": "ipython",
        "version": 3
      },
      "file_extension": ".py",
      "mimetype": "text/x-python",
      "name": "python",
      "nbconvert_exporter": "python",
      "pygments_lexer": "ipython3",
      "version": "3.11.5"
    },
    "toc": {
      "base_numbering": 1,
      "nav_menu": {},
      "number_sections": true,
      "sideBar": true,
      "skip_h1_title": false,
      "title_cell": "Table of Contents",
      "title_sidebar": "Contents",
      "toc_cell": false,
      "toc_position": {},
      "toc_section_display": true,
      "toc_window_display": false
    },
    "varInspector": {
      "cols": {
        "lenName": 16,
        "lenType": 16,
        "lenVar": 40
      },
      "kernels_config": {
        "python": {
          "delete_cmd_postfix": "",
          "delete_cmd_prefix": "del ",
          "library": "var_list.py",
          "varRefreshCmd": "print(var_dic_list())"
        },
        "r": {
          "delete_cmd_postfix": ") ",
          "delete_cmd_prefix": "rm(",
          "library": "var_list.r",
          "varRefreshCmd": "cat(var_dic_list()) "
        }
      },
      "types_to_exclude": [
        "module",
        "function",
        "builtin_function_or_method",
        "instance",
        "_Feature"
      ],
      "window_display": false
    }
  },
  "nbformat": 4,
  "nbformat_minor": 0
}