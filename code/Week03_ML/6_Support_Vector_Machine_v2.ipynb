{
  "cells": [
    {
      "cell_type": "markdown",
      "metadata": {
        "id": "qtNvBw4vdm6c"
      },
      "source": [
        "# **1. Load Titanic Dataset**\n",
        "\n",
        "Reference: https://www.kaggle.com/code"
      ]
    },
    {
      "cell_type": "markdown",
      "metadata": {
        "id": "12yFvZgedqNA"
      },
      "source": [
        "**Source** : https://www.kaggle.com/c/titanic/data\n",
        "\n",
        "## **Data Dictionary**  \n",
        "\n",
        "| Variable | Definition | Key |\n",
        "|-:|-:|-|\n",
        "| survival | Survival | 0 = No, 1 = Yes |\n",
        "| pclass | Ticket class | 1 = 1st, 2 = 2nd, 3 = 3rd |\n",
        "| sex | Sex |  |\n",
        "| Age | Age in years |  |\n",
        "| sibsp | # of siblings / spouses aboard the Titanic |  |\n",
        "| parch | # of parents / children aboard the Titanic |  |\n",
        "| ticket | Ticket number |  |\n",
        "| fare | Passenger fare |  |\n",
        "| cabin | Cabin number |  |\n",
        "| embarked | Port of Embarkation | C = Cherbourg, Q = Queenstown, S = Southampton |\n",
        "\n",
        "## **Variable Notes**  \n",
        "\n",
        "**pclass**: A proxy for socio-economic status (SES)|\n",
        "* 1st = Upper  \n",
        "* 2nd = Middle  \n",
        "* 3rd = Lower  \n",
        "\n",
        "\n",
        "**age**: Age is fractional if less than 1. If the age is estimated, is it in the form of xx.5\n",
        "\n",
        "**sibsp**: The dataset defines family relations in this way...  \n",
        "* Sibling = brother, sister, stepbrother, stepsister  \n",
        "* Spouse = husband, wife (mistresses and fiancés were ignored)  \n",
        "\n",
        "**parch**: The dataset defines family relations in this way...  \n",
        "* Parent = mother, father  \n",
        "* Child = daughter, son, stepdaughter, stepson  \n",
        "* Some children travelled only with a nanny, therefore parch=0 for them.  "
      ]
    },
    {
      "cell_type": "code",
      "execution_count": 3,
      "metadata": {
        "colab": {
          "base_uri": "https://localhost:8080/"
        },
        "id": "22W1j0n7dpao",
        "outputId": "c5e587c2-e306-401c-ca31-b64f921d7e31"
      },
      "outputs": [
        {
          "name": "stderr",
          "output_type": "stream",
          "text": [
            "/var/folders/27/0_8pjdb52g91gmnzbtgblvgc0000gn/T/ipykernel_4069/1633479930.py:33: FutureWarning: A value is trying to be set on a copy of a DataFrame or Series through chained assignment using an inplace method.\n",
            "The behavior will change in pandas 3.0. This inplace method will never work because the intermediate object on which we are setting values always behaves as a copy.\n",
            "\n",
            "For example, when doing 'df[col].method(value, inplace=True)', try using 'df.method({col: value}, inplace=True)' or df[col] = df[col].method(value) instead, to perform the operation inplace on the original object.\n",
            "\n",
            "\n",
            "  train_df['Age'].fillna(train_df['Age'].median(), inplace = True)\n",
            "/var/folders/27/0_8pjdb52g91gmnzbtgblvgc0000gn/T/ipykernel_4069/1633479930.py:34: FutureWarning: A value is trying to be set on a copy of a DataFrame or Series through chained assignment using an inplace method.\n",
            "The behavior will change in pandas 3.0. This inplace method will never work because the intermediate object on which we are setting values always behaves as a copy.\n",
            "\n",
            "For example, when doing 'df[col].method(value, inplace=True)', try using 'df.method({col: value}, inplace=True)' or df[col] = df[col].method(value) instead, to perform the operation inplace on the original object.\n",
            "\n",
            "\n",
            "  test_df['Age'].fillna(train_df['Age'].median(), inplace = True)\n"
          ]
        }
      ],
      "source": [
        "import time\n",
        "import datetime\n",
        "import requests\n",
        "from io import StringIO, BytesIO\n",
        "import numpy as np\n",
        "import pandas as pd\n",
        "pd.set_option('display.max_colwidth', None)\n",
        "\n",
        "import matplotlib.pyplot as plt\n",
        "# plt.style.use('seaborn')\n",
        "\n",
        "from sklearn.model_selection import train_test_split\n",
        "\n",
        "url = 'https://github.com/kaopanboonyuen/2110446_DataScience_2021s2/raw/main/datasets/Titanic.csv'\n",
        "response = requests.get(url)\n",
        "response.raise_for_status()\n",
        "\n",
        "titanic_df = pd.read_csv(StringIO(response.text))\n",
        "# titanic_df = pd.read_csv('https://github.com/kaopanboonyuen/2110446_DataScience_2021s2/raw/main/datasets/Titanic.csv')\n",
        "\n",
        "#Get Dummies (pandas)\n",
        "from sklearn.preprocessing import LabelEncoder\n",
        "convert_sex = LabelEncoder()\n",
        "titanic_df['Sex'] = convert_sex.fit_transform(titanic_df['Sex']) # 0:female 1:male\n",
        "\n",
        "feature_col = ['Pclass', 'Sex', 'Age', 'SibSp', 'Parch', 'Fare']\n",
        "target_col = 'Survived'\n",
        "\n",
        "train_df, test_df = train_test_split(titanic_df, test_size=0.3, random_state=0, stratify=titanic_df[target_col])\n",
        "train_df, test_df = train_df.copy(), test_df.copy()\n",
        "\n",
        "# Fill NA 'Age' with Median\n",
        "train_df['Age'].fillna(train_df['Age'].median(), inplace = True)\n",
        "test_df['Age'].fillna(train_df['Age'].median(), inplace = True)"
      ]
    },
    {
      "cell_type": "code",
      "execution_count": 4,
      "metadata": {
        "colab": {
          "base_uri": "https://localhost:8080/",
          "height": 241
        },
        "id": "cZxkxod0S1-8",
        "outputId": "df5ea373-0db5-415b-a9f5-18a238d18eeb"
      },
      "outputs": [
        {
          "data": {
            "text/html": [
              "<div>\n",
              "<style scoped>\n",
              "    .dataframe tbody tr th:only-of-type {\n",
              "        vertical-align: middle;\n",
              "    }\n",
              "\n",
              "    .dataframe tbody tr th {\n",
              "        vertical-align: top;\n",
              "    }\n",
              "\n",
              "    .dataframe thead th {\n",
              "        text-align: right;\n",
              "    }\n",
              "</style>\n",
              "<table border=\"1\" class=\"dataframe\">\n",
              "  <thead>\n",
              "    <tr style=\"text-align: right;\">\n",
              "      <th></th>\n",
              "      <th>PassengerId</th>\n",
              "      <th>Survived</th>\n",
              "      <th>Pclass</th>\n",
              "      <th>Name</th>\n",
              "      <th>Sex</th>\n",
              "      <th>Age</th>\n",
              "      <th>SibSp</th>\n",
              "      <th>Parch</th>\n",
              "      <th>Ticket</th>\n",
              "      <th>Fare</th>\n",
              "      <th>Cabin</th>\n",
              "      <th>Embarked</th>\n",
              "    </tr>\n",
              "  </thead>\n",
              "  <tbody>\n",
              "    <tr>\n",
              "      <th>0</th>\n",
              "      <td>1</td>\n",
              "      <td>0</td>\n",
              "      <td>3</td>\n",
              "      <td>Braund, Mr. Owen Harris</td>\n",
              "      <td>1</td>\n",
              "      <td>22.0</td>\n",
              "      <td>1</td>\n",
              "      <td>0</td>\n",
              "      <td>A/5 21171</td>\n",
              "      <td>7.2500</td>\n",
              "      <td>NaN</td>\n",
              "      <td>S</td>\n",
              "    </tr>\n",
              "    <tr>\n",
              "      <th>1</th>\n",
              "      <td>2</td>\n",
              "      <td>1</td>\n",
              "      <td>1</td>\n",
              "      <td>Cumings, Mrs. John Bradley (Florence Briggs Thayer)</td>\n",
              "      <td>0</td>\n",
              "      <td>38.0</td>\n",
              "      <td>1</td>\n",
              "      <td>0</td>\n",
              "      <td>PC 17599</td>\n",
              "      <td>71.2833</td>\n",
              "      <td>C85</td>\n",
              "      <td>C</td>\n",
              "    </tr>\n",
              "    <tr>\n",
              "      <th>2</th>\n",
              "      <td>3</td>\n",
              "      <td>1</td>\n",
              "      <td>3</td>\n",
              "      <td>Heikkinen, Miss. Laina</td>\n",
              "      <td>0</td>\n",
              "      <td>26.0</td>\n",
              "      <td>0</td>\n",
              "      <td>0</td>\n",
              "      <td>STON/O2. 3101282</td>\n",
              "      <td>7.9250</td>\n",
              "      <td>NaN</td>\n",
              "      <td>S</td>\n",
              "    </tr>\n",
              "    <tr>\n",
              "      <th>3</th>\n",
              "      <td>4</td>\n",
              "      <td>1</td>\n",
              "      <td>1</td>\n",
              "      <td>Futrelle, Mrs. Jacques Heath (Lily May Peel)</td>\n",
              "      <td>0</td>\n",
              "      <td>35.0</td>\n",
              "      <td>1</td>\n",
              "      <td>0</td>\n",
              "      <td>113803</td>\n",
              "      <td>53.1000</td>\n",
              "      <td>C123</td>\n",
              "      <td>S</td>\n",
              "    </tr>\n",
              "    <tr>\n",
              "      <th>4</th>\n",
              "      <td>5</td>\n",
              "      <td>0</td>\n",
              "      <td>3</td>\n",
              "      <td>Allen, Mr. William Henry</td>\n",
              "      <td>1</td>\n",
              "      <td>35.0</td>\n",
              "      <td>0</td>\n",
              "      <td>0</td>\n",
              "      <td>373450</td>\n",
              "      <td>8.0500</td>\n",
              "      <td>NaN</td>\n",
              "      <td>S</td>\n",
              "    </tr>\n",
              "  </tbody>\n",
              "</table>\n",
              "</div>"
            ],
            "text/plain": [
              "   PassengerId  Survived  Pclass  \\\n",
              "0            1         0       3   \n",
              "1            2         1       1   \n",
              "2            3         1       3   \n",
              "3            4         1       1   \n",
              "4            5         0       3   \n",
              "\n",
              "                                                  Name  Sex   Age  SibSp  \\\n",
              "0                              Braund, Mr. Owen Harris    1  22.0      1   \n",
              "1  Cumings, Mrs. John Bradley (Florence Briggs Thayer)    0  38.0      1   \n",
              "2                               Heikkinen, Miss. Laina    0  26.0      0   \n",
              "3         Futrelle, Mrs. Jacques Heath (Lily May Peel)    0  35.0      1   \n",
              "4                             Allen, Mr. William Henry    1  35.0      0   \n",
              "\n",
              "   Parch            Ticket     Fare Cabin Embarked  \n",
              "0      0         A/5 21171   7.2500   NaN        S  \n",
              "1      0          PC 17599  71.2833   C85        C  \n",
              "2      0  STON/O2. 3101282   7.9250   NaN        S  \n",
              "3      0            113803  53.1000  C123        S  \n",
              "4      0            373450   8.0500   NaN        S  "
            ]
          },
          "execution_count": 4,
          "metadata": {},
          "output_type": "execute_result"
        }
      ],
      "source": [
        "titanic_df.head()"
      ]
    },
    {
      "cell_type": "markdown",
      "metadata": {
        "id": "n3Z-cSQ-389_"
      },
      "source": [
        "# **2. Support Vector Machine**"
      ]
    },
    {
      "cell_type": "markdown",
      "metadata": {
        "id": "1Mov0Lf0edeE"
      },
      "source": [
        "https://scikit-learn.org/stable/modules/generated/sklearn.svm.SVC.html"
      ]
    },
    {
      "cell_type": "code",
      "execution_count": 5,
      "metadata": {
        "id": "j8t2eXLN4Dal"
      },
      "outputs": [],
      "source": [
        "from sklearn.svm import SVC"
      ]
    },
    {
      "cell_type": "markdown",
      "metadata": {
        "id": "0nkJCIpouX9n"
      },
      "source": [
        "**Suggest Parameters**  \n",
        "\n",
        "* **C**: 1  \n",
        "* **kernel**: rbf  \n",
        "* **gamma**: auto  "
      ]
    },
    {
      "cell_type": "code",
      "execution_count": 6,
      "metadata": {
        "colab": {
          "base_uri": "https://localhost:8080/"
        },
        "id": "cXd4krgQ4DYV",
        "outputId": "1a744a1a-8877-4223-afff-b9f1b3db6246"
      },
      "outputs": [
        {
          "name": "stdout",
          "output_type": "stream",
          "text": [
            "Training Time: 0:00:00.022063\n"
          ]
        }
      ],
      "source": [
        "C = 1 #@param {type:\"slider\", min:1.0, max:3.0, step:0.1}\n",
        "kernel = \"rbf\" #@param ['linear', 'poly', 'rbf']\n",
        "gamma = \"auto\"  #@param ['scale', 'auto']\n",
        "\n",
        "svm = SVC(\n",
        "  C=C,\n",
        "  kernel=kernel,\n",
        "  gamma=gamma,\n",
        "  cache_size=4096,\n",
        "  random_state=0\n",
        ")\n",
        "\n",
        "svm_start_time = time.time()\n",
        "# Training you tree\n",
        "svm.fit(train_df[feature_col], train_df[target_col])\n",
        "svm_end_time = time.time()\n",
        "print(f\"Training Time: {datetime.timedelta(seconds=svm_end_time-svm_start_time)}\")"
      ]
    },
    {
      "cell_type": "code",
      "execution_count": 7,
      "metadata": {
        "id": "b8UWKO1fx6X-"
      },
      "outputs": [],
      "source": [
        "# Predict as Class\n",
        "train_predict = svm.predict(train_df[feature_col])\n",
        "test_predict = svm.predict(test_df[feature_col])"
      ]
    },
    {
      "cell_type": "code",
      "execution_count": 8,
      "metadata": {
        "colab": {
          "base_uri": "https://localhost:8080/"
        },
        "id": "xRPsnYPkx92C",
        "outputId": "1d97bb54-d65c-401b-cd43-162a1ab2adee"
      },
      "outputs": [
        {
          "name": "stdout",
          "output_type": "stream",
          "text": [
            "[0 0 0 1 0 1 0 1 0 1]\n"
          ]
        }
      ],
      "source": [
        "# Show first 10 prediction\n",
        "print(train_predict[:10])"
      ]
    },
    {
      "cell_type": "code",
      "execution_count": 9,
      "metadata": {
        "colab": {
          "base_uri": "https://localhost:8080/",
          "height": 398
        },
        "id": "GNicAJHMyAXc",
        "outputId": "95f6e087-c90f-4d9f-85a5-d7c8f231b332"
      },
      "outputs": [
        {
          "data": {
            "text/plain": [
              "231    0\n",
              "836    0\n",
              "639    0\n",
              "389    1\n",
              "597    0\n",
              "20     0\n",
              "179    0\n",
              "183    1\n",
              "38     0\n",
              "692    1\n",
              "Name: Survived, dtype: int64"
            ]
          },
          "execution_count": 9,
          "metadata": {},
          "output_type": "execute_result"
        }
      ],
      "source": [
        "# Actual Target\n",
        "train_df[target_col][:10]"
      ]
    },
    {
      "cell_type": "code",
      "execution_count": 10,
      "metadata": {
        "colab": {
          "base_uri": "https://localhost:8080/"
        },
        "id": "vFeAMldJy64z",
        "outputId": "d4936b41-5128-4fc0-b209-d8f7dc66573d"
      },
      "outputs": [
        {
          "data": {
            "text/plain": [
              "array([[ 52,  51],\n",
              "       [ 27, 138]])"
            ]
          },
          "execution_count": 10,
          "metadata": {},
          "output_type": "execute_result"
        }
      ],
      "source": [
        "from sklearn.metrics import confusion_matrix\n",
        "\n",
        "confusion_matrix(test_df[target_col], test_predict, labels=[1, 0])"
      ]
    },
    {
      "cell_type": "code",
      "execution_count": 11,
      "metadata": {
        "colab": {
          "base_uri": "https://localhost:8080/"
        },
        "id": "714g8NA6y2Cp",
        "outputId": "30b622c5-06e8-46b8-a840-9c64920a50cc"
      },
      "outputs": [
        {
          "name": "stdout",
          "output_type": "stream",
          "text": [
            "              precision    recall  f1-score   support\n",
            "\n",
            "           0     0.7302    0.8364    0.7797       165\n",
            "           1     0.6582    0.5049    0.5714       103\n",
            "\n",
            "    accuracy                         0.7090       268\n",
            "   macro avg     0.6942    0.6706    0.6755       268\n",
            "weighted avg     0.7025    0.7090    0.6996       268\n",
            "\n"
          ]
        }
      ],
      "source": [
        "from sklearn.metrics import classification_report\n",
        "\n",
        "print(classification_report(test_df[target_col], test_predict,digits=4))"
      ]
    },
    {
      "cell_type": "markdown",
      "metadata": {
        "id": "VN6jrij573xW"
      },
      "source": [
        "# **3.Visualization**"
      ]
    },
    {
      "cell_type": "code",
      "execution_count": 12,
      "metadata": {
        "cellView": "form",
        "colab": {
          "base_uri": "https://localhost:8080/",
          "height": 699
        },
        "id": "XBtSg_hswVo9",
        "outputId": "5056d1cd-0f82-4b5d-cf3e-22ceb485f617"
      },
      "outputs": [
        {
          "name": "stderr",
          "output_type": "stream",
          "text": [
            "/var/folders/27/0_8pjdb52g91gmnzbtgblvgc0000gn/T/ipykernel_4069/81021158.py:26: MatplotlibDeprecationWarning: The get_cmap function was deprecated in Matplotlib 3.7 and will be removed in 3.11. Use ``matplotlib.colormaps[name]`` or ``matplotlib.colormaps.get_cmap()`` or ``pyplot.get_cmap()`` instead.\n",
            "  cmap_light = ListedColormap(cm.get_cmap(plt.get_cmap('tab20'))(cmap_val)[1:5:2])\n",
            "/var/folders/27/0_8pjdb52g91gmnzbtgblvgc0000gn/T/ipykernel_4069/81021158.py:27: MatplotlibDeprecationWarning: The get_cmap function was deprecated in Matplotlib 3.7 and will be removed in 3.11. Use ``matplotlib.colormaps[name]`` or ``matplotlib.colormaps.get_cmap()`` or ``pyplot.get_cmap()`` instead.\n",
            "  cmap_bold = ListedColormap(cm.get_cmap(plt.get_cmap('tab20'))(cmap_val)[:4:2])\n",
            "/Users/idhibhatpankam/Code/courses/DATA-SCI/.venv/lib/python3.12/site-packages/sklearn/utils/validation.py:2739: UserWarning: X does not have valid feature names, but SVC was fitted with feature names\n",
            "  warnings.warn(\n"
          ]
        },
        {
          "data": {
            "image/png": "[encoded data removed]",
            "text/plain": [
              "<Figure size 640x640 with 1 Axes>"
            ]
          },
          "metadata": {},
          "output_type": "display_data"
        }
      ],
      "source": [
        "#@markdown # **Select parameters to plot**\n",
        "#@markdown **(On simplyfied model for visualization - 2 variables)**\n",
        "\n",
        "#@markdown Adapt from: https://scikit-learn.org/stable/auto_examples/neighbors/plot_classification.html\n",
        "#@markdown **Suggest Parameters**\n",
        "#@markdown * **x_label**: Sex\n",
        "#@markdown * **y_label**: SibSp\n",
        "#@markdown Try on Different kernels to see hyperplanes.\n",
        "C = 1\n",
        "kernel = \"rbf\" #@param ['linear', 'poly', 'rbf']\n",
        "gamma = \"scale\"\n",
        "\n",
        "# x_label = 'sepal length (cm)' #@param ['sepal length (cm)', 'sepal width (cm)', 'petal length (cm)', 'petal width (cm)']\n",
        "# y_label = 'petal length (cm)' #@param ['sepal length (cm)', 'sepal width (cm)', 'petal length (cm)', 'petal width (cm)']\n",
        "x_label = 'Sex' #@param ['Pclass', 'Sex', 'Age', 'SibSp', 'Parch', 'Fare']\n",
        "y_label = 'SibSp' #@param ['Pclass', 'Sex', 'Age', 'SibSp', 'Parch', 'Fare']\n",
        "\n",
        "x_idx = train_df.columns.to_list().index(x_label)\n",
        "y_idx = train_df.columns.to_list().index(y_label)\n",
        "\n",
        "# Script from https://scikit-learn.org/stable/auto_examples/neighbors/plot_classification.html\n",
        "\n",
        "from matplotlib import cm\n",
        "from matplotlib.colors import ListedColormap\n",
        "cmap_val = np.linspace(0.0, 1.0, 20)\n",
        "cmap_light = ListedColormap(cm.get_cmap(plt.get_cmap('tab20'))(cmap_val)[1:5:2])\n",
        "cmap_bold = ListedColormap(cm.get_cmap(plt.get_cmap('tab20'))(cmap_val)[:4:2])\n",
        "h = 300  # step size in the mesh\n",
        "\n",
        "model = SVC(\n",
        "  C=C,\n",
        "  kernel=kernel,\n",
        "  gamma=gamma,\n",
        "  cache_size=4096\n",
        ")\n",
        "model.fit(train_df.iloc[:, [x_idx, y_idx]], train_df[target_col])\n",
        "x_min, x_max = train_df.iloc[:, x_idx].min() - 1, train_df.iloc[:, x_idx].max() + 1\n",
        "y_min, y_max = train_df.iloc[:, y_idx].min() - 1, train_df.iloc[:, y_idx].max() + 1\n",
        "xx, yy = np.meshgrid(\n",
        "  np.arange(x_min, x_max, (x_max-x_min)/h),\n",
        "  np.arange(y_min, y_max, (y_max-y_min)/h)\n",
        ")\n",
        "Z = model.predict(np.c_[xx.ravel(), yy.ravel()])\n",
        "\n",
        "# Put the result into a color plot\n",
        "Z = Z.reshape(xx.shape)\n",
        "plt.figure(figsize=(8, 8), dpi=80)\n",
        "plt.pcolormesh(xx, yy, Z, cmap=cmap_light)\n",
        "\n",
        "# Plot also the training points\n",
        "plt.scatter(\n",
        "  train_df.iloc[:, x_idx],\n",
        "  train_df.iloc[:, y_idx],\n",
        "  c=train_df[target_col],\n",
        "  cmap=cmap_bold,\n",
        "  edgecolor='k',\n",
        "  s=40\n",
        ")\n",
        "plt.xlabel(x_label)\n",
        "plt.xlim(xx.min(), xx.max())\n",
        "plt.ylabel(y_label)\n",
        "plt.ylim(yy.min(), yy.max())\n",
        "plt.title(f\"3-Class classification (C = {C}, kernel = {kernel})\")\n",
        "plt.show()"
      ]
    },
    {
      "cell_type": "markdown",
      "metadata": {
        "id": "W-6OuefCBsKo"
      },
      "source": [
        "## 3.1 Support Vectors"
      ]
    },
    {
      "cell_type": "code",
      "execution_count": 13,
      "metadata": {
        "colab": {
          "base_uri": "https://localhost:8080/"
        },
        "id": "Ivzigk_9S4iU",
        "outputId": "41f2a0a8-c4f2-4bef-ec60-bd147490a51f"
      },
      "outputs": [
        {
          "data": {
            "text/plain": [
              "array([2, 4, 5, 6, 8], dtype=int32)"
            ]
          },
          "execution_count": 13,
          "metadata": {},
          "output_type": "execute_result"
        }
      ],
      "source": [
        "# Index of support vectors\n",
        "svm.support_[:5]"
      ]
    },
    {
      "cell_type": "code",
      "execution_count": 14,
      "metadata": {
        "colab": {
          "base_uri": "https://localhost:8080/"
        },
        "id": "YWr4t2R9HwPn",
        "outputId": "c85665ee-3ca6-4415-cdf8-e666be676d9b"
      },
      "outputs": [
        {
          "data": {
            "text/plain": [
              "array([-1.        , -1.        , -1.        , -0.8800384 , -0.40586975])"
            ]
          },
          "execution_count": 14,
          "metadata": {},
          "output_type": "execute_result"
        }
      ],
      "source": [
        "# Alpha of Support Vector\n",
        "svm.dual_coef_[0][:5]"
      ]
    },
    {
      "cell_type": "code",
      "execution_count": 15,
      "metadata": {
        "colab": {
          "base_uri": "https://localhost:8080/"
        },
        "id": "4EEFCMCsHvKt",
        "outputId": "61e835e9-1423-464f-a7ba-3599171e8614"
      },
      "outputs": [
        {
          "data": {
            "text/plain": [
              "array([[ 3.  ,  1.  , 28.75,  1.  ,  0.  , 16.1 ],\n",
              "       [ 3.  ,  1.  , 49.  ,  0.  ,  0.  ,  0.  ],\n",
              "       [ 2.  ,  1.  , 35.  ,  0.  ,  0.  , 26.  ],\n",
              "       [ 3.  ,  1.  , 36.  ,  0.  ,  0.  ,  0.  ],\n",
              "       [ 3.  ,  0.  , 18.  ,  2.  ,  0.  , 18.  ]])"
            ]
          },
          "execution_count": 15,
          "metadata": {},
          "output_type": "execute_result"
        }
      ],
      "source": [
        "# Support Vector\n",
        "svm.support_vectors_[:5]"
      ]
    },
    {
      "cell_type": "code",
      "execution_count": null,
      "metadata": {},
      "outputs": [],
      "source": []
    }
  ],
  "metadata": {
    "colab": {
      "provenance": []
    },
    "kernelspec": {
      "display_name": ".venv",
      "language": "python",
      "name": "python3"
    },
    "language_info": {
      "codemirror_mode": {
        "name": "ipython",
        "version": 3
      },
      "file_extension": ".py",
      "mimetype": "text/x-python",
      "name": "python",
      "nbconvert_exporter": "python",
      "pygments_lexer": "ipython3",
      "version": "3.12.5"
    }
  },
  "nbformat": 4,
  "nbformat_minor": 0
}
