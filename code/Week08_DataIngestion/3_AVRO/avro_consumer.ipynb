{
 "cells": [
  {
   "cell_type": "code",
   "execution_count": 1,
   "metadata": {},
   "outputs": [],
   "source": [
    "# import required libraries\n",
    "from kafka import KafkaConsumer"
   ]
  },
  {
   "cell_type": "code",
   "execution_count": 2,
   "metadata": {},
   "outputs": [],
   "source": [
    "import avro.schema\n",
    "import avro.io\n",
    "import io"
   ]
  },
  {
   "cell_type": "code",
   "execution_count": 3,
   "metadata": {},
   "outputs": [],
   "source": [
    "schema_file = 'sample.avsc'\n",
    "schema = avro.schema.parse(open(schema_file).read())"
   ]
  },
  {
   "cell_type": "code",
   "execution_count": 4,
   "metadata": {},
   "outputs": [],
   "source": [
    "def deserialize(schema, raw_bytes):\n",
    "    bytes_reader = io.BytesIO(raw_bytes)\n",
    "    decoder = avro.io.BinaryDecoder(bytes_reader)\n",
    "    reader = avro.io.DatumReader(schema)\n",
    "    return reader.read(decoder)"
   ]
  },
  {
   "cell_type": "code",
   "execution_count": 5,
   "metadata": {},
   "outputs": [],
   "source": [
    "# Connect to kafka broker running in your local host (docker). Change this to your kafka broker if needed\n",
    "kafka_broker = 'localhost:9092'"
   ]
  },
  {
   "cell_type": "code",
   "execution_count": 6,
   "metadata": {},
   "outputs": [],
   "source": [
    "consumer = KafkaConsumer(\n",
    "    'avro',\n",
    "     bootstrap_servers=[kafka_broker],\n",
    "     enable_auto_commit=True,\n",
    "     value_deserializer=lambda x: deserialize(schema, x))"
   ]
  },
  {
   "cell_type": "code",
   "execution_count": 7,
   "metadata": {},
   "outputs": [
    {
     "name": "stdout",
     "output_type": "stream",
     "text": [
      "Running Consumer with AVRO\n",
      "{'key': 'key13', 'value': 'message #13', 'timestamp': 1742893165887}\n",
      "{'key': 'key14', 'value': 'message #14', 'timestamp': 1742893167892}\n",
      "{'key': 'key15', 'value': 'message #15', 'timestamp': 1742893169897}\n",
      "{'key': 'key16', 'value': 'message #16', 'timestamp': 1742893171903}\n",
      "{'key': 'key17', 'value': 'message #17', 'timestamp': 1742893173906}\n",
      "{'key': 'key18', 'value': 'message #18', 'timestamp': 1742893175909}\n",
      "{'key': 'key19', 'value': 'message #19', 'timestamp': 1742893177915}\n",
      "{'key': 'key20', 'value': 'message #20', 'timestamp': 1742893179918}\n",
      "{'key': 'key21', 'value': 'message #21', 'timestamp': 1742893181923}\n",
      "{'key': 'key22', 'value': 'message #22', 'timestamp': 1742893183926}\n",
      "{'key': 'key23', 'value': 'message #23', 'timestamp': 1742893185932}\n",
      "{'key': 'key24', 'value': 'message #24', 'timestamp': 1742893187938}\n",
      "{'key': 'key25', 'value': 'message #25', 'timestamp': 1742893189945}\n",
      "{'key': 'key26', 'value': 'message #26', 'timestamp': 1742893191948}\n",
      "{'key': 'key27', 'value': 'message #27', 'timestamp': 1742893193952}\n",
      "{'key': 'key28', 'value': 'message #28', 'timestamp': 1742893195954}\n",
      "{'key': 'key29', 'value': 'message #29', 'timestamp': 1742893197958}\n",
      "{'key': 'key30', 'value': 'message #30', 'timestamp': 1742893199959}\n",
      "{'key': 'key31', 'value': 'message #31', 'timestamp': 1742893201964}\n",
      "{'key': 'key32', 'value': 'message #32', 'timestamp': 1742893203970}\n",
      "{'key': 'key33', 'value': 'message #33', 'timestamp': 1742893205975}\n",
      "{'key': 'key34', 'value': 'message #34', 'timestamp': 1742893207981}\n",
      "{'key': 'key35', 'value': 'message #35', 'timestamp': 1742893209983}\n",
      "{'key': 'key36', 'value': 'message #36', 'timestamp': 1742893211986}\n",
      "{'key': 'key37', 'value': 'message #37', 'timestamp': 1742893213991}\n",
      "{'key': 'key38', 'value': 'message #38', 'timestamp': 1742893215993}\n",
      "{'key': 'key39', 'value': 'message #39', 'timestamp': 1742893217999}\n",
      "{'key': 'key40', 'value': 'message #40', 'timestamp': 1742893220005}\n",
      "{'key': 'key41', 'value': 'message #41', 'timestamp': 1742893222011}\n",
      "{'key': 'key42', 'value': 'message #42', 'timestamp': 1742893224015}\n",
      "{'key': 'key43', 'value': 'message #43', 'timestamp': 1742893226025}\n",
      "{'key': 'key44', 'value': 'message #44', 'timestamp': 1742893228030}\n",
      "{'key': 'key45', 'value': 'message #45', 'timestamp': 1742893230036}\n",
      "{'key': 'key46', 'value': 'message #46', 'timestamp': 1742893232041}\n",
      "{'key': 'key47', 'value': 'message #47', 'timestamp': 1742893234043}\n",
      "{'key': 'key48', 'value': 'message #48', 'timestamp': 1742893236048}\n",
      "{'key': 'key49', 'value': 'message #49', 'timestamp': 1742893238050}\n",
      "{'key': 'key50', 'value': 'message #50', 'timestamp': 1742893240056}\n",
      "{'key': 'key51', 'value': 'message #51', 'timestamp': 1742893242059}\n",
      "{'key': 'key52', 'value': 'message #52', 'timestamp': 1742893244064}\n",
      "{'key': 'key53', 'value': 'message #53', 'timestamp': 1742893246067}\n",
      "{'key': 'key54', 'value': 'message #54', 'timestamp': 1742893248068}\n",
      "{'key': 'key55', 'value': 'message #55', 'timestamp': 1742893250075}\n",
      "{'key': 'key56', 'value': 'message #56', 'timestamp': 1742893252076}\n",
      "{'key': 'key57', 'value': 'message #57', 'timestamp': 1742893254078}\n",
      "{'key': 'key58', 'value': 'message #58', 'timestamp': 1742893256083}\n",
      "{'key': 'key59', 'value': 'message #59', 'timestamp': 1742893258086}\n",
      "{'key': 'key60', 'value': 'message #60', 'timestamp': 1742893260091}\n",
      "{'key': 'key61', 'value': 'message #61', 'timestamp': 1742893262096}\n",
      "{'key': 'key62', 'value': 'message #62', 'timestamp': 1742893264098}\n",
      "{'key': 'key63', 'value': 'message #63', 'timestamp': 1742893266103}\n",
      "{'key': 'key64', 'value': 'message #64', 'timestamp': 1742893268109}\n",
      "{'key': 'key65', 'value': 'message #65', 'timestamp': 1742893270115}\n",
      "{'key': 'key66', 'value': 'message #66', 'timestamp': 1742893272118}\n",
      "{'key': 'key67', 'value': 'message #67', 'timestamp': 1742893274124}\n",
      "{'key': 'key68', 'value': 'message #68', 'timestamp': 1742893276126}\n",
      "{'key': 'key69', 'value': 'message #69', 'timestamp': 1742893278128}\n",
      "{'key': 'key70', 'value': 'message #70', 'timestamp': 1742893280133}\n",
      "{'key': 'key71', 'value': 'message #71', 'timestamp': 1742893282139}\n",
      "{'key': 'key72', 'value': 'message #72', 'timestamp': 1742893284143}\n",
      "{'key': 'key73', 'value': 'message #73', 'timestamp': 1742893286148}\n",
      "{'key': 'key74', 'value': 'message #74', 'timestamp': 1742893288153}\n",
      "{'key': 'key75', 'value': 'message #75', 'timestamp': 1742893290158}\n",
      "{'key': 'key76', 'value': 'message #76', 'timestamp': 1742893292163}\n",
      "{'key': 'key77', 'value': 'message #77', 'timestamp': 1742893294168}\n",
      "{'key': 'key78', 'value': 'message #78', 'timestamp': 1742893296173}\n",
      "{'key': 'key79', 'value': 'message #79', 'timestamp': 1742893298174}\n",
      "{'key': 'key80', 'value': 'message #80', 'timestamp': 1742893300176}\n",
      "{'key': 'key81', 'value': 'message #81', 'timestamp': 1742893302181}\n",
      "{'key': 'key82', 'value': 'message #82', 'timestamp': 1742893304187}\n",
      "{'key': 'key83', 'value': 'message #83', 'timestamp': 1742893306194}\n",
      "{'key': 'key84', 'value': 'message #84', 'timestamp': 1742893308201}\n",
      "{'key': 'key85', 'value': 'message #85', 'timestamp': 1742893310205}\n",
      "{'key': 'key86', 'value': 'message #86', 'timestamp': 1742893312212}\n",
      "{'key': 'key87', 'value': 'message #87', 'timestamp': 1742893314216}\n",
      "{'key': 'key88', 'value': 'message #88', 'timestamp': 1742893316218}\n",
      "{'key': 'key89', 'value': 'message #89', 'timestamp': 1742893318224}\n",
      "{'key': 'key90', 'value': 'message #90', 'timestamp': 1742893320228}\n",
      "{'key': 'key91', 'value': 'message #91', 'timestamp': 1742893322231}\n",
      "{'key': 'key92', 'value': 'message #92', 'timestamp': 1742893324237}\n",
      "{'key': 'key93', 'value': 'message #93', 'timestamp': 1742893326240}\n",
      "{'key': 'key94', 'value': 'message #94', 'timestamp': 1742893328246}\n",
      "{'key': 'key95', 'value': 'message #95', 'timestamp': 1742893330252}\n",
      "{'key': 'key96', 'value': 'message #96', 'timestamp': 1742893332258}\n",
      "{'key': 'key97', 'value': 'message #97', 'timestamp': 1742893334264}\n",
      "{'key': 'key98', 'value': 'message #98', 'timestamp': 1742893336269}\n",
      "{'key': 'key99', 'value': 'message #99', 'timestamp': 1742893338274}\n"
     ]
    },
    {
     "ename": "KeyboardInterrupt",
     "evalue": "",
     "output_type": "error",
     "traceback": [
      "\u001b[0;31m---------------------------------------------------------------------------\u001b[0m",
      "\u001b[0;31mKeyboardInterrupt\u001b[0m                         Traceback (most recent call last)",
      "Cell \u001b[0;32mIn[7], line 2\u001b[0m\n\u001b[1;32m      1\u001b[0m \u001b[38;5;28mprint\u001b[39m(\u001b[38;5;124m'\u001b[39m\u001b[38;5;124mRunning Consumer with AVRO\u001b[39m\u001b[38;5;124m'\u001b[39m)\n\u001b[0;32m----> 2\u001b[0m \u001b[38;5;28;43;01mfor\u001b[39;49;00m\u001b[43m \u001b[49m\u001b[43mmessage\u001b[49m\u001b[43m \u001b[49m\u001b[38;5;129;43;01min\u001b[39;49;00m\u001b[43m \u001b[49m\u001b[43mconsumer\u001b[49m\u001b[43m:\u001b[49m\n\u001b[1;32m      3\u001b[0m \u001b[43m    \u001b[49m\u001b[38;5;28;43mprint\u001b[39;49m\u001b[43m(\u001b[49m\u001b[43mmessage\u001b[49m\u001b[38;5;241;43m.\u001b[39;49m\u001b[43mvalue\u001b[49m\u001b[43m)\u001b[49m\n",
      "File \u001b[0;32m~/Code/courses/DATA-SCI/.venv/lib/python3.12/site-packages/kafka/consumer/group.py:1168\u001b[0m, in \u001b[0;36mKafkaConsumer.__next__\u001b[0;34m(self)\u001b[0m\n\u001b[1;32m   1166\u001b[0m     \u001b[38;5;28mself\u001b[39m\u001b[38;5;241m.\u001b[39m_iterator \u001b[38;5;241m=\u001b[39m \u001b[38;5;28mself\u001b[39m\u001b[38;5;241m.\u001b[39m_message_generator_v2()\n\u001b[1;32m   1167\u001b[0m \u001b[38;5;28;01mtry\u001b[39;00m:\n\u001b[0;32m-> 1168\u001b[0m     \u001b[38;5;28;01mreturn\u001b[39;00m \u001b[38;5;28;43mnext\u001b[39;49m\u001b[43m(\u001b[49m\u001b[38;5;28;43mself\u001b[39;49m\u001b[38;5;241;43m.\u001b[39;49m\u001b[43m_iterator\u001b[49m\u001b[43m)\u001b[49m\n\u001b[1;32m   1169\u001b[0m \u001b[38;5;28;01mexcept\u001b[39;00m \u001b[38;5;167;01mStopIteration\u001b[39;00m:\n\u001b[1;32m   1170\u001b[0m     \u001b[38;5;28mself\u001b[39m\u001b[38;5;241m.\u001b[39m_iterator \u001b[38;5;241m=\u001b[39m \u001b[38;5;28;01mNone\u001b[39;00m\n",
      "File \u001b[0;32m~/Code/courses/DATA-SCI/.venv/lib/python3.12/site-packages/kafka/consumer/group.py:1140\u001b[0m, in \u001b[0;36mKafkaConsumer._message_generator_v2\u001b[0;34m(self)\u001b[0m\n\u001b[1;32m   1138\u001b[0m \u001b[38;5;28;01mdef\u001b[39;00m\u001b[38;5;250m \u001b[39m\u001b[38;5;21m_message_generator_v2\u001b[39m(\u001b[38;5;28mself\u001b[39m):\n\u001b[1;32m   1139\u001b[0m     timeout_ms \u001b[38;5;241m=\u001b[39m \u001b[38;5;241m1000\u001b[39m \u001b[38;5;241m*\u001b[39m \u001b[38;5;28mmax\u001b[39m(\u001b[38;5;241m0\u001b[39m, \u001b[38;5;28mself\u001b[39m\u001b[38;5;241m.\u001b[39m_consumer_timeout \u001b[38;5;241m-\u001b[39m time\u001b[38;5;241m.\u001b[39mtime())\n\u001b[0;32m-> 1140\u001b[0m     record_map \u001b[38;5;241m=\u001b[39m \u001b[38;5;28;43mself\u001b[39;49m\u001b[38;5;241;43m.\u001b[39;49m\u001b[43mpoll\u001b[49m\u001b[43m(\u001b[49m\u001b[43mtimeout_ms\u001b[49m\u001b[38;5;241;43m=\u001b[39;49m\u001b[43mtimeout_ms\u001b[49m\u001b[43m,\u001b[49m\u001b[43m \u001b[49m\u001b[43mupdate_offsets\u001b[49m\u001b[38;5;241;43m=\u001b[39;49m\u001b[38;5;28;43;01mFalse\u001b[39;49;00m\u001b[43m)\u001b[49m\n\u001b[1;32m   1141\u001b[0m     \u001b[38;5;28;01mfor\u001b[39;00m tp, records \u001b[38;5;129;01min\u001b[39;00m six\u001b[38;5;241m.\u001b[39miteritems(record_map):\n\u001b[1;32m   1142\u001b[0m         \u001b[38;5;66;03m# Generators are stateful, and it is possible that the tp / records\u001b[39;00m\n\u001b[1;32m   1143\u001b[0m         \u001b[38;5;66;03m# here may become stale during iteration -- i.e., we seek to a\u001b[39;00m\n\u001b[1;32m   1144\u001b[0m         \u001b[38;5;66;03m# different offset, pause consumption, or lose assignment.\u001b[39;00m\n\u001b[1;32m   1145\u001b[0m         \u001b[38;5;28;01mfor\u001b[39;00m record \u001b[38;5;129;01min\u001b[39;00m records:\n\u001b[1;32m   1146\u001b[0m             \u001b[38;5;66;03m# is_fetchable(tp) should handle assignment changes and offset\u001b[39;00m\n\u001b[1;32m   1147\u001b[0m             \u001b[38;5;66;03m# resets; for all other changes (e.g., seeks) we'll rely on the\u001b[39;00m\n\u001b[1;32m   1148\u001b[0m             \u001b[38;5;66;03m# outer function destroying the existing iterator/generator\u001b[39;00m\n\u001b[1;32m   1149\u001b[0m             \u001b[38;5;66;03m# via self._iterator = None\u001b[39;00m\n",
      "File \u001b[0;32m~/Code/courses/DATA-SCI/.venv/lib/python3.12/site-packages/kafka/consumer/group.py:679\u001b[0m, in \u001b[0;36mKafkaConsumer.poll\u001b[0;34m(self, timeout_ms, max_records, update_offsets)\u001b[0m\n\u001b[1;32m    677\u001b[0m inner_timeout_ms \u001b[38;5;241m=\u001b[39m timeout_ms_fn(timeout_ms, \u001b[38;5;28;01mNone\u001b[39;00m)\n\u001b[1;32m    678\u001b[0m \u001b[38;5;28;01mwhile\u001b[39;00m \u001b[38;5;129;01mnot\u001b[39;00m \u001b[38;5;28mself\u001b[39m\u001b[38;5;241m.\u001b[39m_closed:\n\u001b[0;32m--> 679\u001b[0m     records \u001b[38;5;241m=\u001b[39m \u001b[38;5;28;43mself\u001b[39;49m\u001b[38;5;241;43m.\u001b[39;49m\u001b[43m_poll_once\u001b[49m\u001b[43m(\u001b[49m\u001b[43minner_timeout_ms\u001b[49m\u001b[43m(\u001b[49m\u001b[43m)\u001b[49m\u001b[43m,\u001b[49m\u001b[43m \u001b[49m\u001b[43mmax_records\u001b[49m\u001b[43m,\u001b[49m\u001b[43m \u001b[49m\u001b[43mupdate_offsets\u001b[49m\u001b[38;5;241;43m=\u001b[39;49m\u001b[43mupdate_offsets\u001b[49m\u001b[43m)\u001b[49m\n\u001b[1;32m    680\u001b[0m     \u001b[38;5;28;01mif\u001b[39;00m records:\n\u001b[1;32m    681\u001b[0m         \u001b[38;5;28;01mreturn\u001b[39;00m records\n",
      "File \u001b[0;32m~/Code/courses/DATA-SCI/.venv/lib/python3.12/site-packages/kafka/consumer/group.py:722\u001b[0m, in \u001b[0;36mKafkaConsumer._poll_once\u001b[0;34m(self, timeout_ms, max_records, update_offsets)\u001b[0m\n\u001b[1;32m    719\u001b[0m \u001b[38;5;28;01mif\u001b[39;00m records:\n\u001b[1;32m    720\u001b[0m     \u001b[38;5;28;01mreturn\u001b[39;00m records\n\u001b[0;32m--> 722\u001b[0m \u001b[38;5;28;43mself\u001b[39;49m\u001b[38;5;241;43m.\u001b[39;49m\u001b[43m_client\u001b[49m\u001b[38;5;241;43m.\u001b[39;49m\u001b[43mpoll\u001b[49m\u001b[43m(\u001b[49m\u001b[43mtimeout_ms\u001b[49m\u001b[38;5;241;43m=\u001b[39;49m\u001b[43minner_timeout_ms\u001b[49m\u001b[43m(\u001b[49m\u001b[38;5;28;43mself\u001b[39;49m\u001b[38;5;241;43m.\u001b[39;49m\u001b[43m_coordinator\u001b[49m\u001b[38;5;241;43m.\u001b[39;49m\u001b[43mtime_to_next_poll\u001b[49m\u001b[43m(\u001b[49m\u001b[43m)\u001b[49m\u001b[43m \u001b[49m\u001b[38;5;241;43m*\u001b[39;49m\u001b[43m \u001b[49m\u001b[38;5;241;43m1000\u001b[39;49m\u001b[43m)\u001b[49m\u001b[43m)\u001b[49m\n\u001b[1;32m    723\u001b[0m \u001b[38;5;66;03m# after the long poll, we should check whether the group needs to rebalance\u001b[39;00m\n\u001b[1;32m    724\u001b[0m \u001b[38;5;66;03m# prior to returning data so that the group can stabilize faster\u001b[39;00m\n\u001b[1;32m    725\u001b[0m \u001b[38;5;28;01mif\u001b[39;00m \u001b[38;5;28mself\u001b[39m\u001b[38;5;241m.\u001b[39m_coordinator\u001b[38;5;241m.\u001b[39mneed_rejoin():\n",
      "File \u001b[0;32m~/Code/courses/DATA-SCI/.venv/lib/python3.12/site-packages/kafka/client_async.py:683\u001b[0m, in \u001b[0;36mKafkaClient.poll\u001b[0;34m(self, timeout_ms, future)\u001b[0m\n\u001b[1;32m    676\u001b[0m         timeout \u001b[38;5;241m=\u001b[39m \u001b[38;5;28mmin\u001b[39m(\n\u001b[1;32m    677\u001b[0m             user_timeout_ms,\n\u001b[1;32m    678\u001b[0m             metadata_timeout_ms,\n\u001b[1;32m    679\u001b[0m             idle_connection_timeout_ms,\n\u001b[1;32m    680\u001b[0m             request_timeout_ms)\n\u001b[1;32m    681\u001b[0m         timeout \u001b[38;5;241m=\u001b[39m \u001b[38;5;28mmax\u001b[39m(\u001b[38;5;241m0\u001b[39m, timeout)  \u001b[38;5;66;03m# avoid negative timeouts\u001b[39;00m\n\u001b[0;32m--> 683\u001b[0m     \u001b[38;5;28;43mself\u001b[39;49m\u001b[38;5;241;43m.\u001b[39;49m\u001b[43m_poll\u001b[49m\u001b[43m(\u001b[49m\u001b[43mtimeout\u001b[49m\u001b[43m \u001b[49m\u001b[38;5;241;43m/\u001b[39;49m\u001b[43m \u001b[49m\u001b[38;5;241;43m1000\u001b[39;49m\u001b[43m)\u001b[49m\n\u001b[1;32m    685\u001b[0m \u001b[38;5;66;03m# called without the lock to avoid deadlock potential\u001b[39;00m\n\u001b[1;32m    686\u001b[0m \u001b[38;5;66;03m# if handlers need to acquire locks\u001b[39;00m\n\u001b[1;32m    687\u001b[0m responses\u001b[38;5;241m.\u001b[39mextend(\u001b[38;5;28mself\u001b[39m\u001b[38;5;241m.\u001b[39m_fire_pending_completed_requests())\n",
      "File \u001b[0;32m~/Code/courses/DATA-SCI/.venv/lib/python3.12/site-packages/kafka/client_async.py:726\u001b[0m, in \u001b[0;36mKafkaClient._poll\u001b[0;34m(self, timeout)\u001b[0m\n\u001b[1;32m    723\u001b[0m \u001b[38;5;28mself\u001b[39m\u001b[38;5;241m.\u001b[39m_register_send_sockets()\n\u001b[1;32m    725\u001b[0m start_select \u001b[38;5;241m=\u001b[39m time\u001b[38;5;241m.\u001b[39mtime()\n\u001b[0;32m--> 726\u001b[0m ready \u001b[38;5;241m=\u001b[39m \u001b[38;5;28;43mself\u001b[39;49m\u001b[38;5;241;43m.\u001b[39;49m\u001b[43m_selector\u001b[49m\u001b[38;5;241;43m.\u001b[39;49m\u001b[43mselect\u001b[49m\u001b[43m(\u001b[49m\u001b[43mtimeout\u001b[49m\u001b[43m)\u001b[49m\n\u001b[1;32m    727\u001b[0m end_select \u001b[38;5;241m=\u001b[39m time\u001b[38;5;241m.\u001b[39mtime()\n\u001b[1;32m    728\u001b[0m \u001b[38;5;28;01mif\u001b[39;00m \u001b[38;5;28mself\u001b[39m\u001b[38;5;241m.\u001b[39m_sensors:\n",
      "File \u001b[0;32m/Library/Frameworks/Python.framework/Versions/3.12/lib/python3.12/selectors.py:566\u001b[0m, in \u001b[0;36mKqueueSelector.select\u001b[0;34m(self, timeout)\u001b[0m\n\u001b[1;32m    564\u001b[0m ready \u001b[38;5;241m=\u001b[39m []\n\u001b[1;32m    565\u001b[0m \u001b[38;5;28;01mtry\u001b[39;00m:\n\u001b[0;32m--> 566\u001b[0m     kev_list \u001b[38;5;241m=\u001b[39m \u001b[38;5;28;43mself\u001b[39;49m\u001b[38;5;241;43m.\u001b[39;49m\u001b[43m_selector\u001b[49m\u001b[38;5;241;43m.\u001b[39;49m\u001b[43mcontrol\u001b[49m\u001b[43m(\u001b[49m\u001b[38;5;28;43;01mNone\u001b[39;49;00m\u001b[43m,\u001b[49m\u001b[43m \u001b[49m\u001b[43mmax_ev\u001b[49m\u001b[43m,\u001b[49m\u001b[43m \u001b[49m\u001b[43mtimeout\u001b[49m\u001b[43m)\u001b[49m\n\u001b[1;32m    567\u001b[0m \u001b[38;5;28;01mexcept\u001b[39;00m \u001b[38;5;167;01mInterruptedError\u001b[39;00m:\n\u001b[1;32m    568\u001b[0m     \u001b[38;5;28;01mreturn\u001b[39;00m ready\n",
      "\u001b[0;31mKeyboardInterrupt\u001b[0m: "
     ]
    }
   ],
   "source": [
    "print('Running Consumer with AVRO')\n",
    "for message in consumer:\n",
    "    print(message.value)"
   ]
  },
  {
   "cell_type": "code",
   "execution_count": null,
   "metadata": {},
   "outputs": [],
   "source": []
  }
 ],
 "metadata": {
  "kernelspec": {
   "display_name": ".venv",
   "language": "python",
   "name": "python3"
  },
  "language_info": {
   "codemirror_mode": {
    "name": "ipython",
    "version": 3
   },
   "file_extension": ".py",
   "mimetype": "text/x-python",
   "name": "python",
   "nbconvert_exporter": "python",
   "pygments_lexer": "ipython3",
   "version": "3.12.5"
  },
  "toc": {
   "base_numbering": 1,
   "nav_menu": {},
   "number_sections": true,
   "sideBar": true,
   "skip_h1_title": false,
   "title_cell": "Table of Contents",
   "title_sidebar": "Contents",
   "toc_cell": false,
   "toc_position": {},
   "toc_section_display": true,
   "toc_window_display": false
  },
  "varInspector": {
   "cols": {
    "lenName": 16,
    "lenType": 16,
    "lenVar": 40
   },
   "kernels_config": {
    "python": {
     "delete_cmd_postfix": "",
     "delete_cmd_prefix": "del ",
     "library": "var_list.py",
     "varRefreshCmd": "print(var_dic_list())"
    },
    "r": {
     "delete_cmd_postfix": ") ",
     "delete_cmd_prefix": "rm(",
     "library": "var_list.r",
     "varRefreshCmd": "cat(var_dic_list()) "
    }
   },
   "types_to_exclude": [
    "module",
    "function",
    "builtin_function_or_method",
    "instance",
    "_Feature"
   ],
   "window_display": false
  }
 },
 "nbformat": 4,
 "nbformat_minor": 2
}
