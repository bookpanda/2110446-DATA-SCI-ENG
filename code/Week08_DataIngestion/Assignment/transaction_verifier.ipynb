{
 "cells": [
  {
   "cell_type": "code",
   "execution_count": 17,
   "id": "3d144bf2",
   "metadata": {},
   "outputs": [],
   "source": [
    "# import required libraries\n",
    "from kafka import KafkaConsumer, KafkaProducer\n",
    "import avro.schema\n",
    "import avro.io\n",
    "import io\n",
    "import hashlib, json\n",
    "import threading\n",
    "import time"
   ]
  },
  {
   "cell_type": "code",
   "execution_count": 2,
   "id": "6234ffde",
   "metadata": {},
   "outputs": [],
   "source": [
    "def serialize(schema, obj):\n",
    "    bytes_writer = io.BytesIO()\n",
    "    encoder = avro.io.BinaryEncoder(bytes_writer)\n",
    "    writer = avro.io.DatumWriter(schema)\n",
    "    writer.write(obj, encoder)\n",
    "    return bytes_writer.getvalue()"
   ]
  },
  {
   "cell_type": "code",
   "execution_count": 3,
   "id": "5e1434bb",
   "metadata": {},
   "outputs": [],
   "source": [
    "def deserialize(schema, raw_bytes):\n",
    "    bytes_reader = io.BytesIO(raw_bytes)\n",
    "    decoder = avro.io.BinaryDecoder(bytes_reader)\n",
    "    reader = avro.io.DatumReader(schema)\n",
    "    return reader.read(decoder)"
   ]
  },
  {
   "cell_type": "code",
   "execution_count": 4,
   "id": "0e92e3e9",
   "metadata": {},
   "outputs": [],
   "source": [
    "schema_file = 'transaction.avsc'\n",
    "txschema = avro.schema.parse(open(schema_file).read())\n",
    "schema_file = 'submit.avsc'\n",
    "submitschema = avro.schema.parse(open(schema_file).read())\n",
    "schema_file = 'result.avsc'\n",
    "resultschema = avro.schema.parse(open(schema_file).read())"
   ]
  },
  {
   "cell_type": "code",
   "execution_count": 18,
   "id": "bcb5dc21",
   "metadata": {},
   "outputs": [],
   "source": [
    "# Connect to kafka broker running in your local host (docker). Change this to your kafka broker if needed\n",
    "kafka_broker = 'lab.aimet.tech:9092'"
   ]
  },
  {
   "cell_type": "code",
   "execution_count": 19,
   "id": "0e05b4b0",
   "metadata": {},
   "outputs": [],
   "source": [
    "producer = KafkaProducer(bootstrap_servers=[kafka_broker])"
   ]
  },
  {
   "cell_type": "code",
   "execution_count": 20,
   "id": "4a2555a3",
   "metadata": {},
   "outputs": [],
   "source": [
    "txconsumer = KafkaConsumer(\n",
    "    'transaction',\n",
    "     bootstrap_servers=[kafka_broker],\n",
    "     enable_auto_commit=True,\n",
    "     value_deserializer=lambda x: deserialize(txschema, x))\n",
    "resultconsumer = KafkaConsumer(\n",
    "    'result',\n",
    "     bootstrap_servers=[kafka_broker],\n",
    "     enable_auto_commit=True,\n",
    "     value_deserializer=lambda x: deserialize(resultschema, x))"
   ]
  },
  {
   "cell_type": "code",
   "execution_count": 8,
   "id": "fe697a88",
   "metadata": {},
   "outputs": [],
   "source": [
    "def gen_signature(txid, payer, payee, amount, token):\n",
    "    o = {'txid': txid, 'payer': payer, 'payee': payee, 'amount': amount, 'token': token}\n",
    "    return hashlib.md5(json.dumps(o, sort_keys=True).encode('utf-8')).hexdigest()"
   ]
  },
  {
   "cell_type": "code",
   "execution_count": 22,
   "id": "6c584c8e",
   "metadata": {},
   "outputs": [],
   "source": [
    "def monitor_thread():\n",
    "    for message in resultconsumer:\n",
    "        print(message.value)"
   ]
  },
  {
   "cell_type": "code",
   "execution_count": 23,
   "id": "678dfad6",
   "metadata": {},
   "outputs": [
    {
     "name": "stdout",
     "output_type": "stream",
     "text": [
      "{'timestamp': 1742895211, 'vid': '6532203021', 'txid': 'TX05682', 'checksum': '-', 'code': 400, 'message': 'Incorrect Signature'}\n",
      "{'timestamp': 1742895212, 'vid': '6532203021', 'txid': 'TX02632', 'checksum': '-', 'code': 400, 'message': 'Incorrect Signature'}\n",
      "{'timestamp': 1742895213, 'vid': '6532203021', 'txid': 'TX04116', 'checksum': '-', 'code': 400, 'message': 'Incorrect Signature'}\n",
      "{'timestamp': 1742895214, 'vid': '6532203021', 'txid': 'TX03456', 'checksum': '-', 'code': 400, 'message': 'Incorrect Signature'}\n",
      "{'timestamp': 1742895223, 'vid': '6532203021', 'txid': 'TX03276', 'checksum': '-', 'code': 400, 'message': 'Incorrect Signature'}\n",
      "{'timestamp': 1742895230, 'vid': '6532203021', 'txid': 'TX08781', 'checksum': '-', 'code': 400, 'message': 'Incorrect Signature'}\n",
      "{'timestamp': 1742895235, 'vid': '6532203021', 'txid': 'TX03537', 'checksum': '-', 'code': 400, 'message': 'Incorrect Signature'}\n",
      "{'timestamp': 1742895242, 'vid': '6532203021', 'txid': 'TX06429', 'checksum': '-', 'code': 400, 'message': 'Incorrect Signature'}\n",
      "{'timestamp': 1742895250, 'vid': '6532203021', 'txid': 'TX06575', 'checksum': '-', 'code': 400, 'message': 'Incorrect Signature'}\n"
     ]
    }
   ],
   "source": [
    "monitor = threading.Thread(target=monitor_thread, daemon=True)\n",
    "monitor.start()"
   ]
  },
  {
   "cell_type": "code",
   "execution_count": null,
   "id": "b9915bcc",
   "metadata": {},
   "outputs": [
    {
     "name": "stdout",
     "output_type": "stream",
     "text": [
      "Running TX Consumer\n",
      "{'txid': 'TX05682', 'payer': 'A35556', 'payee': 'A59861', 'amount': 1421}\n",
      "submit: {'vid': '6532203021', 'txid': 'TX05682', 'signature': '21553878a9fa0d74410f2009d6081287'}\n",
      "{'txid': 'TX02632', 'payer': 'A78888', 'payee': 'A62586', 'amount': 1466}\n",
      "submit: {'vid': '6532203021', 'txid': 'TX02632', 'signature': 'f7f03081fb6a8cb75678737653d62dab'}\n",
      "{'txid': 'TX04116', 'payer': 'A20690', 'payee': 'A63671', 'amount': 189}\n",
      "submit: {'vid': '6532203021', 'txid': 'TX04116', 'signature': 'bcb4926a9126b4398e4f477e0a268730'}\n",
      "{'txid': 'TX03456', 'payer': 'A86747', 'payee': 'A11219', 'amount': 632}\n",
      "submit: {'vid': '6532203021', 'txid': 'TX03456', 'signature': 'd0f1838b7ee415be93fea8fe0fcf1826'}\n",
      "{'txid': 'TX03276', 'payer': 'A38698', 'payee': 'A32103', 'amount': 1497}\n",
      "submit: {'vid': '6532203021', 'txid': 'TX03276', 'signature': 'c0866457fbb72ce3edf59c245b871a0a'}\n",
      "{'txid': 'TX08781', 'payer': 'A49728', 'payee': 'A10711', 'amount': 1582}\n",
      "submit: {'vid': '6532203021', 'txid': 'TX08781', 'signature': '4fb22a56708d98e8589c15284ee8ae74'}\n",
      "{'txid': 'TX03537', 'payer': 'A80347', 'payee': 'A23456', 'amount': 585}\n",
      "submit: {'vid': '6532203021', 'txid': 'TX03537', 'signature': '804119a2fd29dbe49fcf4f205f5a7009'}\n",
      "{'txid': 'TX06429', 'payer': 'A71849', 'payee': 'A59315', 'amount': 1506}\n",
      "submit: {'vid': '6532203021', 'txid': 'TX06429', 'signature': '6b923bc4f04f5053fb2d0953a99fad83'}\n",
      "{'txid': 'TX06575', 'payer': 'A47498', 'payee': 'A36408', 'amount': 367}\n",
      "submit: {'vid': '6532203021', 'txid': 'TX06575', 'signature': '98d3c8e80d6ddbf801e9d5e1cf7bc8a5'}\n"
     ]
    }
   ],
   "source": [
    "token = \"idkman\"\n",
    "vid = \"6532203021\"\n",
    "\n",
    "print('Running TX Consumer')\n",
    "for message in txconsumer:\n",
    "    txid = message.value['txid']\n",
    "    payer = message.value['payer']\n",
    "    payee = message.value['payee']\n",
    "    amount = message.value['amount']\n",
    "\n",
    "    signature = gen_signature(txid, payer, payee, amount, token)\n",
    "    submit_data = {'vid': vid, 'txid': txid, 'signature': signature}\n",
    "    serialized_submit_data = serialize(submitschema, submit_data)\n",
    "\n",
    "    producer.send('submit', serialized_submit_data)\n",
    "    print(message.value)\n",
    "    print(f\"submit: {submit_data}\")"
   ]
  },
  {
   "cell_type": "code",
   "execution_count": null,
   "id": "30d6f446",
   "metadata": {},
   "outputs": [],
   "source": []
  }
 ],
 "metadata": {
  "kernelspec": {
   "display_name": ".venv",
   "language": "python",
   "name": "python3"
  },
  "language_info": {
   "codemirror_mode": {
    "name": "ipython",
    "version": 3
   },
   "file_extension": ".py",
   "mimetype": "text/x-python",
   "name": "python",
   "nbconvert_exporter": "python",
   "pygments_lexer": "ipython3",
   "version": "3.12.5"
  }
 },
 "nbformat": 4,
 "nbformat_minor": 5
}
