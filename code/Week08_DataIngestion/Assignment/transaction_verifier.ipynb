{
 "cells": [
  {
   "cell_type": "code",
   "execution_count": 17,
   "id": "3d144bf2",
   "metadata": {},
   "outputs": [],
   "source": [
    "# import required libraries\n",
    "from kafka import KafkaConsumer, KafkaProducer\n",
    "import avro.schema\n",
    "import avro.io\n",
    "import io\n",
    "import hashlib, json\n",
    "import threading\n",
    "import time"
   ]
  },
  {
   "cell_type": "code",
   "execution_count": 2,
   "id": "6234ffde",
   "metadata": {},
   "outputs": [],
   "source": [
    "def serialize(schema, obj):\n",
    "    bytes_writer = io.BytesIO()\n",
    "    encoder = avro.io.BinaryEncoder(bytes_writer)\n",
    "    writer = avro.io.DatumWriter(schema)\n",
    "    writer.write(obj, encoder)\n",
    "    return bytes_writer.getvalue()"
   ]
  },
  {
   "cell_type": "code",
   "execution_count": 3,
   "id": "5e1434bb",
   "metadata": {},
   "outputs": [],
   "source": [
    "def deserialize(schema, raw_bytes):\n",
    "    bytes_reader = io.BytesIO(raw_bytes)\n",
    "    decoder = avro.io.BinaryDecoder(bytes_reader)\n",
    "    reader = avro.io.DatumReader(schema)\n",
    "    return reader.read(decoder)"
   ]
  },
  {
   "cell_type": "code",
   "execution_count": 4,
   "id": "0e92e3e9",
   "metadata": {},
   "outputs": [],
   "source": [
    "schema_file = 'transaction.avsc'\n",
    "txschema = avro.schema.parse(open(schema_file).read())\n",
    "schema_file = 'submit.avsc'\n",
    "submitschema = avro.schema.parse(open(schema_file).read())\n",
    "schema_file = 'result.avsc'\n",
    "resultschema = avro.schema.parse(open(schema_file).read())"
   ]
  },
  {
   "cell_type": "code",
   "execution_count": 18,
   "id": "bcb5dc21",
   "metadata": {},
   "outputs": [],
   "source": [
    "# Connect to kafka broker running in your local host (docker). Change this to your kafka broker if needed\n",
    "kafka_broker = 'lab.aimet.tech:9092'"
   ]
  },
  {
   "cell_type": "code",
   "execution_count": 19,
   "id": "0e05b4b0",
   "metadata": {},
   "outputs": [],
   "source": [
    "producer = KafkaProducer(bootstrap_servers=[kafka_broker])"
   ]
  },
  {
   "cell_type": "code",
   "execution_count": 20,
   "id": "4a2555a3",
   "metadata": {},
   "outputs": [],
   "source": [
    "txconsumer = KafkaConsumer(\n",
    "    'transaction',\n",
    "     bootstrap_servers=[kafka_broker],\n",
    "     enable_auto_commit=True,\n",
    "     value_deserializer=lambda x: deserialize(txschema, x))\n",
    "resultconsumer = KafkaConsumer(\n",
    "    'result',\n",
    "     bootstrap_servers=[kafka_broker],\n",
    "     enable_auto_commit=True,\n",
    "     value_deserializer=lambda x: deserialize(resultschema, x))"
   ]
  },
  {
   "cell_type": "code",
   "execution_count": 8,
   "id": "fe697a88",
   "metadata": {},
   "outputs": [],
   "source": [
    "def gen_signature(txid, payer, payee, amount, token):\n",
    "    o = {'txid': txid, 'payer': payer, 'payee': payee, 'amount': amount, 'token': token}\n",
    "    return hashlib.md5(json.dumps(o, sort_keys=True).encode('utf-8')).hexdigest()"
   ]
  },
  {
   "cell_type": "code",
   "execution_count": 22,
   "id": "6c584c8e",
   "metadata": {},
   "outputs": [],
   "source": [
    "def monitor_thread():\n",
    "    for message in resultconsumer:\n",
    "        print(message.value)"
   ]
  },
  {
   "cell_type": "code",
   "execution_count": 23,
   "id": "678dfad6",
   "metadata": {},
   "outputs": [
    {
     "name": "stdout",
     "output_type": "stream",
     "text": [
      "{'timestamp': 1742895211, 'vid': '6532203021', 'txid': 'TX05682', 'checksum': '-', 'code': 400, 'message': 'Incorrect Signature'}\n",
      "{'timestamp': 1742895212, 'vid': '6532203021', 'txid': 'TX02632', 'checksum': '-', 'code': 400, 'message': 'Incorrect Signature'}\n",
      "{'timestamp': 1742895213, 'vid': '6532203021', 'txid': 'TX04116', 'checksum': '-', 'code': 400, 'message': 'Incorrect Signature'}\n",
      "{'timestamp': 1742895214, 'vid': '6532203021', 'txid': 'TX03456', 'checksum': '-', 'code': 400, 'message': 'Incorrect Signature'}\n",
      "{'timestamp': 1742895223, 'vid': '6532203021', 'txid': 'TX03276', 'checksum': '-', 'code': 400, 'message': 'Incorrect Signature'}\n",
      "{'timestamp': 1742895230, 'vid': '6532203021', 'txid': 'TX08781', 'checksum': '-', 'code': 400, 'message': 'Incorrect Signature'}\n",
      "{'timestamp': 1742895235, 'vid': '6532203021', 'txid': 'TX03537', 'checksum': '-', 'code': 400, 'message': 'Incorrect Signature'}\n",
      "{'timestamp': 1742895242, 'vid': '6532203021', 'txid': 'TX06429', 'checksum': '-', 'code': 400, 'message': 'Incorrect Signature'}\n",
      "{'timestamp': 1742895250, 'vid': '6532203021', 'txid': 'TX06575', 'checksum': '-', 'code': 400, 'message': 'Incorrect Signature'}\n",
      "{'timestamp': 1742895259, 'vid': '6532203021', 'txid': 'TX02855', 'checksum': '-', 'code': 400, 'message': 'Incorrect Signature'}\n",
      "{'timestamp': 1742895268, 'vid': '6532203021', 'txid': 'TX09736', 'checksum': '-', 'code': 400, 'message': 'Incorrect Signature'}\n",
      "{'timestamp': 1742895275, 'vid': '6532203021', 'txid': 'TX09345', 'checksum': '-', 'code': 400, 'message': 'Incorrect Signature'}\n",
      "{'timestamp': 1742895280, 'vid': '6532203021', 'txid': 'TX04938', 'checksum': '-', 'code': 400, 'message': 'Incorrect Signature'}\n",
      "{'timestamp': 1742895287, 'vid': '6532203021', 'txid': 'TX07238', 'checksum': '-', 'code': 400, 'message': 'Incorrect Signature'}\n",
      "{'timestamp': 1742895292, 'vid': '6532203021', 'txid': 'TX09834', 'checksum': '-', 'code': 400, 'message': 'Incorrect Signature'}\n",
      "{'timestamp': 1742895300, 'vid': '6532203021', 'txid': 'TX06640', 'checksum': '-', 'code': 400, 'message': 'Incorrect Signature'}\n",
      "{'timestamp': 1742895310, 'vid': '6532203021', 'txid': 'TX07893', 'checksum': '-', 'code': 400, 'message': 'Incorrect Signature'}\n",
      "{'timestamp': 1742895316, 'vid': '6532203021', 'txid': 'TX08203', 'checksum': '-', 'code': 400, 'message': 'Incorrect Signature'}\n",
      "{'timestamp': 1742895325, 'vid': '6532203021', 'txid': 'TX09999', 'checksum': '-', 'code': 400, 'message': 'Incorrect Signature'}\n"
     ]
    }
   ],
   "source": [
    "monitor = threading.Thread(target=monitor_thread, daemon=True)\n",
    "monitor.start()"
   ]
  },
  {
   "cell_type": "code",
   "execution_count": 24,
   "id": "b9915bcc",
   "metadata": {},
   "outputs": [
    {
     "name": "stdout",
     "output_type": "stream",
     "text": [
      "Running TX Consumer\n",
      "{'txid': 'TX05682', 'payer': 'A35556', 'payee': 'A59861', 'amount': 1421}\n",
      "submit: {'vid': '6532203021', 'txid': 'TX05682', 'signature': '21553878a9fa0d74410f2009d6081287'}\n",
      "{'txid': 'TX02632', 'payer': 'A78888', 'payee': 'A62586', 'amount': 1466}\n",
      "submit: {'vid': '6532203021', 'txid': 'TX02632', 'signature': 'f7f03081fb6a8cb75678737653d62dab'}\n",
      "{'txid': 'TX04116', 'payer': 'A20690', 'payee': 'A63671', 'amount': 189}\n",
      "submit: {'vid': '6532203021', 'txid': 'TX04116', 'signature': 'bcb4926a9126b4398e4f477e0a268730'}\n",
      "{'txid': 'TX03456', 'payer': 'A86747', 'payee': 'A11219', 'amount': 632}\n",
      "submit: {'vid': '6532203021', 'txid': 'TX03456', 'signature': 'd0f1838b7ee415be93fea8fe0fcf1826'}\n",
      "{'txid': 'TX03276', 'payer': 'A38698', 'payee': 'A32103', 'amount': 1497}\n",
      "submit: {'vid': '6532203021', 'txid': 'TX03276', 'signature': 'c0866457fbb72ce3edf59c245b871a0a'}\n",
      "{'txid': 'TX08781', 'payer': 'A49728', 'payee': 'A10711', 'amount': 1582}\n",
      "submit: {'vid': '6532203021', 'txid': 'TX08781', 'signature': '4fb22a56708d98e8589c15284ee8ae74'}\n",
      "{'txid': 'TX03537', 'payer': 'A80347', 'payee': 'A23456', 'amount': 585}\n",
      "submit: {'vid': '6532203021', 'txid': 'TX03537', 'signature': '804119a2fd29dbe49fcf4f205f5a7009'}\n",
      "{'txid': 'TX06429', 'payer': 'A71849', 'payee': 'A59315', 'amount': 1506}\n",
      "submit: {'vid': '6532203021', 'txid': 'TX06429', 'signature': '6b923bc4f04f5053fb2d0953a99fad83'}\n",
      "{'txid': 'TX06575', 'payer': 'A47498', 'payee': 'A36408', 'amount': 367}\n",
      "submit: {'vid': '6532203021', 'txid': 'TX06575', 'signature': '98d3c8e80d6ddbf801e9d5e1cf7bc8a5'}\n",
      "{'txid': 'TX02855', 'payer': 'A69214', 'payee': 'A63849', 'amount': 567}\n",
      "submit: {'vid': '6532203021', 'txid': 'TX02855', 'signature': '613a21c069418fbab0f85d3c7f8bf017'}\n",
      "{'txid': 'TX09736', 'payer': 'A88543', 'payee': 'A82034', 'amount': 1484}\n",
      "submit: {'vid': '6532203021', 'txid': 'TX09736', 'signature': '3e9f0c607d12dd44f91ea900e76162a0'}\n",
      "{'txid': 'TX09345', 'payer': 'A79721', 'payee': 'A36316', 'amount': 754}\n",
      "submit: {'vid': '6532203021', 'txid': 'TX09345', 'signature': '464c72fd9a5add2f1e40a34b94d30ec7'}\n",
      "{'txid': 'TX04938', 'payer': 'A63521', 'payee': 'A36023', 'amount': 1187}\n",
      "submit: {'vid': '6532203021', 'txid': 'TX04938', 'signature': 'fc0ba2d3d8b2bbaa7409fdb9c676c498'}\n",
      "{'txid': 'TX07238', 'payer': 'A87823', 'payee': 'A92003', 'amount': 567}\n",
      "submit: {'vid': '6532203021', 'txid': 'TX07238', 'signature': '4ff3649040dd25d601ba711bcf7c96d2'}\n",
      "{'txid': 'TX09834', 'payer': 'A51670', 'payee': 'A32660', 'amount': 1698}\n",
      "submit: {'vid': '6532203021', 'txid': 'TX09834', 'signature': '86bea4a6bd8678c9646c6af0f7820735'}\n",
      "{'txid': 'TX06640', 'payer': 'A03480', 'payee': 'A60368', 'amount': 1338}\n",
      "submit: {'vid': '6532203021', 'txid': 'TX06640', 'signature': '9150754fa6b776d7f435c27438b3de2f'}\n",
      "{'txid': 'TX07893', 'payer': 'A58061', 'payee': 'A94274', 'amount': 1598}\n",
      "submit: {'vid': '6532203021', 'txid': 'TX07893', 'signature': '53c620e5d5bf469e668d38bf13c5667d'}\n",
      "{'txid': 'TX08203', 'payer': 'A15415', 'payee': 'A20579', 'amount': 1595}\n",
      "submit: {'vid': '6532203021', 'txid': 'TX08203', 'signature': '8db5a2b38183ec8d0bae35721b7b3739'}\n",
      "{'txid': 'TX09999', 'payer': 'A71813', 'payee': 'A14086', 'amount': 1845}\n",
      "submit: {'vid': '6532203021', 'txid': 'TX09999', 'signature': 'b28eac217ab3c06c76cfdbc55d6bae24'}\n"
     ]
    },
    {
     "ename": "KeyboardInterrupt",
     "evalue": "",
     "output_type": "error",
     "traceback": [
      "\u001b[0;31m---------------------------------------------------------------------------\u001b[0m",
      "\u001b[0;31mKeyboardInterrupt\u001b[0m                         Traceback (most recent call last)",
      "Cell \u001b[0;32mIn[24], line 5\u001b[0m\n\u001b[1;32m      2\u001b[0m vid \u001b[38;5;241m=\u001b[39m \u001b[38;5;124m\"\u001b[39m\u001b[38;5;124m6532203021\u001b[39m\u001b[38;5;124m\"\u001b[39m\n\u001b[1;32m      4\u001b[0m \u001b[38;5;28mprint\u001b[39m(\u001b[38;5;124m'\u001b[39m\u001b[38;5;124mRunning TX Consumer\u001b[39m\u001b[38;5;124m'\u001b[39m)\n\u001b[0;32m----> 5\u001b[0m \u001b[38;5;28;43;01mfor\u001b[39;49;00m\u001b[43m \u001b[49m\u001b[43mmessage\u001b[49m\u001b[43m \u001b[49m\u001b[38;5;129;43;01min\u001b[39;49;00m\u001b[43m \u001b[49m\u001b[43mtxconsumer\u001b[49m\u001b[43m:\u001b[49m\n\u001b[1;32m      6\u001b[0m \u001b[43m    \u001b[49m\u001b[43mtxid\u001b[49m\u001b[43m \u001b[49m\u001b[38;5;241;43m=\u001b[39;49m\u001b[43m \u001b[49m\u001b[43mmessage\u001b[49m\u001b[38;5;241;43m.\u001b[39;49m\u001b[43mvalue\u001b[49m\u001b[43m[\u001b[49m\u001b[38;5;124;43m'\u001b[39;49m\u001b[38;5;124;43mtxid\u001b[39;49m\u001b[38;5;124;43m'\u001b[39;49m\u001b[43m]\u001b[49m\n\u001b[1;32m      7\u001b[0m \u001b[43m    \u001b[49m\u001b[43mpayer\u001b[49m\u001b[43m \u001b[49m\u001b[38;5;241;43m=\u001b[39;49m\u001b[43m \u001b[49m\u001b[43mmessage\u001b[49m\u001b[38;5;241;43m.\u001b[39;49m\u001b[43mvalue\u001b[49m\u001b[43m[\u001b[49m\u001b[38;5;124;43m'\u001b[39;49m\u001b[38;5;124;43mpayer\u001b[39;49m\u001b[38;5;124;43m'\u001b[39;49m\u001b[43m]\u001b[49m\n",
      "File \u001b[0;32m~/Code/courses/DATA-SCI/.venv/lib/python3.12/site-packages/kafka/consumer/group.py:1168\u001b[0m, in \u001b[0;36mKafkaConsumer.__next__\u001b[0;34m(self)\u001b[0m\n\u001b[1;32m   1166\u001b[0m     \u001b[38;5;28mself\u001b[39m\u001b[38;5;241m.\u001b[39m_iterator \u001b[38;5;241m=\u001b[39m \u001b[38;5;28mself\u001b[39m\u001b[38;5;241m.\u001b[39m_message_generator_v2()\n\u001b[1;32m   1167\u001b[0m \u001b[38;5;28;01mtry\u001b[39;00m:\n\u001b[0;32m-> 1168\u001b[0m     \u001b[38;5;28;01mreturn\u001b[39;00m \u001b[38;5;28;43mnext\u001b[39;49m\u001b[43m(\u001b[49m\u001b[38;5;28;43mself\u001b[39;49m\u001b[38;5;241;43m.\u001b[39;49m\u001b[43m_iterator\u001b[49m\u001b[43m)\u001b[49m\n\u001b[1;32m   1169\u001b[0m \u001b[38;5;28;01mexcept\u001b[39;00m \u001b[38;5;167;01mStopIteration\u001b[39;00m:\n\u001b[1;32m   1170\u001b[0m     \u001b[38;5;28mself\u001b[39m\u001b[38;5;241m.\u001b[39m_iterator \u001b[38;5;241m=\u001b[39m \u001b[38;5;28;01mNone\u001b[39;00m\n",
      "File \u001b[0;32m~/Code/courses/DATA-SCI/.venv/lib/python3.12/site-packages/kafka/consumer/group.py:1140\u001b[0m, in \u001b[0;36mKafkaConsumer._message_generator_v2\u001b[0;34m(self)\u001b[0m\n\u001b[1;32m   1138\u001b[0m \u001b[38;5;28;01mdef\u001b[39;00m\u001b[38;5;250m \u001b[39m\u001b[38;5;21m_message_generator_v2\u001b[39m(\u001b[38;5;28mself\u001b[39m):\n\u001b[1;32m   1139\u001b[0m     timeout_ms \u001b[38;5;241m=\u001b[39m \u001b[38;5;241m1000\u001b[39m \u001b[38;5;241m*\u001b[39m \u001b[38;5;28mmax\u001b[39m(\u001b[38;5;241m0\u001b[39m, \u001b[38;5;28mself\u001b[39m\u001b[38;5;241m.\u001b[39m_consumer_timeout \u001b[38;5;241m-\u001b[39m time\u001b[38;5;241m.\u001b[39mtime())\n\u001b[0;32m-> 1140\u001b[0m     record_map \u001b[38;5;241m=\u001b[39m \u001b[38;5;28;43mself\u001b[39;49m\u001b[38;5;241;43m.\u001b[39;49m\u001b[43mpoll\u001b[49m\u001b[43m(\u001b[49m\u001b[43mtimeout_ms\u001b[49m\u001b[38;5;241;43m=\u001b[39;49m\u001b[43mtimeout_ms\u001b[49m\u001b[43m,\u001b[49m\u001b[43m \u001b[49m\u001b[43mupdate_offsets\u001b[49m\u001b[38;5;241;43m=\u001b[39;49m\u001b[38;5;28;43;01mFalse\u001b[39;49;00m\u001b[43m)\u001b[49m\n\u001b[1;32m   1141\u001b[0m     \u001b[38;5;28;01mfor\u001b[39;00m tp, records \u001b[38;5;129;01min\u001b[39;00m six\u001b[38;5;241m.\u001b[39miteritems(record_map):\n\u001b[1;32m   1142\u001b[0m         \u001b[38;5;66;03m# Generators are stateful, and it is possible that the tp / records\u001b[39;00m\n\u001b[1;32m   1143\u001b[0m         \u001b[38;5;66;03m# here may become stale during iteration -- i.e., we seek to a\u001b[39;00m\n\u001b[1;32m   1144\u001b[0m         \u001b[38;5;66;03m# different offset, pause consumption, or lose assignment.\u001b[39;00m\n\u001b[1;32m   1145\u001b[0m         \u001b[38;5;28;01mfor\u001b[39;00m record \u001b[38;5;129;01min\u001b[39;00m records:\n\u001b[1;32m   1146\u001b[0m             \u001b[38;5;66;03m# is_fetchable(tp) should handle assignment changes and offset\u001b[39;00m\n\u001b[1;32m   1147\u001b[0m             \u001b[38;5;66;03m# resets; for all other changes (e.g., seeks) we'll rely on the\u001b[39;00m\n\u001b[1;32m   1148\u001b[0m             \u001b[38;5;66;03m# outer function destroying the existing iterator/generator\u001b[39;00m\n\u001b[1;32m   1149\u001b[0m             \u001b[38;5;66;03m# via self._iterator = None\u001b[39;00m\n",
      "File \u001b[0;32m~/Code/courses/DATA-SCI/.venv/lib/python3.12/site-packages/kafka/consumer/group.py:679\u001b[0m, in \u001b[0;36mKafkaConsumer.poll\u001b[0;34m(self, timeout_ms, max_records, update_offsets)\u001b[0m\n\u001b[1;32m    677\u001b[0m inner_timeout_ms \u001b[38;5;241m=\u001b[39m timeout_ms_fn(timeout_ms, \u001b[38;5;28;01mNone\u001b[39;00m)\n\u001b[1;32m    678\u001b[0m \u001b[38;5;28;01mwhile\u001b[39;00m \u001b[38;5;129;01mnot\u001b[39;00m \u001b[38;5;28mself\u001b[39m\u001b[38;5;241m.\u001b[39m_closed:\n\u001b[0;32m--> 679\u001b[0m     records \u001b[38;5;241m=\u001b[39m \u001b[38;5;28;43mself\u001b[39;49m\u001b[38;5;241;43m.\u001b[39;49m\u001b[43m_poll_once\u001b[49m\u001b[43m(\u001b[49m\u001b[43minner_timeout_ms\u001b[49m\u001b[43m(\u001b[49m\u001b[43m)\u001b[49m\u001b[43m,\u001b[49m\u001b[43m \u001b[49m\u001b[43mmax_records\u001b[49m\u001b[43m,\u001b[49m\u001b[43m \u001b[49m\u001b[43mupdate_offsets\u001b[49m\u001b[38;5;241;43m=\u001b[39;49m\u001b[43mupdate_offsets\u001b[49m\u001b[43m)\u001b[49m\n\u001b[1;32m    680\u001b[0m     \u001b[38;5;28;01mif\u001b[39;00m records:\n\u001b[1;32m    681\u001b[0m         \u001b[38;5;28;01mreturn\u001b[39;00m records\n",
      "File \u001b[0;32m~/Code/courses/DATA-SCI/.venv/lib/python3.12/site-packages/kafka/consumer/group.py:722\u001b[0m, in \u001b[0;36mKafkaConsumer._poll_once\u001b[0;34m(self, timeout_ms, max_records, update_offsets)\u001b[0m\n\u001b[1;32m    719\u001b[0m \u001b[38;5;28;01mif\u001b[39;00m records:\n\u001b[1;32m    720\u001b[0m     \u001b[38;5;28;01mreturn\u001b[39;00m records\n\u001b[0;32m--> 722\u001b[0m \u001b[38;5;28;43mself\u001b[39;49m\u001b[38;5;241;43m.\u001b[39;49m\u001b[43m_client\u001b[49m\u001b[38;5;241;43m.\u001b[39;49m\u001b[43mpoll\u001b[49m\u001b[43m(\u001b[49m\u001b[43mtimeout_ms\u001b[49m\u001b[38;5;241;43m=\u001b[39;49m\u001b[43minner_timeout_ms\u001b[49m\u001b[43m(\u001b[49m\u001b[38;5;28;43mself\u001b[39;49m\u001b[38;5;241;43m.\u001b[39;49m\u001b[43m_coordinator\u001b[49m\u001b[38;5;241;43m.\u001b[39;49m\u001b[43mtime_to_next_poll\u001b[49m\u001b[43m(\u001b[49m\u001b[43m)\u001b[49m\u001b[43m \u001b[49m\u001b[38;5;241;43m*\u001b[39;49m\u001b[43m \u001b[49m\u001b[38;5;241;43m1000\u001b[39;49m\u001b[43m)\u001b[49m\u001b[43m)\u001b[49m\n\u001b[1;32m    723\u001b[0m \u001b[38;5;66;03m# after the long poll, we should check whether the group needs to rebalance\u001b[39;00m\n\u001b[1;32m    724\u001b[0m \u001b[38;5;66;03m# prior to returning data so that the group can stabilize faster\u001b[39;00m\n\u001b[1;32m    725\u001b[0m \u001b[38;5;28;01mif\u001b[39;00m \u001b[38;5;28mself\u001b[39m\u001b[38;5;241m.\u001b[39m_coordinator\u001b[38;5;241m.\u001b[39mneed_rejoin():\n",
      "File \u001b[0;32m~/Code/courses/DATA-SCI/.venv/lib/python3.12/site-packages/kafka/client_async.py:683\u001b[0m, in \u001b[0;36mKafkaClient.poll\u001b[0;34m(self, timeout_ms, future)\u001b[0m\n\u001b[1;32m    676\u001b[0m         timeout \u001b[38;5;241m=\u001b[39m \u001b[38;5;28mmin\u001b[39m(\n\u001b[1;32m    677\u001b[0m             user_timeout_ms,\n\u001b[1;32m    678\u001b[0m             metadata_timeout_ms,\n\u001b[1;32m    679\u001b[0m             idle_connection_timeout_ms,\n\u001b[1;32m    680\u001b[0m             request_timeout_ms)\n\u001b[1;32m    681\u001b[0m         timeout \u001b[38;5;241m=\u001b[39m \u001b[38;5;28mmax\u001b[39m(\u001b[38;5;241m0\u001b[39m, timeout)  \u001b[38;5;66;03m# avoid negative timeouts\u001b[39;00m\n\u001b[0;32m--> 683\u001b[0m     \u001b[38;5;28;43mself\u001b[39;49m\u001b[38;5;241;43m.\u001b[39;49m\u001b[43m_poll\u001b[49m\u001b[43m(\u001b[49m\u001b[43mtimeout\u001b[49m\u001b[43m \u001b[49m\u001b[38;5;241;43m/\u001b[39;49m\u001b[43m \u001b[49m\u001b[38;5;241;43m1000\u001b[39;49m\u001b[43m)\u001b[49m\n\u001b[1;32m    685\u001b[0m \u001b[38;5;66;03m# called without the lock to avoid deadlock potential\u001b[39;00m\n\u001b[1;32m    686\u001b[0m \u001b[38;5;66;03m# if handlers need to acquire locks\u001b[39;00m\n\u001b[1;32m    687\u001b[0m responses\u001b[38;5;241m.\u001b[39mextend(\u001b[38;5;28mself\u001b[39m\u001b[38;5;241m.\u001b[39m_fire_pending_completed_requests())\n",
      "File \u001b[0;32m~/Code/courses/DATA-SCI/.venv/lib/python3.12/site-packages/kafka/client_async.py:726\u001b[0m, in \u001b[0;36mKafkaClient._poll\u001b[0;34m(self, timeout)\u001b[0m\n\u001b[1;32m    723\u001b[0m \u001b[38;5;28mself\u001b[39m\u001b[38;5;241m.\u001b[39m_register_send_sockets()\n\u001b[1;32m    725\u001b[0m start_select \u001b[38;5;241m=\u001b[39m time\u001b[38;5;241m.\u001b[39mtime()\n\u001b[0;32m--> 726\u001b[0m ready \u001b[38;5;241m=\u001b[39m \u001b[38;5;28;43mself\u001b[39;49m\u001b[38;5;241;43m.\u001b[39;49m\u001b[43m_selector\u001b[49m\u001b[38;5;241;43m.\u001b[39;49m\u001b[43mselect\u001b[49m\u001b[43m(\u001b[49m\u001b[43mtimeout\u001b[49m\u001b[43m)\u001b[49m\n\u001b[1;32m    727\u001b[0m end_select \u001b[38;5;241m=\u001b[39m time\u001b[38;5;241m.\u001b[39mtime()\n\u001b[1;32m    728\u001b[0m \u001b[38;5;28;01mif\u001b[39;00m \u001b[38;5;28mself\u001b[39m\u001b[38;5;241m.\u001b[39m_sensors:\n",
      "File \u001b[0;32m/Library/Frameworks/Python.framework/Versions/3.12/lib/python3.12/selectors.py:566\u001b[0m, in \u001b[0;36mKqueueSelector.select\u001b[0;34m(self, timeout)\u001b[0m\n\u001b[1;32m    564\u001b[0m ready \u001b[38;5;241m=\u001b[39m []\n\u001b[1;32m    565\u001b[0m \u001b[38;5;28;01mtry\u001b[39;00m:\n\u001b[0;32m--> 566\u001b[0m     kev_list \u001b[38;5;241m=\u001b[39m \u001b[38;5;28;43mself\u001b[39;49m\u001b[38;5;241;43m.\u001b[39;49m\u001b[43m_selector\u001b[49m\u001b[38;5;241;43m.\u001b[39;49m\u001b[43mcontrol\u001b[49m\u001b[43m(\u001b[49m\u001b[38;5;28;43;01mNone\u001b[39;49;00m\u001b[43m,\u001b[49m\u001b[43m \u001b[49m\u001b[43mmax_ev\u001b[49m\u001b[43m,\u001b[49m\u001b[43m \u001b[49m\u001b[43mtimeout\u001b[49m\u001b[43m)\u001b[49m\n\u001b[1;32m    567\u001b[0m \u001b[38;5;28;01mexcept\u001b[39;00m \u001b[38;5;167;01mInterruptedError\u001b[39;00m:\n\u001b[1;32m    568\u001b[0m     \u001b[38;5;28;01mreturn\u001b[39;00m ready\n",
      "\u001b[0;31mKeyboardInterrupt\u001b[0m: "
     ]
    }
   ],
   "source": [
    "token = \"idkman\"\n",
    "vid = \"6532203021\"\n",
    "\n",
    "print('Running TX Consumer')\n",
    "for message in txconsumer:\n",
    "    txid = message.value['txid']\n",
    "    payer = message.value['payer']\n",
    "    payee = message.value['payee']\n",
    "    amount = message.value['amount']\n",
    "\n",
    "    signature = gen_signature(txid, payer, payee, amount, token)\n",
    "    submit_data = {'vid': vid, 'txid': txid, 'signature': signature}\n",
    "    serialized_submit_data = serialize(submitschema, submit_data)\n",
    "\n",
    "    producer.send('submit', serialized_submit_data)\n",
    "    print(message.value)\n",
    "    print(f\"submit: {submit_data}\")"
   ]
  },
  {
   "cell_type": "code",
   "execution_count": null,
   "id": "30d6f446",
   "metadata": {},
   "outputs": [],
   "source": []
  }
 ],
 "metadata": {
  "kernelspec": {
   "display_name": ".venv",
   "language": "python",
   "name": "python3"
  },
  "language_info": {
   "codemirror_mode": {
    "name": "ipython",
    "version": 3
   },
   "file_extension": ".py",
   "mimetype": "text/x-python",
   "name": "python",
   "nbconvert_exporter": "python",
   "pygments_lexer": "ipython3",
   "version": "3.12.5"
  }
 },
 "nbformat": 4,
 "nbformat_minor": 5
}
