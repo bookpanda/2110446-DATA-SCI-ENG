{
 "cells": [
  {
   "cell_type": "code",
   "execution_count": 1,
   "metadata": {},
   "outputs": [],
   "source": [
    "import threading\n",
    "import json\n",
    "import time\n",
    "from kafka import KafkaProducer, KafkaConsumer"
   ]
  },
  {
   "cell_type": "code",
   "execution_count": 2,
   "metadata": {},
   "outputs": [],
   "source": [
    "class Counter:\n",
    "    def __init__(self):\n",
    "        self._lock = threading.Lock()\n",
    "        self.reset()\n",
    "        \n",
    "    def reset(self):\n",
    "        with self._lock:\n",
    "            self.counter = 0\n",
    "            \n",
    "    def incr(self, value):\n",
    "        with self._lock:\n",
    "            self.counter += value\n",
    "            \n",
    "    def get(self):\n",
    "        return self.counter"
   ]
  },
  {
   "cell_type": "code",
   "execution_count": 3,
   "metadata": {},
   "outputs": [],
   "source": [
    "# Connect to kafka broker running in your local host (docker). Change this to your kafka broker if needed\n",
    "kafka_broker = 'localhost:9092'\n",
    "data_topic = 'data'\n",
    "notification_topic = 'notification'"
   ]
  },
  {
   "cell_type": "code",
   "execution_count": 4,
   "metadata": {},
   "outputs": [],
   "source": [
    "producer = KafkaProducer(bootstrap_servers=[kafka_broker])"
   ]
  },
  {
   "cell_type": "code",
   "execution_count": 5,
   "metadata": {},
   "outputs": [],
   "source": [
    "consumer = KafkaConsumer(\n",
    "     bootstrap_servers=[kafka_broker],\n",
    "     enable_auto_commit=True,\n",
    "     value_deserializer=lambda x: x.decode('utf-8'))\n",
    "consumer.subscribe(data_topic)"
   ]
  },
  {
   "cell_type": "code",
   "execution_count": 6,
   "metadata": {},
   "outputs": [],
   "source": [
    "def monitor_thread(interval, counters, topic):\n",
    "    print('[monitor] starting')\n",
    "    while True:\n",
    "        time.sleep(interval)\n",
    "        for id in counters:\n",
    "            count = counters[id].get()\n",
    "            counters[id].reset()\n",
    "            s = '{} - {} messages during last {} seconds'.format(id, count, interval)\n",
    "            producer.send(topic, s.encode('utf-8'))\n",
    "        print('send notificiation', flush=True)"
   ]
  },
  {
   "cell_type": "code",
   "execution_count": null,
   "metadata": {},
   "outputs": [
    {
     "name": "stdout",
     "output_type": "stream",
     "text": [
      "[monitor] starting\n"
     ]
    },
    {
     "name": "stdout",
     "output_type": "stream",
     "text": [
      "send notificiation\n",
      "send notificiation\n",
      "send notificiation\n",
      "send notificiation\n",
      "send notificiation\n",
      "send notificiation\n",
      "send notificiation\n",
      "send notificiation\n",
      "send notificiation\n",
      "send notificiation\n",
      "send notificiation\n",
      "send notificiation\n",
      "send notificiation\n",
      "send notificiation\n",
      "send notificiation\n",
      "send notificiation\n",
      "send notificiation\n",
      "send notificiation\n",
      "send notificiation\n",
      "send notificiation\n",
      "send notificiation\n",
      "send notificiation\n",
      "send notificiation\n",
      "send notificiation\n",
      "send notificiation\n",
      "send notificiation\n",
      "send notificiation\n",
      "send notificiation\n",
      "send notificiation\n",
      "send notificiation\n",
      "send notificiation\n",
      "send notificiation\n",
      "send notificiation\n",
      "send notificiation\n",
      "send notificiation\n",
      "send notificiation\n"
     ]
    }
   ],
   "source": [
    "monitor_interval = 10\n",
    "counters = {}\n",
    "monitor = threading.Thread(target=monitor_thread, args=(monitor_interval, counters, notification_topic), daemon=True)\n",
    "monitor.start()"
   ]
  },
  {
   "cell_type": "code",
   "execution_count": 11,
   "metadata": {
    "scrolled": true
   },
   "outputs": [
    {
     "name": "stdout",
     "output_type": "stream",
     "text": [
      "{'id': 'sensor-B', 'timestamp': 1742892516, 'value': 29}\n",
      "{'id': 'sensor-B', 'timestamp': 1742892518, 'value': 32}\n",
      "{'id': 'sensor-A', 'timestamp': 1742892518, 'value': 15}\n",
      "{'id': 'sensor-B', 'timestamp': 1742892520, 'value': 31}\n",
      "{'id': 'sensor-A', 'timestamp': 1742892521, 'value': 34}\n",
      "{'id': 'sensor-B', 'timestamp': 1742892522, 'value': 30}\n",
      "{'id': 'sensor-B', 'timestamp': 1742892524, 'value': 30}\n",
      "{'id': 'sensor-A', 'timestamp': 1742892524, 'value': 24}\n",
      "{'id': 'sensor-B', 'timestamp': 1742892526, 'value': 28}\n",
      "{'id': 'sensor-A', 'timestamp': 1742892527, 'value': 21}\n",
      "{'id': 'sensor-B', 'timestamp': 1742892528, 'value': 29}\n",
      "{'id': 'sensor-B', 'timestamp': 1742892530, 'value': 29}\n",
      "{'id': 'sensor-A', 'timestamp': 1742892531, 'value': 23}\n",
      "{'id': 'sensor-B', 'timestamp': 1742892532, 'value': 31}\n",
      "{'id': 'sensor-A', 'timestamp': 1742892533, 'value': 27}\n",
      "{'id': 'sensor-B', 'timestamp': 1742892535, 'value': 31}\n",
      "{'id': 'sensor-A', 'timestamp': 1742892537, 'value': 16}\n",
      "{'id': 'sensor-B', 'timestamp': 1742892538, 'value': 28}\n",
      "{'id': 'sensor-A', 'timestamp': 1742892540, 'value': 35}\n",
      "{'id': 'sensor-B', 'timestamp': 1742892541, 'value': 30}\n",
      "{'id': 'sensor-B', 'timestamp': 1742892543, 'value': 30}\n",
      "{'id': 'sensor-A', 'timestamp': 1742892544, 'value': 19}\n",
      "{'id': 'sensor-B', 'timestamp': 1742892545, 'value': 30}\n",
      "{'id': 'sensor-A', 'timestamp': 1742892546, 'value': 27}\n",
      "{'id': 'sensor-B', 'timestamp': 1742892548, 'value': 32}\n",
      "{'id': 'sensor-A', 'timestamp': 1742892548, 'value': 29}\n",
      "{'id': 'sensor-B', 'timestamp': 1742892550, 'value': 27}\n",
      "{'id': 'sensor-A', 'timestamp': 1742892550, 'value': 34}\n",
      "{'id': 'sensor-B', 'timestamp': 1742892552, 'value': 28}\n",
      "{'id': 'sensor-A', 'timestamp': 1742892552, 'value': 28}\n",
      "{'id': 'sensor-B', 'timestamp': 1742892554, 'value': 31}\n",
      "{'id': 'sensor-A', 'timestamp': 1742892555, 'value': 14}\n",
      "{'id': 'sensor-B', 'timestamp': 1742892556, 'value': 29}\n",
      "{'id': 'sensor-B', 'timestamp': 1742892559, 'value': 29}\n",
      "{'id': 'sensor-A', 'timestamp': 1742892559, 'value': 34}\n",
      "{'id': 'sensor-B', 'timestamp': 1742892561, 'value': 32}\n",
      "{'id': 'sensor-A', 'timestamp': 1742892562, 'value': 13}\n",
      "{'id': 'sensor-B', 'timestamp': 1742892563, 'value': 27}\n",
      "{'id': 'sensor-B', 'timestamp': 1742892565, 'value': 28}\n",
      "{'id': 'sensor-A', 'timestamp': 1742892565, 'value': 16}\n",
      "{'id': 'sensor-B', 'timestamp': 1742892567, 'value': 30}\n",
      "{'id': 'sensor-B', 'timestamp': 1742892568, 'value': 30}\n",
      "{'id': 'sensor-A', 'timestamp': 1742892568, 'value': 39}\n",
      "{'id': 'sensor-B', 'timestamp': 1742892571, 'value': 32}\n",
      "{'id': 'sensor-A', 'timestamp': 1742892571, 'value': 24}\n",
      "{'id': 'sensor-B', 'timestamp': 1742892573, 'value': 30}\n",
      "{'id': 'sensor-B', 'timestamp': 1742892575, 'value': 32}\n",
      "{'id': 'sensor-A', 'timestamp': 1742892575, 'value': 32}\n",
      "{'id': 'sensor-B', 'timestamp': 1742892577, 'value': 32}\n",
      "{'id': 'sensor-A', 'timestamp': 1742892578, 'value': 22}\n",
      "{'id': 'sensor-B', 'timestamp': 1742892579, 'value': 32}\n",
      "{'id': 'sensor-A', 'timestamp': 1742892580, 'value': 28}\n",
      "{'id': 'sensor-B', 'timestamp': 1742892581, 'value': 28}\n",
      "{'id': 'sensor-A', 'timestamp': 1742892582, 'value': 39}\n",
      "{'id': 'sensor-B', 'timestamp': 1742892583, 'value': 32}\n",
      "{'id': 'sensor-B', 'timestamp': 1742892584, 'value': 32}\n",
      "{'id': 'sensor-A', 'timestamp': 1742892584, 'value': 29}\n",
      "{'id': 'sensor-B', 'timestamp': 1742892586, 'value': 29}\n",
      "{'id': 'sensor-A', 'timestamp': 1742892587, 'value': 12}\n",
      "{'id': 'sensor-B', 'timestamp': 1742892588, 'value': 29}\n",
      "{'id': 'sensor-B', 'timestamp': 1742892590, 'value': 29}\n",
      "{'id': 'sensor-A', 'timestamp': 1742892591, 'value': 36}\n",
      "{'id': 'sensor-B', 'timestamp': 1742892593, 'value': 29}\n",
      "{'id': 'sensor-A', 'timestamp': 1742892593, 'value': 12}\n",
      "{'id': 'sensor-B', 'timestamp': 1742892596, 'value': 30}\n",
      "{'id': 'sensor-A', 'timestamp': 1742892596, 'value': 26}\n",
      "{'id': 'sensor-A', 'timestamp': 1742892598, 'value': 29}\n",
      "{'id': 'sensor-B', 'timestamp': 1742892599, 'value': 29}\n",
      "{'id': 'sensor-B', 'timestamp': 1742892601, 'value': 30}\n",
      "{'id': 'sensor-A', 'timestamp': 1742892601, 'value': 13}\n",
      "{'id': 'sensor-B', 'timestamp': 1742892602, 'value': 30}\n",
      "{'id': 'sensor-B', 'timestamp': 1742892604, 'value': 29}\n",
      "{'id': 'sensor-A', 'timestamp': 1742892604, 'value': 15}\n",
      "{'id': 'sensor-B', 'timestamp': 1742892606, 'value': 30}\n",
      "{'id': 'sensor-A', 'timestamp': 1742892607, 'value': 21}\n",
      "{'id': 'sensor-B', 'timestamp': 1742892608, 'value': 29}\n",
      "{'id': 'sensor-A', 'timestamp': 1742892609, 'value': 12}\n",
      "{'id': 'sensor-B', 'timestamp': 1742892610, 'value': 31}\n",
      "{'id': 'sensor-A', 'timestamp': 1742892611, 'value': 40}\n",
      "{'id': 'sensor-B', 'timestamp': 1742892612, 'value': 33}\n",
      "{'id': 'sensor-B', 'timestamp': 1742892614, 'value': 30}\n",
      "{'id': 'sensor-A', 'timestamp': 1742892615, 'value': 14}\n",
      "{'id': 'sensor-B', 'timestamp': 1742892616, 'value': 32}\n",
      "{'id': 'sensor-B', 'timestamp': 1742892618, 'value': 30}\n",
      "{'id': 'sensor-A', 'timestamp': 1742892619, 'value': 26}\n",
      "{'id': 'sensor-B', 'timestamp': 1742892620, 'value': 31}\n",
      "{'id': 'sensor-B', 'timestamp': 1742892621, 'value': 31}\n",
      "{'id': 'sensor-B', 'timestamp': 1742892622, 'value': 30}\n",
      "{'id': 'sensor-A', 'timestamp': 1742892622, 'value': 35}\n",
      "{'id': 'sensor-B', 'timestamp': 1742892625, 'value': 32}\n",
      "{'id': 'sensor-A', 'timestamp': 1742892625, 'value': 21}\n",
      "{'id': 'sensor-A', 'timestamp': 1742892627, 'value': 36}\n",
      "{'id': 'sensor-B', 'timestamp': 1742892628, 'value': 29}\n",
      "{'id': 'sensor-A', 'timestamp': 1742892629, 'value': 22}\n",
      "{'id': 'sensor-B', 'timestamp': 1742892630, 'value': 28}\n",
      "{'id': 'sensor-B', 'timestamp': 1742892631, 'value': 29}\n",
      "{'id': 'sensor-A', 'timestamp': 1742892631, 'value': 27}\n",
      "{'id': 'sensor-B', 'timestamp': 1742892633, 'value': 31}\n",
      "{'id': 'sensor-A', 'timestamp': 1742892633, 'value': 31}\n"
     ]
    },
    {
     "ename": "KeyboardInterrupt",
     "evalue": "",
     "output_type": "error",
     "traceback": [
      "\u001b[0;31m---------------------------------------------------------------------------\u001b[0m",
      "\u001b[0;31mKeyboardInterrupt\u001b[0m                         Traceback (most recent call last)",
      "Cell \u001b[0;32mIn[11], line 1\u001b[0m\n\u001b[0;32m----> 1\u001b[0m \u001b[38;5;28;43;01mfor\u001b[39;49;00m\u001b[43m \u001b[49m\u001b[43mmessage\u001b[49m\u001b[43m \u001b[49m\u001b[38;5;129;43;01min\u001b[39;49;00m\u001b[43m \u001b[49m\u001b[43mconsumer\u001b[49m\u001b[43m:\u001b[49m\n\u001b[1;32m      2\u001b[0m \u001b[43m    \u001b[49m\u001b[43mm\u001b[49m\u001b[43m \u001b[49m\u001b[38;5;241;43m=\u001b[39;49m\u001b[43m \u001b[49m\u001b[43mmessage\u001b[49m\u001b[38;5;241;43m.\u001b[39;49m\u001b[43mvalue\u001b[49m\n\u001b[1;32m      3\u001b[0m \u001b[43m    \u001b[49m\u001b[43mdata\u001b[49m\u001b[43m \u001b[49m\u001b[38;5;241;43m=\u001b[39;49m\u001b[43m \u001b[49m\u001b[43mjson\u001b[49m\u001b[38;5;241;43m.\u001b[39;49m\u001b[43mloads\u001b[49m\u001b[43m(\u001b[49m\u001b[43mm\u001b[49m\u001b[43m)\u001b[49m\n",
      "File \u001b[0;32m~/Code/courses/DATA-SCI/.venv/lib/python3.12/site-packages/kafka/consumer/group.py:1168\u001b[0m, in \u001b[0;36mKafkaConsumer.__next__\u001b[0;34m(self)\u001b[0m\n\u001b[1;32m   1166\u001b[0m     \u001b[38;5;28mself\u001b[39m\u001b[38;5;241m.\u001b[39m_iterator \u001b[38;5;241m=\u001b[39m \u001b[38;5;28mself\u001b[39m\u001b[38;5;241m.\u001b[39m_message_generator_v2()\n\u001b[1;32m   1167\u001b[0m \u001b[38;5;28;01mtry\u001b[39;00m:\n\u001b[0;32m-> 1168\u001b[0m     \u001b[38;5;28;01mreturn\u001b[39;00m \u001b[38;5;28;43mnext\u001b[39;49m\u001b[43m(\u001b[49m\u001b[38;5;28;43mself\u001b[39;49m\u001b[38;5;241;43m.\u001b[39;49m\u001b[43m_iterator\u001b[49m\u001b[43m)\u001b[49m\n\u001b[1;32m   1169\u001b[0m \u001b[38;5;28;01mexcept\u001b[39;00m \u001b[38;5;167;01mStopIteration\u001b[39;00m:\n\u001b[1;32m   1170\u001b[0m     \u001b[38;5;28mself\u001b[39m\u001b[38;5;241m.\u001b[39m_iterator \u001b[38;5;241m=\u001b[39m \u001b[38;5;28;01mNone\u001b[39;00m\n",
      "File \u001b[0;32m~/Code/courses/DATA-SCI/.venv/lib/python3.12/site-packages/kafka/consumer/group.py:1140\u001b[0m, in \u001b[0;36mKafkaConsumer._message_generator_v2\u001b[0;34m(self)\u001b[0m\n\u001b[1;32m   1138\u001b[0m \u001b[38;5;28;01mdef\u001b[39;00m\u001b[38;5;250m \u001b[39m\u001b[38;5;21m_message_generator_v2\u001b[39m(\u001b[38;5;28mself\u001b[39m):\n\u001b[1;32m   1139\u001b[0m     timeout_ms \u001b[38;5;241m=\u001b[39m \u001b[38;5;241m1000\u001b[39m \u001b[38;5;241m*\u001b[39m \u001b[38;5;28mmax\u001b[39m(\u001b[38;5;241m0\u001b[39m, \u001b[38;5;28mself\u001b[39m\u001b[38;5;241m.\u001b[39m_consumer_timeout \u001b[38;5;241m-\u001b[39m time\u001b[38;5;241m.\u001b[39mtime())\n\u001b[0;32m-> 1140\u001b[0m     record_map \u001b[38;5;241m=\u001b[39m \u001b[38;5;28;43mself\u001b[39;49m\u001b[38;5;241;43m.\u001b[39;49m\u001b[43mpoll\u001b[49m\u001b[43m(\u001b[49m\u001b[43mtimeout_ms\u001b[49m\u001b[38;5;241;43m=\u001b[39;49m\u001b[43mtimeout_ms\u001b[49m\u001b[43m,\u001b[49m\u001b[43m \u001b[49m\u001b[43mupdate_offsets\u001b[49m\u001b[38;5;241;43m=\u001b[39;49m\u001b[38;5;28;43;01mFalse\u001b[39;49;00m\u001b[43m)\u001b[49m\n\u001b[1;32m   1141\u001b[0m     \u001b[38;5;28;01mfor\u001b[39;00m tp, records \u001b[38;5;129;01min\u001b[39;00m six\u001b[38;5;241m.\u001b[39miteritems(record_map):\n\u001b[1;32m   1142\u001b[0m         \u001b[38;5;66;03m# Generators are stateful, and it is possible that the tp / records\u001b[39;00m\n\u001b[1;32m   1143\u001b[0m         \u001b[38;5;66;03m# here may become stale during iteration -- i.e., we seek to a\u001b[39;00m\n\u001b[1;32m   1144\u001b[0m         \u001b[38;5;66;03m# different offset, pause consumption, or lose assignment.\u001b[39;00m\n\u001b[1;32m   1145\u001b[0m         \u001b[38;5;28;01mfor\u001b[39;00m record \u001b[38;5;129;01min\u001b[39;00m records:\n\u001b[1;32m   1146\u001b[0m             \u001b[38;5;66;03m# is_fetchable(tp) should handle assignment changes and offset\u001b[39;00m\n\u001b[1;32m   1147\u001b[0m             \u001b[38;5;66;03m# resets; for all other changes (e.g., seeks) we'll rely on the\u001b[39;00m\n\u001b[1;32m   1148\u001b[0m             \u001b[38;5;66;03m# outer function destroying the existing iterator/generator\u001b[39;00m\n\u001b[1;32m   1149\u001b[0m             \u001b[38;5;66;03m# via self._iterator = None\u001b[39;00m\n",
      "File \u001b[0;32m~/Code/courses/DATA-SCI/.venv/lib/python3.12/site-packages/kafka/consumer/group.py:679\u001b[0m, in \u001b[0;36mKafkaConsumer.poll\u001b[0;34m(self, timeout_ms, max_records, update_offsets)\u001b[0m\n\u001b[1;32m    677\u001b[0m inner_timeout_ms \u001b[38;5;241m=\u001b[39m timeout_ms_fn(timeout_ms, \u001b[38;5;28;01mNone\u001b[39;00m)\n\u001b[1;32m    678\u001b[0m \u001b[38;5;28;01mwhile\u001b[39;00m \u001b[38;5;129;01mnot\u001b[39;00m \u001b[38;5;28mself\u001b[39m\u001b[38;5;241m.\u001b[39m_closed:\n\u001b[0;32m--> 679\u001b[0m     records \u001b[38;5;241m=\u001b[39m \u001b[38;5;28;43mself\u001b[39;49m\u001b[38;5;241;43m.\u001b[39;49m\u001b[43m_poll_once\u001b[49m\u001b[43m(\u001b[49m\u001b[43minner_timeout_ms\u001b[49m\u001b[43m(\u001b[49m\u001b[43m)\u001b[49m\u001b[43m,\u001b[49m\u001b[43m \u001b[49m\u001b[43mmax_records\u001b[49m\u001b[43m,\u001b[49m\u001b[43m \u001b[49m\u001b[43mupdate_offsets\u001b[49m\u001b[38;5;241;43m=\u001b[39;49m\u001b[43mupdate_offsets\u001b[49m\u001b[43m)\u001b[49m\n\u001b[1;32m    680\u001b[0m     \u001b[38;5;28;01mif\u001b[39;00m records:\n\u001b[1;32m    681\u001b[0m         \u001b[38;5;28;01mreturn\u001b[39;00m records\n",
      "File \u001b[0;32m~/Code/courses/DATA-SCI/.venv/lib/python3.12/site-packages/kafka/consumer/group.py:722\u001b[0m, in \u001b[0;36mKafkaConsumer._poll_once\u001b[0;34m(self, timeout_ms, max_records, update_offsets)\u001b[0m\n\u001b[1;32m    719\u001b[0m \u001b[38;5;28;01mif\u001b[39;00m records:\n\u001b[1;32m    720\u001b[0m     \u001b[38;5;28;01mreturn\u001b[39;00m records\n\u001b[0;32m--> 722\u001b[0m \u001b[38;5;28;43mself\u001b[39;49m\u001b[38;5;241;43m.\u001b[39;49m\u001b[43m_client\u001b[49m\u001b[38;5;241;43m.\u001b[39;49m\u001b[43mpoll\u001b[49m\u001b[43m(\u001b[49m\u001b[43mtimeout_ms\u001b[49m\u001b[38;5;241;43m=\u001b[39;49m\u001b[43minner_timeout_ms\u001b[49m\u001b[43m(\u001b[49m\u001b[38;5;28;43mself\u001b[39;49m\u001b[38;5;241;43m.\u001b[39;49m\u001b[43m_coordinator\u001b[49m\u001b[38;5;241;43m.\u001b[39;49m\u001b[43mtime_to_next_poll\u001b[49m\u001b[43m(\u001b[49m\u001b[43m)\u001b[49m\u001b[43m \u001b[49m\u001b[38;5;241;43m*\u001b[39;49m\u001b[43m \u001b[49m\u001b[38;5;241;43m1000\u001b[39;49m\u001b[43m)\u001b[49m\u001b[43m)\u001b[49m\n\u001b[1;32m    723\u001b[0m \u001b[38;5;66;03m# after the long poll, we should check whether the group needs to rebalance\u001b[39;00m\n\u001b[1;32m    724\u001b[0m \u001b[38;5;66;03m# prior to returning data so that the group can stabilize faster\u001b[39;00m\n\u001b[1;32m    725\u001b[0m \u001b[38;5;28;01mif\u001b[39;00m \u001b[38;5;28mself\u001b[39m\u001b[38;5;241m.\u001b[39m_coordinator\u001b[38;5;241m.\u001b[39mneed_rejoin():\n",
      "File \u001b[0;32m~/Code/courses/DATA-SCI/.venv/lib/python3.12/site-packages/kafka/client_async.py:683\u001b[0m, in \u001b[0;36mKafkaClient.poll\u001b[0;34m(self, timeout_ms, future)\u001b[0m\n\u001b[1;32m    676\u001b[0m         timeout \u001b[38;5;241m=\u001b[39m \u001b[38;5;28mmin\u001b[39m(\n\u001b[1;32m    677\u001b[0m             user_timeout_ms,\n\u001b[1;32m    678\u001b[0m             metadata_timeout_ms,\n\u001b[1;32m    679\u001b[0m             idle_connection_timeout_ms,\n\u001b[1;32m    680\u001b[0m             request_timeout_ms)\n\u001b[1;32m    681\u001b[0m         timeout \u001b[38;5;241m=\u001b[39m \u001b[38;5;28mmax\u001b[39m(\u001b[38;5;241m0\u001b[39m, timeout)  \u001b[38;5;66;03m# avoid negative timeouts\u001b[39;00m\n\u001b[0;32m--> 683\u001b[0m     \u001b[38;5;28;43mself\u001b[39;49m\u001b[38;5;241;43m.\u001b[39;49m\u001b[43m_poll\u001b[49m\u001b[43m(\u001b[49m\u001b[43mtimeout\u001b[49m\u001b[43m \u001b[49m\u001b[38;5;241;43m/\u001b[39;49m\u001b[43m \u001b[49m\u001b[38;5;241;43m1000\u001b[39;49m\u001b[43m)\u001b[49m\n\u001b[1;32m    685\u001b[0m \u001b[38;5;66;03m# called without the lock to avoid deadlock potential\u001b[39;00m\n\u001b[1;32m    686\u001b[0m \u001b[38;5;66;03m# if handlers need to acquire locks\u001b[39;00m\n\u001b[1;32m    687\u001b[0m responses\u001b[38;5;241m.\u001b[39mextend(\u001b[38;5;28mself\u001b[39m\u001b[38;5;241m.\u001b[39m_fire_pending_completed_requests())\n",
      "File \u001b[0;32m~/Code/courses/DATA-SCI/.venv/lib/python3.12/site-packages/kafka/client_async.py:726\u001b[0m, in \u001b[0;36mKafkaClient._poll\u001b[0;34m(self, timeout)\u001b[0m\n\u001b[1;32m    723\u001b[0m \u001b[38;5;28mself\u001b[39m\u001b[38;5;241m.\u001b[39m_register_send_sockets()\n\u001b[1;32m    725\u001b[0m start_select \u001b[38;5;241m=\u001b[39m time\u001b[38;5;241m.\u001b[39mtime()\n\u001b[0;32m--> 726\u001b[0m ready \u001b[38;5;241m=\u001b[39m \u001b[38;5;28;43mself\u001b[39;49m\u001b[38;5;241;43m.\u001b[39;49m\u001b[43m_selector\u001b[49m\u001b[38;5;241;43m.\u001b[39;49m\u001b[43mselect\u001b[49m\u001b[43m(\u001b[49m\u001b[43mtimeout\u001b[49m\u001b[43m)\u001b[49m\n\u001b[1;32m    727\u001b[0m end_select \u001b[38;5;241m=\u001b[39m time\u001b[38;5;241m.\u001b[39mtime()\n\u001b[1;32m    728\u001b[0m \u001b[38;5;28;01mif\u001b[39;00m \u001b[38;5;28mself\u001b[39m\u001b[38;5;241m.\u001b[39m_sensors:\n",
      "File \u001b[0;32m/Library/Frameworks/Python.framework/Versions/3.12/lib/python3.12/selectors.py:566\u001b[0m, in \u001b[0;36mKqueueSelector.select\u001b[0;34m(self, timeout)\u001b[0m\n\u001b[1;32m    564\u001b[0m ready \u001b[38;5;241m=\u001b[39m []\n\u001b[1;32m    565\u001b[0m \u001b[38;5;28;01mtry\u001b[39;00m:\n\u001b[0;32m--> 566\u001b[0m     kev_list \u001b[38;5;241m=\u001b[39m \u001b[38;5;28;43mself\u001b[39;49m\u001b[38;5;241;43m.\u001b[39;49m\u001b[43m_selector\u001b[49m\u001b[38;5;241;43m.\u001b[39;49m\u001b[43mcontrol\u001b[49m\u001b[43m(\u001b[49m\u001b[38;5;28;43;01mNone\u001b[39;49;00m\u001b[43m,\u001b[49m\u001b[43m \u001b[49m\u001b[43mmax_ev\u001b[49m\u001b[43m,\u001b[49m\u001b[43m \u001b[49m\u001b[43mtimeout\u001b[49m\u001b[43m)\u001b[49m\n\u001b[1;32m    567\u001b[0m \u001b[38;5;28;01mexcept\u001b[39;00m \u001b[38;5;167;01mInterruptedError\u001b[39;00m:\n\u001b[1;32m    568\u001b[0m     \u001b[38;5;28;01mreturn\u001b[39;00m ready\n",
      "\u001b[0;31mKeyboardInterrupt\u001b[0m: "
     ]
    }
   ],
   "source": [
    "for message in consumer:\n",
    "    m = message.value\n",
    "    data = json.loads(m)\n",
    "    if 'id' in data:\n",
    "        print(data, flush=True)\n",
    "        if data['id'] not in counters:\n",
    "            counters[data['id']] = Counter()\n",
    "        counters[data['id']].incr(1)\n",
    "    else:\n",
    "        print(data, flush=True)"
   ]
  },
  {
   "cell_type": "code",
   "execution_count": null,
   "metadata": {},
   "outputs": [],
   "source": []
  }
 ],
 "metadata": {
  "kernelspec": {
   "display_name": ".venv",
   "language": "python",
   "name": "python3"
  },
  "language_info": {
   "codemirror_mode": {
    "name": "ipython",
    "version": 3
   },
   "file_extension": ".py",
   "mimetype": "text/x-python",
   "name": "python",
   "nbconvert_exporter": "python",
   "pygments_lexer": "ipython3",
   "version": "3.12.5"
  },
  "toc": {
   "base_numbering": 1,
   "nav_menu": {},
   "number_sections": true,
   "sideBar": true,
   "skip_h1_title": false,
   "title_cell": "Table of Contents",
   "title_sidebar": "Contents",
   "toc_cell": false,
   "toc_position": {},
   "toc_section_display": true,
   "toc_window_display": false
  },
  "varInspector": {
   "cols": {
    "lenName": 16,
    "lenType": 16,
    "lenVar": 40
   },
   "kernels_config": {
    "python": {
     "delete_cmd_postfix": "",
     "delete_cmd_prefix": "del ",
     "library": "var_list.py",
     "varRefreshCmd": "print(var_dic_list())"
    },
    "r": {
     "delete_cmd_postfix": ") ",
     "delete_cmd_prefix": "rm(",
     "library": "var_list.r",
     "varRefreshCmd": "cat(var_dic_list()) "
    }
   },
   "types_to_exclude": [
    "module",
    "function",
    "builtin_function_or_method",
    "instance",
    "_Feature"
   ],
   "window_display": false
  }
 },
 "nbformat": 4,
 "nbformat_minor": 4
}
